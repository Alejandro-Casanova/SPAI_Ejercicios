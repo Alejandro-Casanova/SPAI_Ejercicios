{

 "cells": [

  {

   "cell_type": "code",

   "execution_count": 1,

   "id": "49e14336",

   "metadata": {

    "ExecuteTime": {

     "end_time": "2023-09-29T18:04:11.865179Z",

     "start_time": "2023-09-29T18:04:09.064676Z"

    },

    "scrolled": true

   },

   "outputs": [

    {

     "name": "stdout",

     "output_type": "stream",

     "text": [

      "23/09/29 20:04:10 WARN Utils: Your hostname, vm resolves to a loopback address: 127.0.1.1; using 10.0.2.15 instead (on interface enp0s3)\n",

      "23/09/29 20:04:10 WARN Utils: Set SPARK_LOCAL_IP if you need to bind to another address\n"

     ]

    },

    {

     "name": "stderr",

     "output_type": "stream",

     "text": [

      "Setting default log level to \"WARN\".\n",

      "To adjust logging level use sc.setLogLevel(newLevel). For SparkR, use setLogLevel(newLevel).\n"

     ]

    },

    {

     "name": "stdout",

     "output_type": "stream",

     "text": [

      "23/09/29 20:04:10 WARN NativeCodeLoader: Unable to load native-hadoop library for your platform... using builtin-java classes where applicable\n",

      "23/09/29 20:04:11 WARN Utils: Service 'SparkUI' could not bind on port 4040. Attempting port 4041.\n",

      "23/09/29 20:04:11 WARN Utils: Service 'SparkUI' could not bind on port 4041. Attempting port 4042.\n"

     ]

    }

   ],

   "source": [

    "import findspark\n",

    "from pyspark import SparkContext\n",

    "import numpy as np\n",

    "import pandas as pd\n",

    "\n",

    "findspark.init()\n",

    "sc = SparkContext(\"local[*]\", \"Name of the Program\")"

   ]

  },

  {

   "cell_type": "code",

   "execution_count": 2,

   "id": "72810292",

   "metadata": {

    "ExecuteTime": {

     "end_time": "2023-09-29T18:04:12.415822Z",

     "start_time": "2023-09-29T18:04:11.867854Z"

    },

    "scrolled": true

   },

   "outputs": [],

   "source": [

    "# Read file\n",

    "rdd1 = sc.textFile(\"data_ok.csv\")"

   ]

  },

  {

   "cell_type": "code",

   "execution_count": 3,

   "id": "b6f3822c",

   "metadata": {

    "ExecuteTime": {

     "end_time": "2023-09-29T18:04:14.420098Z",

     "start_time": "2023-09-29T18:04:12.417300Z"

    }

   },

   "outputs": [

    {

     "name": "stderr",

     "output_type": "stream",

     "text": [

      "\r",

      "[Stage 0:>                                                          (0 + 2) / 2]\r",

      "\r",

      "                                                                                \r"

     ]

    },

    {

     "data": {

      "text/html": [

       "<style type=\"text/css\">\n",

       "</style>\n",

       "<table id=\"T_0a507_\">\n",

       "  <caption>Mean for all Columns:</caption>\n",

       "  <thead>\n",

       "    <tr>\n",

       "      <th class=\"blank level0\" >&nbsp;</th>\n",

       "      <th class=\"col_heading level0 col0\" >myResult</th>\n",

       "      <th class=\"col_heading level0 col1\" >reference</th>\n",

       "    </tr>\n",

       "  </thead>\n",

       "  <tbody>\n",

       "    <tr>\n",

       "      <th id=\"T_0a507_level0_row0\" class=\"row_heading level0 row0\" >0</th>\n",

       "      <td id=\"T_0a507_row0_col0\" class=\"data row0 col0\" >427.838400</td>\n",

       "      <td id=\"T_0a507_row0_col1\" class=\"data row0 col1\" >427.838400</td>\n",

       "    </tr>\n",

       "    <tr>\n",

       "      <th id=\"T_0a507_level0_row1\" class=\"row_heading level0 row1\" >1</th>\n",

       "      <td id=\"T_0a507_row1_col0\" class=\"data row1 col0\" >8544.563800</td>\n",

       "      <td id=\"T_0a507_row1_col1\" class=\"data row1 col1\" >8544.563800</td>\n",

       "    </tr>\n",

       "    <tr>\n",

       "      <th id=\"T_0a507_level0_row2\" class=\"row_heading level0 row2\" >2</th>\n",

       "      <td id=\"T_0a507_row2_col0\" class=\"data row2 col0\" >1006.771200</td>\n",

       "      <td id=\"T_0a507_row2_col1\" class=\"data row2 col1\" >1006.771200</td>\n",

       "    </tr>\n",

       "    <tr>\n",

       "      <th id=\"T_0a507_level0_row3\" class=\"row_heading level0 row3\" >3</th>\n",

       "      <td id=\"T_0a507_row3_col0\" class=\"data row3 col0\" >1409608.915200</td>\n",

       "      <td id=\"T_0a507_row3_col1\" class=\"data row3 col1\" >1409608.915200</td>\n",

       "    </tr>\n",

       "    <tr>\n",

       "      <th id=\"T_0a507_level0_row4\" class=\"row_heading level0 row4\" >4</th>\n",

       "      <td id=\"T_0a507_row4_col0\" class=\"data row4 col0\" >1.000000</td>\n",

       "      <td id=\"T_0a507_row4_col1\" class=\"data row4 col1\" >1.000000</td>\n",

       "    </tr>\n",

       "    <tr>\n",

       "      <th id=\"T_0a507_level0_row5\" class=\"row_heading level0 row5\" >5</th>\n",

       "      <td id=\"T_0a507_row5_col0\" class=\"data row5 col0\" >6.654200</td>\n",

       "      <td id=\"T_0a507_row5_col1\" class=\"data row5 col1\" >6.654200</td>\n",

       "    </tr>\n",

       "    <tr>\n",

       "      <th id=\"T_0a507_level0_row6\" class=\"row_heading level0 row6\" >6</th>\n",

       "      <td id=\"T_0a507_row6_col0\" class=\"data row6 col0\" >1460.000000</td>\n",

       "      <td id=\"T_0a507_row6_col1\" class=\"data row6 col1\" >1460.000000</td>\n",

       "    </tr>\n",

       "    <tr>\n",

       "      <th id=\"T_0a507_level0_row7\" class=\"row_heading level0 row7\" >7</th>\n",

       "      <td id=\"T_0a507_row7_col0\" class=\"data row7 col0\" >762.312600</td>\n",

       "      <td id=\"T_0a507_row7_col1\" class=\"data row7 col1\" >762.312600</td>\n",

       "    </tr>\n",

       "    <tr>\n",

       "      <th id=\"T_0a507_level0_row8\" class=\"row_heading level0 row8\" >8</th>\n",

       "      <td id=\"T_0a507_row8_col0\" class=\"data row8 col0\" >140.239400</td>\n",

       "      <td id=\"T_0a507_row8_col1\" class=\"data row8 col1\" >140.239400</td>\n",

       "    </tr>\n",

       "    <tr>\n",

       "      <th id=\"T_0a507_level0_row9\" class=\"row_heading level0 row9\" >9</th>\n",

       "      <td id=\"T_0a507_row9_col0\" class=\"data row9 col0\" >506626.919600</td>\n",

       "      <td id=\"T_0a507_row9_col1\" class=\"data row9 col1\" >506626.919600</td>\n",

       "    </tr>\n",

       "    <tr>\n",

       "      <th id=\"T_0a507_level0_row10\" class=\"row_heading level0 row10\" >10</th>\n",

       "      <td id=\"T_0a507_row10_col0\" class=\"data row10 col0\" >28973.705800</td>\n",

       "      <td id=\"T_0a507_row10_col1\" class=\"data row10 col1\" >28973.705800</td>\n",

       "    </tr>\n",

       "    <tr>\n",

       "      <th id=\"T_0a507_level0_row11\" class=\"row_heading level0 row11\" >11</th>\n",

       "      <td id=\"T_0a507_row11_col0\" class=\"data row11 col0\" >0.010800</td>\n",

       "      <td id=\"T_0a507_row11_col1\" class=\"data row11 col1\" >0.010800</td>\n",

       "    </tr>\n",

       "    <tr>\n",

       "      <th id=\"T_0a507_level0_row12\" class=\"row_heading level0 row12\" >12</th>\n",

       "      <td id=\"T_0a507_row12_col0\" class=\"data row12 col0\" >0.946200</td>\n",

       "      <td id=\"T_0a507_row12_col1\" class=\"data row12 col1\" >0.946200</td>\n",

       "    </tr>\n",

       "    <tr>\n",

       "      <th id=\"T_0a507_level0_row13\" class=\"row_heading level0 row13\" >13</th>\n",

       "      <td id=\"T_0a507_row13_col0\" class=\"data row13 col0\" >7.500600</td>\n",

       "      <td id=\"T_0a507_row13_col1\" class=\"data row13 col1\" >7.500600</td>\n",

       "    </tr>\n",

       "    <tr>\n",

       "      <th id=\"T_0a507_level0_row14\" class=\"row_heading level0 row14\" >14</th>\n",

       "      <td id=\"T_0a507_row14_col0\" class=\"data row14 col0\" >1411.072800</td>\n",

       "      <td id=\"T_0a507_row14_col1\" class=\"data row14 col1\" >1411.072800</td>\n",

       "    </tr>\n",

       "    <tr>\n",

       "      <th id=\"T_0a507_level0_row15\" class=\"row_heading level0 row15\" >15</th>\n",

       "      <td id=\"T_0a507_row15_col0\" class=\"data row15 col0\" >3307.134200</td>\n",

       "      <td id=\"T_0a507_row15_col1\" class=\"data row15 col1\" >3307.134200</td>\n",

       "    </tr>\n",

       "    <tr>\n",

       "      <th id=\"T_0a507_level0_row16\" class=\"row_heading level0 row16\" >16</th>\n",

       "      <td id=\"T_0a507_row16_col0\" class=\"data row16 col0\" >198.772400</td>\n",

       "      <td id=\"T_0a507_row16_col1\" class=\"data row16 col1\" >198.772400</td>\n",

       "    </tr>\n",

       "    <tr>\n",

       "      <th id=\"T_0a507_level0_row17\" class=\"row_heading level0 row17\" >17</th>\n",

       "      <td id=\"T_0a507_row17_col0\" class=\"data row17 col0\" >835825.356000</td>\n",

       "      <td id=\"T_0a507_row17_col1\" class=\"data row17 col1\" >835825.356000</td>\n",

       "    </tr>\n",

       "    <tr>\n",

       "      <th id=\"T_0a507_level0_row18\" class=\"row_heading level0 row18\" >18</th>\n",

       "      <td id=\"T_0a507_row18_col0\" class=\"data row18 col0\" >43811.782600</td>\n",

       "      <td id=\"T_0a507_row18_col1\" class=\"data row18 col1\" >43811.782600</td>\n",

       "    </tr>\n",

       "    <tr>\n",

       "      <th id=\"T_0a507_level0_row19\" class=\"row_heading level0 row19\" >19</th>\n",

       "      <td id=\"T_0a507_row19_col0\" class=\"data row19 col0\" >0.000000</td>\n",

       "      <td id=\"T_0a507_row19_col1\" class=\"data row19 col1\" >0.000000</td>\n",

       "    </tr>\n",

       "    <tr>\n",

       "      <th id=\"T_0a507_level0_row20\" class=\"row_heading level0 row20\" >20</th>\n",

       "      <td id=\"T_0a507_row20_col0\" class=\"data row20 col0\" >238.934785</td>\n",

       "      <td id=\"T_0a507_row20_col1\" class=\"data row20 col1\" >238.934785</td>\n",

       "    </tr>\n",

       "    <tr>\n",

       "      <th id=\"T_0a507_level0_row21\" class=\"row_heading level0 row21\" >21</th>\n",

       "      <td id=\"T_0a507_row21_col0\" class=\"data row21 col0\" >224802.518767</td>\n",

       "      <td id=\"T_0a507_row21_col1\" class=\"data row21 col1\" >224802.518767</td>\n",

       "    </tr>\n",

       "    <tr>\n",

       "      <th id=\"T_0a507_level0_row22\" class=\"row_heading level0 row22\" >22</th>\n",

       "      <td id=\"T_0a507_row22_col0\" class=\"data row22 col0\" >16.719081</td>\n",

       "      <td id=\"T_0a507_row22_col1\" class=\"data row22 col1\" >16.719081</td>\n",

       "    </tr>\n",

       "    <tr>\n",

       "      <th id=\"T_0a507_level0_row23\" class=\"row_heading level0 row23\" >23</th>\n",

       "      <td id=\"T_0a507_row23_col0\" class=\"data row23 col0\" >2519.362200</td>\n",

       "      <td id=\"T_0a507_row23_col1\" class=\"data row23 col1\" >2519.362200</td>\n",

       "    </tr>\n",

       "    <tr>\n",

       "      <th id=\"T_0a507_level0_row24\" class=\"row_heading level0 row24\" >24</th>\n",

       "      <td id=\"T_0a507_row24_col0\" class=\"data row24 col0\" >0.000000</td>\n",

       "      <td id=\"T_0a507_row24_col1\" class=\"data row24 col1\" >0.000000</td>\n",

       "    </tr>\n",

       "    <tr>\n",

       "      <th id=\"T_0a507_level0_row25\" class=\"row_heading level0 row25\" >25</th>\n",

       "      <td id=\"T_0a507_row25_col0\" class=\"data row25 col0\" >114.846954</td>\n",

       "      <td id=\"T_0a507_row25_col1\" class=\"data row25 col1\" >114.846954</td>\n",

       "    </tr>\n",

       "    <tr>\n",

       "      <th id=\"T_0a507_level0_row26\" class=\"row_heading level0 row26\" >26</th>\n",

       "      <td id=\"T_0a507_row26_col0\" class=\"data row26 col0\" >36.997790</td>\n",

       "      <td id=\"T_0a507_row26_col1\" class=\"data row26 col1\" >36.997790</td>\n",

       "    </tr>\n",

       "    <tr>\n",

       "      <th id=\"T_0a507_level0_row27\" class=\"row_heading level0 row27\" >27</th>\n",

       "      <td id=\"T_0a507_row27_col0\" class=\"data row27 col0\" >2531.919000</td>\n",

       "      <td id=\"T_0a507_row27_col1\" class=\"data row27 col1\" >2531.919000</td>\n",

       "    </tr>\n",

       "    <tr>\n",

       "      <th id=\"T_0a507_level0_row28\" class=\"row_heading level0 row28\" >28</th>\n",

       "      <td id=\"T_0a507_row28_col0\" class=\"data row28 col0\" >0.000000</td>\n",

       "      <td id=\"T_0a507_row28_col1\" class=\"data row28 col1\" >0.000000</td>\n",

       "    </tr>\n",

       "    <tr>\n",

       "      <th id=\"T_0a507_level0_row29\" class=\"row_heading level0 row29\" >29</th>\n",

       "      <td id=\"T_0a507_row29_col0\" class=\"data row29 col0\" >184.022012</td>\n",

       "      <td id=\"T_0a507_row29_col1\" class=\"data row29 col1\" >184.022012</td>\n",

       "    </tr>\n",

       "    <tr>\n",

       "      <th id=\"T_0a507_level0_row30\" class=\"row_heading level0 row30\" >30</th>\n",

       "      <td id=\"T_0a507_row30_col0\" class=\"data row30 col0\" >31.527987</td>\n",

       "      <td id=\"T_0a507_row30_col1\" class=\"data row30 col1\" >31.527987</td>\n",

       "    </tr>\n",

       "    <tr>\n",

       "      <th id=\"T_0a507_level0_row31\" class=\"row_heading level0 row31\" >31</th>\n",

       "      <td id=\"T_0a507_row31_col0\" class=\"data row31 col0\" >2572.112800</td>\n",

       "      <td id=\"T_0a507_row31_col1\" class=\"data row31 col1\" >2572.112800</td>\n",

       "    </tr>\n",

       "    <tr>\n",

       "      <th id=\"T_0a507_level0_row32\" class=\"row_heading level0 row32\" >32</th>\n",

       "      <td id=\"T_0a507_row32_col0\" class=\"data row32 col0\" >2.096400</td>\n",

       "      <td id=\"T_0a507_row32_col1\" class=\"data row32 col1\" >2.096400</td>\n",

       "    </tr>\n",

       "    <tr>\n",

       "      <th id=\"T_0a507_level0_row33\" class=\"row_heading level0 row33\" >33</th>\n",

       "      <td id=\"T_0a507_row33_col0\" class=\"data row33 col0\" >150.945166</td>\n",

       "      <td id=\"T_0a507_row33_col1\" class=\"data row33 col1\" >150.945166</td>\n",

       "    </tr>\n",

       "    <tr>\n",

       "      <th id=\"T_0a507_level0_row34\" class=\"row_heading level0 row34\" >34</th>\n",

       "      <td id=\"T_0a507_row34_col0\" class=\"data row34 col0\" >4113.869304</td>\n",

       "      <td id=\"T_0a507_row34_col1\" class=\"data row34 col1\" >4113.869304</td>\n",

       "    </tr>\n",

       "    <tr>\n",

       "      <th id=\"T_0a507_level0_row35\" class=\"row_heading level0 row35\" >35</th>\n",

       "      <td id=\"T_0a507_row35_col0\" class=\"data row35 col0\" >8622.747400</td>\n",

       "      <td id=\"T_0a507_row35_col1\" class=\"data row35 col1\" >8622.747400</td>\n",

       "    </tr>\n",

       "    <tr>\n",

       "      <th id=\"T_0a507_level0_row36\" class=\"row_heading level0 row36\" >36</th>\n",

       "      <td id=\"T_0a507_row36_col0\" class=\"data row36 col0\" >182.217800</td>\n",

       "      <td id=\"T_0a507_row36_col1\" class=\"data row36 col1\" >182.217800</td>\n",

       "    </tr>\n",

       "    <tr>\n",

       "      <th id=\"T_0a507_level0_row37\" class=\"row_heading level0 row37\" >37</th>\n",

       "      <td id=\"T_0a507_row37_col0\" class=\"data row37 col0\" >2631.926270</td>\n",

       "      <td id=\"T_0a507_row37_col1\" class=\"data row37 col1\" >2631.926270</td>\n",

       "    </tr>\n",

       "    <tr>\n",

       "      <th id=\"T_0a507_level0_row38\" class=\"row_heading level0 row38\" >38</th>\n",

       "      <td id=\"T_0a507_row38_col0\" class=\"data row38 col0\" >1058.840969</td>\n",

       "      <td id=\"T_0a507_row38_col1\" class=\"data row38 col1\" >1058.840969</td>\n",

       "    </tr>\n",

       "    <tr>\n",

       "      <th id=\"T_0a507_level0_row39\" class=\"row_heading level0 row39\" >39</th>\n",

       "      <td id=\"T_0a507_row39_col0\" class=\"data row39 col0\" >2507.671800</td>\n",

       "      <td id=\"T_0a507_row39_col1\" class=\"data row39 col1\" >2507.671800</td>\n",

       "    </tr>\n",

       "    <tr>\n",

       "      <th id=\"T_0a507_level0_row40\" class=\"row_heading level0 row40\" >40</th>\n",

       "      <td id=\"T_0a507_row40_col0\" class=\"data row40 col0\" >402.878600</td>\n",

       "      <td id=\"T_0a507_row40_col1\" class=\"data row40 col1\" >402.878600</td>\n",

       "    </tr>\n",

       "    <tr>\n",

       "      <th id=\"T_0a507_level0_row41\" class=\"row_heading level0 row41\" >41</th>\n",

       "      <td id=\"T_0a507_row41_col0\" class=\"data row41 col0\" >700.870916</td>\n",

       "      <td id=\"T_0a507_row41_col1\" class=\"data row41 col1\" >700.870916</td>\n",

       "    </tr>\n",

       "    <tr>\n",

       "      <th id=\"T_0a507_level0_row42\" class=\"row_heading level0 row42\" >42</th>\n",

       "      <td id=\"T_0a507_row42_col0\" class=\"data row42 col0\" >428.176600</td>\n",

       "      <td id=\"T_0a507_row42_col1\" class=\"data row42 col1\" >428.176600</td>\n",

       "    </tr>\n",

       "    <tr>\n",

       "      <th id=\"T_0a507_level0_row43\" class=\"row_heading level0 row43\" >43</th>\n",

       "      <td id=\"T_0a507_row43_col0\" class=\"data row43 col0\" >8562.637800</td>\n",

       "      <td id=\"T_0a507_row43_col1\" class=\"data row43 col1\" >8562.637800</td>\n",

       "    </tr>\n",

       "    <tr>\n",

       "      <th id=\"T_0a507_level0_row44\" class=\"row_heading level0 row44\" >44</th>\n",

       "      <td id=\"T_0a507_row44_col0\" class=\"data row44 col0\" >1007.433400</td>\n",

       "      <td id=\"T_0a507_row44_col1\" class=\"data row44 col1\" >1007.433400</td>\n",

       "    </tr>\n",

       "    <tr>\n",

       "      <th id=\"T_0a507_level0_row45\" class=\"row_heading level0 row45\" >45</th>\n",

       "      <td id=\"T_0a507_row45_col0\" class=\"data row45 col0\" >1410484.037400</td>\n",

       "      <td id=\"T_0a507_row45_col1\" class=\"data row45 col1\" >1410484.037400</td>\n",

       "    </tr>\n",

       "    <tr>\n",

       "      <th id=\"T_0a507_level0_row46\" class=\"row_heading level0 row46\" >46</th>\n",

       "      <td id=\"T_0a507_row46_col0\" class=\"data row46 col0\" >1.000000</td>\n",

       "      <td id=\"T_0a507_row46_col1\" class=\"data row46 col1\" >1.000000</td>\n",

       "    </tr>\n",

       "    <tr>\n",

       "      <th id=\"T_0a507_level0_row47\" class=\"row_heading level0 row47\" >47</th>\n",

       "      <td id=\"T_0a507_row47_col0\" class=\"data row47 col0\" >6.652800</td>\n",

       "      <td id=\"T_0a507_row47_col1\" class=\"data row47 col1\" >6.652800</td>\n",

       "    </tr>\n",

       "    <tr>\n",

       "      <th id=\"T_0a507_level0_row48\" class=\"row_heading level0 row48\" >48</th>\n",

       "      <td id=\"T_0a507_row48_col0\" class=\"data row48 col0\" >1460.000000</td>\n",

       "      <td id=\"T_0a507_row48_col1\" class=\"data row48 col1\" >1460.000000</td>\n",

       "    </tr>\n",

       "    <tr>\n",

       "      <th id=\"T_0a507_level0_row49\" class=\"row_heading level0 row49\" >49</th>\n",

       "      <td id=\"T_0a507_row49_col0\" class=\"data row49 col0\" >765.493400</td>\n",

       "      <td id=\"T_0a507_row49_col1\" class=\"data row49 col1\" >765.493400</td>\n",

       "    </tr>\n",

       "    <tr>\n",

       "      <th id=\"T_0a507_level0_row50\" class=\"row_heading level0 row50\" >50</th>\n",

       "      <td id=\"T_0a507_row50_col0\" class=\"data row50 col0\" >141.716200</td>\n",

       "      <td id=\"T_0a507_row50_col1\" class=\"data row50 col1\" >141.716200</td>\n",

       "    </tr>\n",

       "    <tr>\n",

       "      <th id=\"T_0a507_level0_row51\" class=\"row_heading level0 row51\" >51</th>\n",

       "      <td id=\"T_0a507_row51_col0\" class=\"data row51 col0\" >507125.273200</td>\n",

       "      <td id=\"T_0a507_row51_col1\" class=\"data row51 col1\" >507125.273200</td>\n",

       "    </tr>\n",

       "    <tr>\n",

       "      <th id=\"T_0a507_level0_row52\" class=\"row_heading level0 row52\" >52</th>\n",

       "      <td id=\"T_0a507_row52_col0\" class=\"data row52 col0\" >28973.705800</td>\n",

       "      <td id=\"T_0a507_row52_col1\" class=\"data row52 col1\" >28973.705800</td>\n",

       "    </tr>\n",

       "    <tr>\n",

       "      <th id=\"T_0a507_level0_row53\" class=\"row_heading level0 row53\" >53</th>\n",

       "      <td id=\"T_0a507_row53_col0\" class=\"data row53 col0\" >0.010800</td>\n",

       "      <td id=\"T_0a507_row53_col1\" class=\"data row53 col1\" >0.010800</td>\n",

       "    </tr>\n",

       "    <tr>\n",

       "      <th id=\"T_0a507_level0_row54\" class=\"row_heading level0 row54\" >54</th>\n",

       "      <td id=\"T_0a507_row54_col0\" class=\"data row54 col0\" >0.952600</td>\n",

       "      <td id=\"T_0a507_row54_col1\" class=\"data row54 col1\" >0.952600</td>\n",

       "    </tr>\n",

       "    <tr>\n",

       "      <th id=\"T_0a507_level0_row55\" class=\"row_heading level0 row55\" >55</th>\n",

       "      <td id=\"T_0a507_row55_col0\" class=\"data row55 col0\" >7.551600</td>\n",

       "      <td id=\"T_0a507_row55_col1\" class=\"data row55 col1\" >7.551600</td>\n",

       "    </tr>\n",

       "    <tr>\n",

       "      <th id=\"T_0a507_level0_row56\" class=\"row_heading level0 row56\" >56</th>\n",

       "      <td id=\"T_0a507_row56_col0\" class=\"data row56 col0\" >1420.752800</td>\n",

       "      <td id=\"T_0a507_row56_col1\" class=\"data row56 col1\" >1420.752800</td>\n",

       "    </tr>\n",

       "    <tr>\n",

       "      <th id=\"T_0a507_level0_row57\" class=\"row_heading level0 row57\" >57</th>\n",

       "      <td id=\"T_0a507_row57_col0\" class=\"data row57 col0\" >3317.833800</td>\n",

       "      <td id=\"T_0a507_row57_col1\" class=\"data row57 col1\" >3317.833800</td>\n",

       "    </tr>\n",

       "    <tr>\n",

       "      <th id=\"T_0a507_level0_row58\" class=\"row_heading level0 row58\" >58</th>\n",

       "      <td id=\"T_0a507_row58_col0\" class=\"data row58 col0\" >199.144600</td>\n",

       "      <td id=\"T_0a507_row58_col1\" class=\"data row58 col1\" >199.144600</td>\n",

       "    </tr>\n",

       "    <tr>\n",

       "      <th id=\"T_0a507_level0_row59\" class=\"row_heading level0 row59\" >59</th>\n",

       "      <td id=\"T_0a507_row59_col0\" class=\"data row59 col0\" >839199.407400</td>\n",

       "      <td id=\"T_0a507_row59_col1\" class=\"data row59 col1\" >839199.407400</td>\n",

       "    </tr>\n",

       "    <tr>\n",

       "      <th id=\"T_0a507_level0_row60\" class=\"row_heading level0 row60\" >60</th>\n",

       "      <td id=\"T_0a507_row60_col0\" class=\"data row60 col0\" >44052.895400</td>\n",

       "      <td id=\"T_0a507_row60_col1\" class=\"data row60 col1\" >44052.895400</td>\n",

       "    </tr>\n",

       "    <tr>\n",

       "      <th id=\"T_0a507_level0_row61\" class=\"row_heading level0 row61\" >61</th>\n",

       "      <td id=\"T_0a507_row61_col0\" class=\"data row61 col0\" >0.000000</td>\n",

       "      <td id=\"T_0a507_row61_col1\" class=\"data row61 col1\" >0.000000</td>\n",

       "    </tr>\n",

       "    <tr>\n",

       "      <th id=\"T_0a507_level0_row62\" class=\"row_heading level0 row62\" >62</th>\n",

       "      <td id=\"T_0a507_row62_col0\" class=\"data row62 col0\" >239.528611</td>\n",

       "      <td id=\"T_0a507_row62_col1\" class=\"data row62 col1\" >239.528611</td>\n",

       "    </tr>\n",

       "    <tr>\n",

       "      <th id=\"T_0a507_level0_row63\" class=\"row_heading level0 row63\" >63</th>\n",

       "      <td id=\"T_0a507_row63_col0\" class=\"data row63 col0\" >225223.638698</td>\n",

       "      <td id=\"T_0a507_row63_col1\" class=\"data row63 col1\" >225223.638698</td>\n",

       "    </tr>\n",

       "    <tr>\n",

       "      <th id=\"T_0a507_level0_row64\" class=\"row_heading level0 row64\" >64</th>\n",

       "      <td id=\"T_0a507_row64_col0\" class=\"data row64 col0\" >16.791656</td>\n",

       "      <td id=\"T_0a507_row64_col1\" class=\"data row64 col1\" >16.791656</td>\n",

       "    </tr>\n",

       "    <tr>\n",

       "      <th id=\"T_0a507_level0_row65\" class=\"row_heading level0 row65\" >65</th>\n",

       "      <td id=\"T_0a507_row65_col0\" class=\"data row65 col0\" >2522.294000</td>\n",

       "      <td id=\"T_0a507_row65_col1\" class=\"data row65 col1\" >2522.294000</td>\n",

       "    </tr>\n",

       "    <tr>\n",

       "      <th id=\"T_0a507_level0_row66\" class=\"row_heading level0 row66\" >66</th>\n",

       "      <td id=\"T_0a507_row66_col0\" class=\"data row66 col0\" >0.000000</td>\n",

       "      <td id=\"T_0a507_row66_col1\" class=\"data row66 col1\" >0.000000</td>\n",

       "    </tr>\n",

       "    <tr>\n",

       "      <th id=\"T_0a507_level0_row67\" class=\"row_heading level0 row67\" >67</th>\n",

       "      <td id=\"T_0a507_row67_col0\" class=\"data row67 col0\" >115.180719</td>\n",

       "      <td id=\"T_0a507_row67_col1\" class=\"data row67 col1\" >115.180719</td>\n",

       "    </tr>\n",

       "    <tr>\n",

       "      <th id=\"T_0a507_level0_row68\" class=\"row_heading level0 row68\" >68</th>\n",

       "      <td id=\"T_0a507_row68_col0\" class=\"data row68 col0\" >37.207199</td>\n",

       "      <td id=\"T_0a507_row68_col1\" class=\"data row68 col1\" >37.207199</td>\n",

       "    </tr>\n",

       "    <tr>\n",

       "      <th id=\"T_0a507_level0_row69\" class=\"row_heading level0 row69\" >69</th>\n",

       "      <td id=\"T_0a507_row69_col0\" class=\"data row69 col0\" >2534.627800</td>\n",

       "      <td id=\"T_0a507_row69_col1\" class=\"data row69 col1\" >2534.627800</td>\n",

       "    </tr>\n",

       "    <tr>\n",

       "      <th id=\"T_0a507_level0_row70\" class=\"row_heading level0 row70\" >70</th>\n",

       "      <td id=\"T_0a507_row70_col0\" class=\"data row70 col0\" >0.000000</td>\n",

       "      <td id=\"T_0a507_row70_col1\" class=\"data row70 col1\" >0.000000</td>\n",

       "    </tr>\n",

       "    <tr>\n",

       "      <th id=\"T_0a507_level0_row71\" class=\"row_heading level0 row71\" >71</th>\n",

       "      <td id=\"T_0a507_row71_col0\" class=\"data row71 col0\" >184.468727</td>\n",

       "      <td id=\"T_0a507_row71_col1\" class=\"data row71 col1\" >184.468727</td>\n",

       "    </tr>\n",

       "    <tr>\n",

       "      <th id=\"T_0a507_level0_row72\" class=\"row_heading level0 row72\" >72</th>\n",

       "      <td id=\"T_0a507_row72_col0\" class=\"data row72 col0\" >31.728555</td>\n",

       "      <td id=\"T_0a507_row72_col1\" class=\"data row72 col1\" >31.728555</td>\n",

       "    </tr>\n",

       "    <tr>\n",

       "      <th id=\"T_0a507_level0_row73\" class=\"row_heading level0 row73\" >73</th>\n",

       "      <td id=\"T_0a507_row73_col0\" class=\"data row73 col0\" >2575.486400</td>\n",

       "      <td id=\"T_0a507_row73_col1\" class=\"data row73 col1\" >2575.486400</td>\n",

       "    </tr>\n",

       "    <tr>\n",

       "      <th id=\"T_0a507_level0_row74\" class=\"row_heading level0 row74\" >74</th>\n",

       "      <td id=\"T_0a507_row74_col0\" class=\"data row74 col0\" >2.223000</td>\n",

       "      <td id=\"T_0a507_row74_col1\" class=\"data row74 col1\" >2.223000</td>\n",

       "    </tr>\n",

       "    <tr>\n",

       "      <th id=\"T_0a507_level0_row75\" class=\"row_heading level0 row75\" >75</th>\n",

       "      <td id=\"T_0a507_row75_col0\" class=\"data row75 col0\" >151.375955</td>\n",

       "      <td id=\"T_0a507_row75_col1\" class=\"data row75 col1\" >151.375955</td>\n",

       "    </tr>\n",

       "    <tr>\n",

       "      <th id=\"T_0a507_level0_row76\" class=\"row_heading level0 row76\" >76</th>\n",

       "      <td id=\"T_0a507_row76_col0\" class=\"data row76 col0\" >4118.800383</td>\n",

       "      <td id=\"T_0a507_row76_col1\" class=\"data row76 col1\" >4118.800383</td>\n",

       "    </tr>\n",

       "    <tr>\n",

       "      <th id=\"T_0a507_level0_row77\" class=\"row_heading level0 row77\" >77</th>\n",

       "      <td id=\"T_0a507_row77_col0\" class=\"data row77 col0\" >8630.986000</td>\n",

       "      <td id=\"T_0a507_row77_col1\" class=\"data row77 col1\" >8630.986000</td>\n",

       "    </tr>\n",

       "    <tr>\n",

       "      <th id=\"T_0a507_level0_row78\" class=\"row_heading level0 row78\" >78</th>\n",

       "      <td id=\"T_0a507_row78_col0\" class=\"data row78 col0\" >182.752600</td>\n",

       "      <td id=\"T_0a507_row78_col1\" class=\"data row78 col1\" >182.752600</td>\n",

       "    </tr>\n",

       "    <tr>\n",

       "      <th id=\"T_0a507_level0_row79\" class=\"row_heading level0 row79\" >79</th>\n",

       "      <td id=\"T_0a507_row79_col0\" class=\"data row79 col0\" >2634.678859</td>\n",

       "      <td id=\"T_0a507_row79_col1\" class=\"data row79 col1\" >2634.678859</td>\n",

       "    </tr>\n",

       "    <tr>\n",

       "      <th id=\"T_0a507_level0_row80\" class=\"row_heading level0 row80\" >80</th>\n",

       "      <td id=\"T_0a507_row80_col0\" class=\"data row80 col0\" >1060.040437</td>\n",

       "      <td id=\"T_0a507_row80_col1\" class=\"data row80 col1\" >1060.040437</td>\n",

       "    </tr>\n",

       "    <tr>\n",

       "      <th id=\"T_0a507_level0_row81\" class=\"row_heading level0 row81\" >81</th>\n",

       "      <td id=\"T_0a507_row81_col0\" class=\"data row81 col0\" >2510.428800</td>\n",

       "      <td id=\"T_0a507_row81_col1\" class=\"data row81 col1\" >2510.428800</td>\n",

       "    </tr>\n",

       "    <tr>\n",

       "      <th id=\"T_0a507_level0_row82\" class=\"row_heading level0 row82\" >82</th>\n",

       "      <td id=\"T_0a507_row82_col0\" class=\"data row82 col0\" >403.136400</td>\n",

       "      <td id=\"T_0a507_row82_col1\" class=\"data row82 col1\" >403.136400</td>\n",

       "    </tr>\n",

       "    <tr>\n",

       "      <th id=\"T_0a507_level0_row83\" class=\"row_heading level0 row83\" >83</th>\n",

       "      <td id=\"T_0a507_row83_col0\" class=\"data row83 col0\" >701.821389</td>\n",

       "      <td id=\"T_0a507_row83_col1\" class=\"data row83 col1\" >701.821389</td>\n",

       "    </tr>\n",

       "    <tr>\n",

       "      <th id=\"T_0a507_level0_row84\" class=\"row_heading level0 row84\" >84</th>\n",

       "      <td id=\"T_0a507_row84_col0\" class=\"data row84 col0\" >428.522600</td>\n",

       "      <td id=\"T_0a507_row84_col1\" class=\"data row84 col1\" >428.522600</td>\n",

       "    </tr>\n",

       "    <tr>\n",

       "      <th id=\"T_0a507_level0_row85\" class=\"row_heading level0 row85\" >85</th>\n",

       "      <td id=\"T_0a507_row85_col0\" class=\"data row85 col0\" >8578.131400</td>\n",

       "      <td id=\"T_0a507_row85_col1\" class=\"data row85 col1\" >8578.131400</td>\n",

       "    </tr>\n",

       "    <tr>\n",

       "      <th id=\"T_0a507_level0_row86\" class=\"row_heading level0 row86\" >86</th>\n",

       "      <td id=\"T_0a507_row86_col0\" class=\"data row86 col0\" >1008.088200</td>\n",

       "      <td id=\"T_0a507_row86_col1\" class=\"data row86 col1\" >1008.088200</td>\n",

       "    </tr>\n",

       "    <tr>\n",

       "      <th id=\"T_0a507_level0_row87\" class=\"row_heading level0 row87\" >87</th>\n",

       "      <td id=\"T_0a507_row87_col0\" class=\"data row87 col0\" >1411355.057000</td>\n",

       "      <td id=\"T_0a507_row87_col1\" class=\"data row87 col1\" >1411355.057000</td>\n",

       "    </tr>\n",

       "    <tr>\n",

       "      <th id=\"T_0a507_level0_row88\" class=\"row_heading level0 row88\" >88</th>\n",

       "      <td id=\"T_0a507_row88_col0\" class=\"data row88 col0\" >1.000000</td>\n",

       "      <td id=\"T_0a507_row88_col1\" class=\"data row88 col1\" >1.000000</td>\n",

       "    </tr>\n",

       "    <tr>\n",

       "      <th id=\"T_0a507_level0_row89\" class=\"row_heading level0 row89\" >89</th>\n",

       "      <td id=\"T_0a507_row89_col0\" class=\"data row89 col0\" >6.650000</td>\n",

       "      <td id=\"T_0a507_row89_col1\" class=\"data row89 col1\" >6.650000</td>\n",

       "    </tr>\n",

       "    <tr>\n",

       "      <th id=\"T_0a507_level0_row90\" class=\"row_heading level0 row90\" >90</th>\n",

       "      <td id=\"T_0a507_row90_col0\" class=\"data row90 col0\" >1460.000000</td>\n",

       "      <td id=\"T_0a507_row90_col1\" class=\"data row90 col1\" >1460.000000</td>\n",

       "    </tr>\n",

       "    <tr>\n",

       "      <th id=\"T_0a507_level0_row91\" class=\"row_heading level0 row91\" >91</th>\n",

       "      <td id=\"T_0a507_row91_col0\" class=\"data row91 col0\" >768.839800</td>\n",

       "      <td id=\"T_0a507_row91_col1\" class=\"data row91 col1\" >768.839800</td>\n",

       "    </tr>\n",

       "    <tr>\n",

       "      <th id=\"T_0a507_level0_row92\" class=\"row_heading level0 row92\" >92</th>\n",

       "      <td id=\"T_0a507_row92_col0\" class=\"data row92 col0\" >143.017800</td>\n",

       "      <td id=\"T_0a507_row92_col1\" class=\"data row92 col1\" >143.017800</td>\n",

       "    </tr>\n",

       "    <tr>\n",

       "      <th id=\"T_0a507_level0_row93\" class=\"row_heading level0 row93\" >93</th>\n",

       "      <td id=\"T_0a507_row93_col0\" class=\"data row93 col0\" >507663.727200</td>\n",

       "      <td id=\"T_0a507_row93_col1\" class=\"data row93 col1\" >507663.727200</td>\n",

       "    </tr>\n",

       "    <tr>\n",

       "      <th id=\"T_0a507_level0_row94\" class=\"row_heading level0 row94\" >94</th>\n",

       "      <td id=\"T_0a507_row94_col0\" class=\"data row94 col0\" >28973.705800</td>\n",

       "      <td id=\"T_0a507_row94_col1\" class=\"data row94 col1\" >28973.705800</td>\n",

       "    </tr>\n",

       "    <tr>\n",

       "      <th id=\"T_0a507_level0_row95\" class=\"row_heading level0 row95\" >95</th>\n",

       "      <td id=\"T_0a507_row95_col0\" class=\"data row95 col0\" >0.010800</td>\n",

       "      <td id=\"T_0a507_row95_col1\" class=\"data row95 col1\" >0.010800</td>\n",

       "    </tr>\n",

       "    <tr>\n",

       "      <th id=\"T_0a507_level0_row96\" class=\"row_heading level0 row96\" >96</th>\n",

       "      <td id=\"T_0a507_row96_col0\" class=\"data row96 col0\" >0.952600</td>\n",

       "      <td id=\"T_0a507_row96_col1\" class=\"data row96 col1\" >0.952600</td>\n",

       "    </tr>\n",

       "    <tr>\n",

       "      <th id=\"T_0a507_level0_row97\" class=\"row_heading level0 row97\" >97</th>\n",

       "      <td id=\"T_0a507_row97_col0\" class=\"data row97 col0\" >7.551600</td>\n",

       "      <td id=\"T_0a507_row97_col1\" class=\"data row97 col1\" >7.551600</td>\n",

       "    </tr>\n",

       "    <tr>\n",

       "      <th id=\"T_0a507_level0_row98\" class=\"row_heading level0 row98\" >98</th>\n",

       "      <td id=\"T_0a507_row98_col0\" class=\"data row98 col0\" >1420.752800</td>\n",

       "      <td id=\"T_0a507_row98_col1\" class=\"data row98 col1\" >1420.752800</td>\n",

       "    </tr>\n",

       "    <tr>\n",

       "      <th id=\"T_0a507_level0_row99\" class=\"row_heading level0 row99\" >99</th>\n",

       "      <td id=\"T_0a507_row99_col0\" class=\"data row99 col0\" >3329.839000</td>\n",

       "      <td id=\"T_0a507_row99_col1\" class=\"data row99 col1\" >3329.839000</td>\n",

       "    </tr>\n",

       "    <tr>\n",

       "      <th id=\"T_0a507_level0_row100\" class=\"row_heading level0 row100\" >100</th>\n",

       "      <td id=\"T_0a507_row100_col0\" class=\"data row100 col0\" >202.051400</td>\n",

       "      <td id=\"T_0a507_row100_col1\" class=\"data row100 col1\" >202.051400</td>\n",

       "    </tr>\n",

       "    <tr>\n",

       "      <th id=\"T_0a507_level0_row101\" class=\"row_heading level0 row101\" >101</th>\n",

       "      <td id=\"T_0a507_row101_col0\" class=\"data row101 col0\" >839230.689000</td>\n",

       "      <td id=\"T_0a507_row101_col1\" class=\"data row101 col1\" >839230.689000</td>\n",

       "    </tr>\n",

       "    <tr>\n",

       "      <th id=\"T_0a507_level0_row102\" class=\"row_heading level0 row102\" >102</th>\n",

       "      <td id=\"T_0a507_row102_col0\" class=\"data row102 col0\" >44044.405800</td>\n",

       "      <td id=\"T_0a507_row102_col1\" class=\"data row102 col1\" >44044.405800</td>\n",

       "    </tr>\n",

       "    <tr>\n",

       "      <th id=\"T_0a507_level0_row103\" class=\"row_heading level0 row103\" >103</th>\n",

       "      <td id=\"T_0a507_row103_col0\" class=\"data row103 col0\" >0.000000</td>\n",

       "      <td id=\"T_0a507_row103_col1\" class=\"data row103 col1\" >0.000000</td>\n",

       "    </tr>\n",

       "    <tr>\n",

       "      <th id=\"T_0a507_level0_row104\" class=\"row_heading level0 row104\" >104</th>\n",

       "      <td id=\"T_0a507_row104_col0\" class=\"data row104 col0\" >239.911635</td>\n",

       "      <td id=\"T_0a507_row104_col1\" class=\"data row104 col1\" >239.911635</td>\n",

       "    </tr>\n",

       "    <tr>\n",

       "      <th id=\"T_0a507_level0_row105\" class=\"row_heading level0 row105\" >105</th>\n",

       "      <td id=\"T_0a507_row105_col0\" class=\"data row105 col0\" >225656.341501</td>\n",

       "      <td id=\"T_0a507_row105_col1\" class=\"data row105 col1\" >225656.341501</td>\n",

       "    </tr>\n",

       "    <tr>\n",

       "      <th id=\"T_0a507_level0_row106\" class=\"row_heading level0 row106\" >106</th>\n",

       "      <td id=\"T_0a507_row106_col0\" class=\"data row106 col0\" >16.986810</td>\n",

       "      <td id=\"T_0a507_row106_col1\" class=\"data row106 col1\" >16.986810</td>\n",

       "    </tr>\n",

       "    <tr>\n",

       "      <th id=\"T_0a507_level0_row107\" class=\"row_heading level0 row107\" >107</th>\n",

       "      <td id=\"T_0a507_row107_col0\" class=\"data row107 col0\" >2534.420200</td>\n",

       "      <td id=\"T_0a507_row107_col1\" class=\"data row107 col1\" >2534.420200</td>\n",

       "    </tr>\n",

       "    <tr>\n",

       "      <th id=\"T_0a507_level0_row108\" class=\"row_heading level0 row108\" >108</th>\n",

       "      <td id=\"T_0a507_row108_col0\" class=\"data row108 col0\" >0.000000</td>\n",

       "      <td id=\"T_0a507_row108_col1\" class=\"data row108 col1\" >0.000000</td>\n",

       "    </tr>\n",

       "    <tr>\n",

       "      <th id=\"T_0a507_level0_row109\" class=\"row_heading level0 row109\" >109</th>\n",

       "      <td id=\"T_0a507_row109_col0\" class=\"data row109 col0\" >117.084190</td>\n",

       "      <td id=\"T_0a507_row109_col1\" class=\"data row109 col1\" >117.084190</td>\n",

       "    </tr>\n",

       "    <tr>\n",

       "      <th id=\"T_0a507_level0_row110\" class=\"row_heading level0 row110\" >110</th>\n",

       "      <td id=\"T_0a507_row110_col0\" class=\"data row110 col0\" >37.861334</td>\n",

       "      <td id=\"T_0a507_row110_col1\" class=\"data row110 col1\" >37.861334</td>\n",

       "    </tr>\n",

       "    <tr>\n",

       "      <th id=\"T_0a507_level0_row111\" class=\"row_heading level0 row111\" >111</th>\n",

       "      <td id=\"T_0a507_row111_col0\" class=\"data row111 col0\" >2547.208000</td>\n",

       "      <td id=\"T_0a507_row111_col1\" class=\"data row111 col1\" >2547.208000</td>\n",

       "    </tr>\n",

       "    <tr>\n",

       "      <th id=\"T_0a507_level0_row112\" class=\"row_heading level0 row112\" >112</th>\n",

       "      <td id=\"T_0a507_row112_col0\" class=\"data row112 col0\" >0.000000</td>\n",

       "      <td id=\"T_0a507_row112_col1\" class=\"data row112 col1\" >0.000000</td>\n",

       "    </tr>\n",

       "    <tr>\n",

       "      <th id=\"T_0a507_level0_row113\" class=\"row_heading level0 row113\" >113</th>\n",

       "      <td id=\"T_0a507_row113_col0\" class=\"data row113 col0\" >187.209907</td>\n",

       "      <td id=\"T_0a507_row113_col1\" class=\"data row113 col1\" >187.209907</td>\n",

       "    </tr>\n",

       "    <tr>\n",

       "      <th id=\"T_0a507_level0_row114\" class=\"row_heading level0 row114\" >114</th>\n",

       "      <td id=\"T_0a507_row114_col0\" class=\"data row114 col0\" >31.704005</td>\n",

       "      <td id=\"T_0a507_row114_col1\" class=\"data row114 col1\" >31.704005</td>\n",

       "    </tr>\n",

       "    <tr>\n",

       "      <th id=\"T_0a507_level0_row115\" class=\"row_heading level0 row115\" >115</th>\n",

       "      <td id=\"T_0a507_row115_col0\" class=\"data row115 col0\" >2578.926600</td>\n",

       "      <td id=\"T_0a507_row115_col1\" class=\"data row115 col1\" >2578.926600</td>\n",

       "    </tr>\n",

       "    <tr>\n",

       "      <th id=\"T_0a507_level0_row116\" class=\"row_heading level0 row116\" >116</th>\n",

       "      <td id=\"T_0a507_row116_col0\" class=\"data row116 col0\" >1.873800</td>\n",

       "      <td id=\"T_0a507_row116_col1\" class=\"data row116 col1\" >1.873800</td>\n",

       "    </tr>\n",

       "    <tr>\n",

       "      <th id=\"T_0a507_level0_row117\" class=\"row_heading level0 row117\" >117</th>\n",

       "      <td id=\"T_0a507_row117_col0\" class=\"data row117 col0\" >151.995485</td>\n",

       "      <td id=\"T_0a507_row117_col1\" class=\"data row117 col1\" >151.995485</td>\n",

       "    </tr>\n",

       "    <tr>\n",

       "      <th id=\"T_0a507_level0_row118\" class=\"row_heading level0 row118\" >118</th>\n",

       "      <td id=\"T_0a507_row118_col0\" class=\"data row118 col0\" >4123.949072</td>\n",

       "      <td id=\"T_0a507_row118_col1\" class=\"data row118 col1\" >4123.949072</td>\n",

       "    </tr>\n",

       "    <tr>\n",

       "      <th id=\"T_0a507_level0_row119\" class=\"row_heading level0 row119\" >119</th>\n",

       "      <td id=\"T_0a507_row119_col0\" class=\"data row119 col0\" >8638.608400</td>\n",

       "      <td id=\"T_0a507_row119_col1\" class=\"data row119 col1\" >8638.608400</td>\n",

       "    </tr>\n",

       "    <tr>\n",

       "      <th id=\"T_0a507_level0_row120\" class=\"row_heading level0 row120\" >120</th>\n",

       "      <td id=\"T_0a507_row120_col0\" class=\"data row120 col0\" >182.988000</td>\n",

       "      <td id=\"T_0a507_row120_col1\" class=\"data row120 col1\" >182.988000</td>\n",

       "    </tr>\n",

       "    <tr>\n",

       "      <th id=\"T_0a507_level0_row121\" class=\"row_heading level0 row121\" >121</th>\n",

       "      <td id=\"T_0a507_row121_col0\" class=\"data row121 col0\" >2637.293987</td>\n",

       "      <td id=\"T_0a507_row121_col1\" class=\"data row121 col1\" >2637.293987</td>\n",

       "    </tr>\n",

       "    <tr>\n",

       "      <th id=\"T_0a507_level0_row122\" class=\"row_heading level0 row122\" >122</th>\n",

       "      <td id=\"T_0a507_row122_col0\" class=\"data row122 col0\" >1071.095923</td>\n",

       "      <td id=\"T_0a507_row122_col1\" class=\"data row122 col1\" >1071.095923</td>\n",

       "    </tr>\n",

       "    <tr>\n",

       "      <th id=\"T_0a507_level0_row123\" class=\"row_heading level0 row123\" >123</th>\n",

       "      <td id=\"T_0a507_row123_col0\" class=\"data row123 col0\" >2522.563400</td>\n",

       "      <td id=\"T_0a507_row123_col1\" class=\"data row123 col1\" >2522.563400</td>\n",

       "    </tr>\n",

       "    <tr>\n",

       "      <th id=\"T_0a507_level0_row124\" class=\"row_heading level0 row124\" >124</th>\n",

       "      <td id=\"T_0a507_row124_col0\" class=\"data row124 col0\" >413.860000</td>\n",

       "      <td id=\"T_0a507_row124_col1\" class=\"data row124 col1\" >413.860000</td>\n",

       "    </tr>\n",

       "    <tr>\n",

       "      <th id=\"T_0a507_level0_row125\" class=\"row_heading level0 row125\" >125</th>\n",

       "      <td id=\"T_0a507_row125_col0\" class=\"data row125 col0\" >702.240730</td>\n",

       "      <td id=\"T_0a507_row125_col1\" class=\"data row125 col1\" >702.240730</td>\n",

       "    </tr>\n",

       "    <tr>\n",

       "      <th id=\"T_0a507_level0_row126\" class=\"row_heading level0 row126\" >126</th>\n",

       "      <td id=\"T_0a507_row126_col0\" class=\"data row126 col0\" >428.865400</td>\n",

       "      <td id=\"T_0a507_row126_col1\" class=\"data row126 col1\" >428.865400</td>\n",

       "    </tr>\n",

       "    <tr>\n",

       "      <th id=\"T_0a507_level0_row127\" class=\"row_heading level0 row127\" >127</th>\n",

       "      <td id=\"T_0a507_row127_col0\" class=\"data row127 col0\" >8597.496800</td>\n",

       "      <td id=\"T_0a507_row127_col1\" class=\"data row127 col1\" >8597.496800</td>\n",

       "    </tr>\n",

       "    <tr>\n",

       "      <th id=\"T_0a507_level0_row128\" class=\"row_heading level0 row128\" >128</th>\n",

       "      <td id=\"T_0a507_row128_col0\" class=\"data row128 col0\" >1008.746400</td>\n",

       "      <td id=\"T_0a507_row128_col1\" class=\"data row128 col1\" >1008.746400</td>\n",

       "    </tr>\n",

       "    <tr>\n",

       "      <th id=\"T_0a507_level0_row129\" class=\"row_heading level0 row129\" >129</th>\n",

       "      <td id=\"T_0a507_row129_col0\" class=\"data row129 col0\" >1412218.004600</td>\n",

       "      <td id=\"T_0a507_row129_col1\" class=\"data row129 col1\" >1412218.004600</td>\n",

       "    </tr>\n",

       "    <tr>\n",

       "      <th id=\"T_0a507_level0_row130\" class=\"row_heading level0 row130\" >130</th>\n",

       "      <td id=\"T_0a507_row130_col0\" class=\"data row130 col0\" >1.000000</td>\n",

       "      <td id=\"T_0a507_row130_col1\" class=\"data row130 col1\" >1.000000</td>\n",

       "    </tr>\n",

       "    <tr>\n",

       "      <th id=\"T_0a507_level0_row131\" class=\"row_heading level0 row131\" >131</th>\n",

       "      <td id=\"T_0a507_row131_col0\" class=\"data row131 col0\" >6.650000</td>\n",

       "      <td id=\"T_0a507_row131_col1\" class=\"data row131 col1\" >6.650000</td>\n",

       "    </tr>\n",

       "    <tr>\n",

       "      <th id=\"T_0a507_level0_row132\" class=\"row_heading level0 row132\" >132</th>\n",

       "      <td id=\"T_0a507_row132_col0\" class=\"data row132 col0\" >1460.000000</td>\n",

       "      <td id=\"T_0a507_row132_col1\" class=\"data row132 col1\" >1460.000000</td>\n",

       "    </tr>\n",

       "    <tr>\n",

       "      <th id=\"T_0a507_level0_row133\" class=\"row_heading level0 row133\" >133</th>\n",

       "      <td id=\"T_0a507_row133_col0\" class=\"data row133 col0\" >771.821400</td>\n",

       "      <td id=\"T_0a507_row133_col1\" class=\"data row133 col1\" >771.821400</td>\n",

       "    </tr>\n",

       "    <tr>\n",

       "      <th id=\"T_0a507_level0_row134\" class=\"row_heading level0 row134\" >134</th>\n",

       "      <td id=\"T_0a507_row134_col0\" class=\"data row134 col0\" >143.923200</td>\n",

       "      <td id=\"T_0a507_row134_col1\" class=\"data row134 col1\" >143.923200</td>\n",

       "    </tr>\n",

       "    <tr>\n",

       "      <th id=\"T_0a507_level0_row135\" class=\"row_heading level0 row135\" >135</th>\n",

       "      <td id=\"T_0a507_row135_col0\" class=\"data row135 col0\" >508204.761200</td>\n",

       "      <td id=\"T_0a507_row135_col1\" class=\"data row135 col1\" >508204.761200</td>\n",

       "    </tr>\n",

       "    <tr>\n",

       "      <th id=\"T_0a507_level0_row136\" class=\"row_heading level0 row136\" >136</th>\n",

       "      <td id=\"T_0a507_row136_col0\" class=\"data row136 col0\" >28973.705800</td>\n",

       "      <td id=\"T_0a507_row136_col1\" class=\"data row136 col1\" >28973.705800</td>\n",

       "    </tr>\n",

       "    <tr>\n",

       "      <th id=\"T_0a507_level0_row137\" class=\"row_heading level0 row137\" >137</th>\n",

       "      <td id=\"T_0a507_row137_col0\" class=\"data row137 col0\" >0.010800</td>\n",

       "      <td id=\"T_0a507_row137_col1\" class=\"data row137 col1\" >0.010800</td>\n",

       "    </tr>\n",

       "    <tr>\n",

       "      <th id=\"T_0a507_level0_row138\" class=\"row_heading level0 row138\" >138</th>\n",

       "      <td id=\"T_0a507_row138_col0\" class=\"data row138 col0\" >0.952600</td>\n",

       "      <td id=\"T_0a507_row138_col1\" class=\"data row138 col1\" >0.952600</td>\n",

       "    </tr>\n",

       "    <tr>\n",

       "      <th id=\"T_0a507_level0_row139\" class=\"row_heading level0 row139\" >139</th>\n",

       "      <td id=\"T_0a507_row139_col0\" class=\"data row139 col0\" >7.551600</td>\n",

       "      <td id=\"T_0a507_row139_col1\" class=\"data row139 col1\" >7.551600</td>\n",

       "    </tr>\n",

       "    <tr>\n",

       "      <th id=\"T_0a507_level0_row140\" class=\"row_heading level0 row140\" >140</th>\n",

       "      <td id=\"T_0a507_row140_col0\" class=\"data row140 col0\" >1420.752800</td>\n",

       "      <td id=\"T_0a507_row140_col1\" class=\"data row140 col1\" >1420.752800</td>\n",

       "    </tr>\n",

       "    <tr>\n",

       "      <th id=\"T_0a507_level0_row141\" class=\"row_heading level0 row141\" >141</th>\n",

       "      <td id=\"T_0a507_row141_col0\" class=\"data row141 col0\" >3342.212600</td>\n",

       "      <td id=\"T_0a507_row141_col1\" class=\"data row141 col1\" >3342.212600</td>\n",

       "    </tr>\n",

       "    <tr>\n",

       "      <th id=\"T_0a507_level0_row142\" class=\"row_heading level0 row142\" >142</th>\n",

       "      <td id=\"T_0a507_row142_col0\" class=\"data row142 col0\" >203.534000</td>\n",

       "      <td id=\"T_0a507_row142_col1\" class=\"data row142 col1\" >203.534000</td>\n",

       "    </tr>\n",

       "    <tr>\n",

       "      <th id=\"T_0a507_level0_row143\" class=\"row_heading level0 row143\" >143</th>\n",

       "      <td id=\"T_0a507_row143_col0\" class=\"data row143 col0\" >839734.320600</td>\n",

       "      <td id=\"T_0a507_row143_col1\" class=\"data row143 col1\" >839734.320600</td>\n",

       "    </tr>\n",

       "    <tr>\n",

       "      <th id=\"T_0a507_level0_row144\" class=\"row_heading level0 row144\" >144</th>\n",

       "      <td id=\"T_0a507_row144_col0\" class=\"data row144 col0\" >44044.405800</td>\n",

       "      <td id=\"T_0a507_row144_col1\" class=\"data row144 col1\" >44044.405800</td>\n",

       "    </tr>\n",

       "    <tr>\n",

       "      <th id=\"T_0a507_level0_row145\" class=\"row_heading level0 row145\" >145</th>\n",

       "      <td id=\"T_0a507_row145_col0\" class=\"data row145 col0\" >0.000000</td>\n",

       "      <td id=\"T_0a507_row145_col1\" class=\"data row145 col1\" >0.000000</td>\n",

       "    </tr>\n",

       "    <tr>\n",

       "      <th id=\"T_0a507_level0_row146\" class=\"row_heading level0 row146\" >146</th>\n",

       "      <td id=\"T_0a507_row146_col0\" class=\"data row146 col0\" >239.901036</td>\n",

       "      <td id=\"T_0a507_row146_col1\" class=\"data row146 col1\" >239.901036</td>\n",

       "    </tr>\n",

       "    <tr>\n",

       "      <th id=\"T_0a507_level0_row147\" class=\"row_heading level0 row147\" >147</th>\n",

       "      <td id=\"T_0a507_row147_col0\" class=\"data row147 col0\" >225992.868204</td>\n",

       "      <td id=\"T_0a507_row147_col1\" class=\"data row147 col1\" >225992.868204</td>\n",

       "    </tr>\n",

       "    <tr>\n",

       "      <th id=\"T_0a507_level0_row148\" class=\"row_heading level0 row148\" >148</th>\n",

       "      <td id=\"T_0a507_row148_col0\" class=\"data row148 col0\" >17.687708</td>\n",

       "      <td id=\"T_0a507_row148_col1\" class=\"data row148 col1\" >17.687708</td>\n",

       "    </tr>\n",

       "    <tr>\n",

       "      <th id=\"T_0a507_level0_row149\" class=\"row_heading level0 row149\" >149</th>\n",

       "      <td id=\"T_0a507_row149_col0\" class=\"data row149 col0\" >2549.199400</td>\n",

       "      <td id=\"T_0a507_row149_col1\" class=\"data row149 col1\" >2549.199400</td>\n",

       "    </tr>\n",

       "    <tr>\n",

       "      <th id=\"T_0a507_level0_row150\" class=\"row_heading level0 row150\" >150</th>\n",

       "      <td id=\"T_0a507_row150_col0\" class=\"data row150 col0\" >0.000000</td>\n",

       "      <td id=\"T_0a507_row150_col1\" class=\"data row150 col1\" >0.000000</td>\n",

       "    </tr>\n",

       "    <tr>\n",

       "      <th id=\"T_0a507_level0_row151\" class=\"row_heading level0 row151\" >151</th>\n",

       "      <td id=\"T_0a507_row151_col0\" class=\"data row151 col0\" >119.589145</td>\n",

       "      <td id=\"T_0a507_row151_col1\" class=\"data row151 col1\" >119.589145</td>\n",

       "    </tr>\n",

       "    <tr>\n",

       "      <th id=\"T_0a507_level0_row152\" class=\"row_heading level0 row152\" >152</th>\n",

       "      <td id=\"T_0a507_row152_col0\" class=\"data row152 col0\" >38.275841</td>\n",

       "      <td id=\"T_0a507_row152_col1\" class=\"data row152 col1\" >38.275841</td>\n",

       "    </tr>\n",

       "    <tr>\n",

       "      <th id=\"T_0a507_level0_row153\" class=\"row_heading level0 row153\" >153</th>\n",

       "      <td id=\"T_0a507_row153_col0\" class=\"data row153 col0\" >2558.960600</td>\n",

       "      <td id=\"T_0a507_row153_col1\" class=\"data row153 col1\" >2558.960600</td>\n",

       "    </tr>\n",

       "    <tr>\n",

       "      <th id=\"T_0a507_level0_row154\" class=\"row_heading level0 row154\" >154</th>\n",

       "      <td id=\"T_0a507_row154_col0\" class=\"data row154 col0\" >0.000000</td>\n",

       "      <td id=\"T_0a507_row154_col1\" class=\"data row154 col1\" >0.000000</td>\n",

       "    </tr>\n",

       "    <tr>\n",

       "      <th id=\"T_0a507_level0_row155\" class=\"row_heading level0 row155\" >155</th>\n",

       "      <td id=\"T_0a507_row155_col0\" class=\"data row155 col0\" >189.262132</td>\n",

       "      <td id=\"T_0a507_row155_col1\" class=\"data row155 col1\" >189.262132</td>\n",

       "    </tr>\n",

       "    <tr>\n",

       "      <th id=\"T_0a507_level0_row156\" class=\"row_heading level0 row156\" >156</th>\n",

       "      <td id=\"T_0a507_row156_col0\" class=\"data row156 col0\" >32.983244</td>\n",

       "      <td id=\"T_0a507_row156_col1\" class=\"data row156 col1\" >32.983244</td>\n",

       "    </tr>\n",

       "    <tr>\n",

       "      <th id=\"T_0a507_level0_row157\" class=\"row_heading level0 row157\" >157</th>\n",

       "      <td id=\"T_0a507_row157_col0\" class=\"data row157 col0\" >2592.019600</td>\n",

       "      <td id=\"T_0a507_row157_col1\" class=\"data row157 col1\" >2592.019600</td>\n",

       "    </tr>\n",

       "    <tr>\n",

       "      <th id=\"T_0a507_level0_row158\" class=\"row_heading level0 row158\" >158</th>\n",

       "      <td id=\"T_0a507_row158_col0\" class=\"data row158 col0\" >1.553500</td>\n",

       "      <td id=\"T_0a507_row158_col1\" class=\"data row158 col1\" >1.553500</td>\n",

       "    </tr>\n",

       "    <tr>\n",

       "      <th id=\"T_0a507_level0_row159\" class=\"row_heading level0 row159\" >159</th>\n",

       "      <td id=\"T_0a507_row159_col0\" class=\"data row159 col0\" >155.594874</td>\n",

       "      <td id=\"T_0a507_row159_col1\" class=\"data row159 col1\" >155.594874</td>\n",

       "    </tr>\n",

       "    <tr>\n",

       "      <th id=\"T_0a507_level0_row160\" class=\"row_heading level0 row160\" >160</th>\n",

       "      <td id=\"T_0a507_row160_col0\" class=\"data row160 col0\" >4131.404816</td>\n",

       "      <td id=\"T_0a507_row160_col1\" class=\"data row160 col1\" >4131.404816</td>\n",

       "    </tr>\n",

       "    <tr>\n",

       "      <th id=\"T_0a507_level0_row161\" class=\"row_heading level0 row161\" >161</th>\n",

       "      <td id=\"T_0a507_row161_col0\" class=\"data row161 col0\" >8650.360200</td>\n",

       "      <td id=\"T_0a507_row161_col1\" class=\"data row161 col1\" >8650.360200</td>\n",

       "    </tr>\n",

       "    <tr>\n",

       "      <th id=\"T_0a507_level0_row162\" class=\"row_heading level0 row162\" >162</th>\n",

       "      <td id=\"T_0a507_row162_col0\" class=\"data row162 col0\" >183.544600</td>\n",

       "      <td id=\"T_0a507_row162_col1\" class=\"data row162 col1\" >183.544600</td>\n",

       "    </tr>\n",

       "    <tr>\n",

       "      <th id=\"T_0a507_level0_row163\" class=\"row_heading level0 row163\" >163</th>\n",

       "      <td id=\"T_0a507_row163_col0\" class=\"data row163 col0\" >2642.223148</td>\n",

       "      <td id=\"T_0a507_row163_col1\" class=\"data row163 col1\" >2642.223148</td>\n",

       "    </tr>\n",

       "    <tr>\n",

       "      <th id=\"T_0a507_level0_row164\" class=\"row_heading level0 row164\" >164</th>\n",

       "      <td id=\"T_0a507_row164_col0\" class=\"data row164 col0\" >1078.103180</td>\n",

       "      <td id=\"T_0a507_row164_col1\" class=\"data row164 col1\" >1078.103180</td>\n",

       "    </tr>\n",

       "    <tr>\n",

       "      <th id=\"T_0a507_level0_row165\" class=\"row_heading level0 row165\" >165</th>\n",

       "      <td id=\"T_0a507_row165_col0\" class=\"data row165 col0\" >2537.411200</td>\n",

       "      <td id=\"T_0a507_row165_col1\" class=\"data row165 col1\" >2537.411200</td>\n",

       "    </tr>\n",

       "    <tr>\n",

       "      <th id=\"T_0a507_level0_row166\" class=\"row_heading level0 row166\" >166</th>\n",

       "      <td id=\"T_0a507_row166_col0\" class=\"data row166 col0\" >418.275000</td>\n",

       "      <td id=\"T_0a507_row166_col1\" class=\"data row166 col1\" >418.275000</td>\n",

       "    </tr>\n",

       "    <tr>\n",

       "      <th id=\"T_0a507_level0_row167\" class=\"row_heading level0 row167\" >167</th>\n",

       "      <td id=\"T_0a507_row167_col0\" class=\"data row167 col0\" >706.281175</td>\n",

       "      <td id=\"T_0a507_row167_col1\" class=\"data row167 col1\" >706.281175</td>\n",

       "    </tr>\n",

       "    <tr>\n",

       "      <th id=\"T_0a507_level0_row168\" class=\"row_heading level0 row168\" >168</th>\n",

       "      <td id=\"T_0a507_row168_col0\" class=\"data row168 col0\" >429.199400</td>\n",

       "      <td id=\"T_0a507_row168_col1\" class=\"data row168 col1\" >429.199400</td>\n",

       "    </tr>\n",

       "    <tr>\n",

       "      <th id=\"T_0a507_level0_row169\" class=\"row_heading level0 row169\" >169</th>\n",

       "      <td id=\"T_0a507_row169_col0\" class=\"data row169 col0\" >8611.614800</td>\n",

       "      <td id=\"T_0a507_row169_col1\" class=\"data row169 col1\" >8611.614800</td>\n",

       "    </tr>\n",

       "    <tr>\n",

       "      <th id=\"T_0a507_level0_row170\" class=\"row_heading level0 row170\" >170</th>\n",

       "      <td id=\"T_0a507_row170_col0\" class=\"data row170 col0\" >1009.414200</td>\n",

       "      <td id=\"T_0a507_row170_col1\" class=\"data row170 col1\" >1009.414200</td>\n",

       "    </tr>\n",

       "    <tr>\n",

       "      <th id=\"T_0a507_level0_row171\" class=\"row_heading level0 row171\" >171</th>\n",

       "      <td id=\"T_0a507_row171_col0\" class=\"data row171 col0\" >1413097.806000</td>\n",

       "      <td id=\"T_0a507_row171_col1\" class=\"data row171 col1\" >1413097.806000</td>\n",

       "    </tr>\n",

       "    <tr>\n",

       "      <th id=\"T_0a507_level0_row172\" class=\"row_heading level0 row172\" >172</th>\n",

       "      <td id=\"T_0a507_row172_col0\" class=\"data row172 col0\" >1.000000</td>\n",

       "      <td id=\"T_0a507_row172_col1\" class=\"data row172 col1\" >1.000000</td>\n",

       "    </tr>\n",

       "    <tr>\n",

       "      <th id=\"T_0a507_level0_row173\" class=\"row_heading level0 row173\" >173</th>\n",

       "      <td id=\"T_0a507_row173_col0\" class=\"data row173 col0\" >6.650000</td>\n",

       "      <td id=\"T_0a507_row173_col1\" class=\"data row173 col1\" >6.650000</td>\n",

       "    </tr>\n",

       "    <tr>\n",

       "      <th id=\"T_0a507_level0_row174\" class=\"row_heading level0 row174\" >174</th>\n",

       "      <td id=\"T_0a507_row174_col0\" class=\"data row174 col0\" >1460.000000</td>\n",

       "      <td id=\"T_0a507_row174_col1\" class=\"data row174 col1\" >1460.000000</td>\n",

       "    </tr>\n",

       "    <tr>\n",

       "      <th id=\"T_0a507_level0_row175\" class=\"row_heading level0 row175\" >175</th>\n",

       "      <td id=\"T_0a507_row175_col0\" class=\"data row175 col0\" >772.850400</td>\n",

       "      <td id=\"T_0a507_row175_col1\" class=\"data row175 col1\" >772.850400</td>\n",

       "    </tr>\n",

       "    <tr>\n",

       "      <th id=\"T_0a507_level0_row176\" class=\"row_heading level0 row176\" >176</th>\n",

       "      <td id=\"T_0a507_row176_col0\" class=\"data row176 col0\" >143.387600</td>\n",

       "      <td id=\"T_0a507_row176_col1\" class=\"data row176 col1\" >143.387600</td>\n",

       "    </tr>\n",

       "    <tr>\n",

       "      <th id=\"T_0a507_level0_row177\" class=\"row_heading level0 row177\" >177</th>\n",

       "      <td id=\"T_0a507_row177_col0\" class=\"data row177 col0\" >508716.977600</td>\n",

       "      <td id=\"T_0a507_row177_col1\" class=\"data row177 col1\" >508716.977600</td>\n",

       "    </tr>\n",

       "    <tr>\n",

       "      <th id=\"T_0a507_level0_row178\" class=\"row_heading level0 row178\" >178</th>\n",

       "      <td id=\"T_0a507_row178_col0\" class=\"data row178 col0\" >28973.705800</td>\n",

       "      <td id=\"T_0a507_row178_col1\" class=\"data row178 col1\" >28973.705800</td>\n",

       "    </tr>\n",

       "    <tr>\n",

       "      <th id=\"T_0a507_level0_row179\" class=\"row_heading level0 row179\" >179</th>\n",

       "      <td id=\"T_0a507_row179_col0\" class=\"data row179 col0\" >0.010800</td>\n",

       "      <td id=\"T_0a507_row179_col1\" class=\"data row179 col1\" >0.010800</td>\n",

       "    </tr>\n",

       "    <tr>\n",

       "      <th id=\"T_0a507_level0_row180\" class=\"row_heading level0 row180\" >180</th>\n",

       "      <td id=\"T_0a507_row180_col0\" class=\"data row180 col0\" >0.952600</td>\n",

       "      <td id=\"T_0a507_row180_col1\" class=\"data row180 col1\" >0.952600</td>\n",

       "    </tr>\n",

       "    <tr>\n",

       "      <th id=\"T_0a507_level0_row181\" class=\"row_heading level0 row181\" >181</th>\n",

       "      <td id=\"T_0a507_row181_col0\" class=\"data row181 col0\" >7.551600</td>\n",

       "      <td id=\"T_0a507_row181_col1\" class=\"data row181 col1\" >7.551600</td>\n",

       "    </tr>\n",

       "    <tr>\n",

       "      <th id=\"T_0a507_level0_row182\" class=\"row_heading level0 row182\" >182</th>\n",

       "      <td id=\"T_0a507_row182_col0\" class=\"data row182 col0\" >1420.752800</td>\n",

       "      <td id=\"T_0a507_row182_col1\" class=\"data row182 col1\" >1420.752800</td>\n",

       "    </tr>\n",

       "    <tr>\n",

       "      <th id=\"T_0a507_level0_row183\" class=\"row_heading level0 row183\" >183</th>\n",

       "      <td id=\"T_0a507_row183_col0\" class=\"data row183 col0\" >3353.343800</td>\n",

       "      <td id=\"T_0a507_row183_col1\" class=\"data row183 col1\" >3353.343800</td>\n",

       "    </tr>\n",

       "    <tr>\n",

       "      <th id=\"T_0a507_level0_row184\" class=\"row_heading level0 row184\" >184</th>\n",

       "      <td id=\"T_0a507_row184_col0\" class=\"data row184 col0\" >205.729600</td>\n",

       "      <td id=\"T_0a507_row184_col1\" class=\"data row184 col1\" >205.729600</td>\n",

       "    </tr>\n",

       "    <tr>\n",

       "      <th id=\"T_0a507_level0_row185\" class=\"row_heading level0 row185\" >185</th>\n",

       "      <td id=\"T_0a507_row185_col0\" class=\"data row185 col0\" >839772.718000</td>\n",

       "      <td id=\"T_0a507_row185_col1\" class=\"data row185 col1\" >839772.718000</td>\n",

       "    </tr>\n",

       "    <tr>\n",

       "      <th id=\"T_0a507_level0_row186\" class=\"row_heading level0 row186\" >186</th>\n",

       "      <td id=\"T_0a507_row186_col0\" class=\"data row186 col0\" >44040.173800</td>\n",

       "      <td id=\"T_0a507_row186_col1\" class=\"data row186 col1\" >44040.173800</td>\n",

       "    </tr>\n",

       "    <tr>\n",

       "      <th id=\"T_0a507_level0_row187\" class=\"row_heading level0 row187\" >187</th>\n",

       "      <td id=\"T_0a507_row187_col0\" class=\"data row187 col0\" >0.000000</td>\n",

       "      <td id=\"T_0a507_row187_col1\" class=\"data row187 col1\" >0.000000</td>\n",

       "    </tr>\n",

       "    <tr>\n",

       "      <th id=\"T_0a507_level0_row188\" class=\"row_heading level0 row188\" >188</th>\n",

       "      <td id=\"T_0a507_row188_col0\" class=\"data row188 col0\" >239.764744</td>\n",

       "      <td id=\"T_0a507_row188_col1\" class=\"data row188 col1\" >239.764744</td>\n",

       "    </tr>\n",

       "    <tr>\n",

       "      <th id=\"T_0a507_level0_row189\" class=\"row_heading level0 row189\" >189</th>\n",

       "      <td id=\"T_0a507_row189_col0\" class=\"data row189 col0\" >226297.172690</td>\n",

       "      <td id=\"T_0a507_row189_col1\" class=\"data row189 col1\" >226297.172690</td>\n",

       "    </tr>\n",

       "    <tr>\n",

       "      <th id=\"T_0a507_level0_row190\" class=\"row_heading level0 row190\" >190</th>\n",

       "      <td id=\"T_0a507_row190_col0\" class=\"data row190 col0\" >20.097343</td>\n",

       "      <td id=\"T_0a507_row190_col1\" class=\"data row190 col1\" >20.097343</td>\n",

       "    </tr>\n",

       "    <tr>\n",

       "      <th id=\"T_0a507_level0_row191\" class=\"row_heading level0 row191\" >191</th>\n",

       "      <td id=\"T_0a507_row191_col0\" class=\"data row191 col0\" >2599.196600</td>\n",

       "      <td id=\"T_0a507_row191_col1\" class=\"data row191 col1\" >2599.196600</td>\n",

       "    </tr>\n",

       "    <tr>\n",

       "      <th id=\"T_0a507_level0_row192\" class=\"row_heading level0 row192\" >192</th>\n",

       "      <td id=\"T_0a507_row192_col0\" class=\"data row192 col0\" >0.000000</td>\n",

       "      <td id=\"T_0a507_row192_col1\" class=\"data row192 col1\" >0.000000</td>\n",

       "    </tr>\n",

       "    <tr>\n",

       "      <th id=\"T_0a507_level0_row193\" class=\"row_heading level0 row193\" >193</th>\n",

       "      <td id=\"T_0a507_row193_col0\" class=\"data row193 col0\" >129.364943</td>\n",

       "      <td id=\"T_0a507_row193_col1\" class=\"data row193 col1\" >129.364943</td>\n",

       "    </tr>\n",

       "    <tr>\n",

       "      <th id=\"T_0a507_level0_row194\" class=\"row_heading level0 row194\" >194</th>\n",

       "      <td id=\"T_0a507_row194_col0\" class=\"data row194 col0\" >41.224179</td>\n",

       "      <td id=\"T_0a507_row194_col1\" class=\"data row194 col1\" >41.224179</td>\n",

       "    </tr>\n",

       "    <tr>\n",

       "      <th id=\"T_0a507_level0_row195\" class=\"row_heading level0 row195\" >195</th>\n",

       "      <td id=\"T_0a507_row195_col0\" class=\"data row195 col0\" >2593.857200</td>\n",

       "      <td id=\"T_0a507_row195_col1\" class=\"data row195 col1\" >2593.857200</td>\n",

       "    </tr>\n",

       "    <tr>\n",

       "      <th id=\"T_0a507_level0_row196\" class=\"row_heading level0 row196\" >196</th>\n",

       "      <td id=\"T_0a507_row196_col0\" class=\"data row196 col0\" >0.000000</td>\n",

       "      <td id=\"T_0a507_row196_col1\" class=\"data row196 col1\" >0.000000</td>\n",

       "    </tr>\n",

       "    <tr>\n",

       "      <th id=\"T_0a507_level0_row197\" class=\"row_heading level0 row197\" >197</th>\n",

       "      <td id=\"T_0a507_row197_col0\" class=\"data row197 col0\" >197.712814</td>\n",

       "      <td id=\"T_0a507_row197_col1\" class=\"data row197 col1\" >197.712814</td>\n",

       "    </tr>\n",

       "    <tr>\n",

       "      <th id=\"T_0a507_level0_row198\" class=\"row_heading level0 row198\" >198</th>\n",

       "      <td id=\"T_0a507_row198_col0\" class=\"data row198 col0\" >35.653458</td>\n",

       "      <td id=\"T_0a507_row198_col1\" class=\"data row198 col1\" >35.653458</td>\n",

       "    </tr>\n",

       "    <tr>\n",

       "      <th id=\"T_0a507_level0_row199\" class=\"row_heading level0 row199\" >199</th>\n",

       "      <td id=\"T_0a507_row199_col0\" class=\"data row199 col0\" >2618.868200</td>\n",

       "      <td id=\"T_0a507_row199_col1\" class=\"data row199 col1\" >2618.868200</td>\n",

       "    </tr>\n",

       "    <tr>\n",

       "      <th id=\"T_0a507_level0_row200\" class=\"row_heading level0 row200\" >200</th>\n",

       "      <td id=\"T_0a507_row200_col0\" class=\"data row200 col0\" >0.868100</td>\n",

       "      <td id=\"T_0a507_row200_col1\" class=\"data row200 col1\" >0.868100</td>\n",

       "    </tr>\n",

       "    <tr>\n",

       "      <th id=\"T_0a507_level0_row201\" class=\"row_heading level0 row201\" >201</th>\n",

       "      <td id=\"T_0a507_row201_col0\" class=\"data row201 col0\" >163.702031</td>\n",

       "      <td id=\"T_0a507_row201_col1\" class=\"data row201 col1\" >163.702031</td>\n",

       "    </tr>\n",

       "    <tr>\n",

       "      <th id=\"T_0a507_level0_row202\" class=\"row_heading level0 row202\" >202</th>\n",

       "      <td id=\"T_0a507_row202_col0\" class=\"data row202 col0\" >4147.319574</td>\n",

       "      <td id=\"T_0a507_row202_col1\" class=\"data row202 col1\" >4147.319574</td>\n",

       "    </tr>\n",

       "    <tr>\n",

       "      <th id=\"T_0a507_level0_row203\" class=\"row_heading level0 row203\" >203</th>\n",

       "      <td id=\"T_0a507_row203_col0\" class=\"data row203 col0\" >8684.646600</td>\n",

       "      <td id=\"T_0a507_row203_col1\" class=\"data row203 col1\" >8684.646600</td>\n",

       "    </tr>\n",

       "    <tr>\n",

       "      <th id=\"T_0a507_level0_row204\" class=\"row_heading level0 row204\" >204</th>\n",

       "      <td id=\"T_0a507_row204_col0\" class=\"data row204 col0\" >184.792400</td>\n",

       "      <td id=\"T_0a507_row204_col1\" class=\"data row204 col1\" >184.792400</td>\n",

       "    </tr>\n",

       "    <tr>\n",

       "      <th id=\"T_0a507_level0_row205\" class=\"row_heading level0 row205\" >205</th>\n",

       "      <td id=\"T_0a507_row205_col0\" class=\"data row205 col0\" >2656.209134</td>\n",

       "      <td id=\"T_0a507_row205_col1\" class=\"data row205 col1\" >2656.209134</td>\n",

       "    </tr>\n",

       "    <tr>\n",

       "      <th id=\"T_0a507_level0_row206\" class=\"row_heading level0 row206\" >206</th>\n",

       "      <td id=\"T_0a507_row206_col0\" class=\"data row206 col0\" >1098.243641</td>\n",

       "      <td id=\"T_0a507_row206_col1\" class=\"data row206 col1\" >1098.243641</td>\n",

       "    </tr>\n",

       "    <tr>\n",

       "      <th id=\"T_0a507_level0_row207\" class=\"row_heading level0 row207\" >207</th>\n",

       "      <td id=\"T_0a507_row207_col0\" class=\"data row207 col0\" >2587.658600</td>\n",

       "      <td id=\"T_0a507_row207_col1\" class=\"data row207 col1\" >2587.658600</td>\n",

       "    </tr>\n",

       "    <tr>\n",

       "      <th id=\"T_0a507_level0_row208\" class=\"row_heading level0 row208\" >208</th>\n",

       "      <td id=\"T_0a507_row208_col0\" class=\"data row208 col0\" >425.208400</td>\n",

       "      <td id=\"T_0a507_row208_col1\" class=\"data row208 col1\" >425.208400</td>\n",

       "    </tr>\n",

       "    <tr>\n",

       "      <th id=\"T_0a507_level0_row209\" class=\"row_heading level0 row209\" >209</th>\n",

       "      <td id=\"T_0a507_row209_col0\" class=\"data row209 col0\" >724.161892</td>\n",

       "      <td id=\"T_0a507_row209_col1\" class=\"data row209 col1\" >724.161892</td>\n",

       "    </tr>\n",

       "    <tr>\n",

       "      <th id=\"T_0a507_level0_row210\" class=\"row_heading level0 row210\" >210</th>\n",

       "      <td id=\"T_0a507_row210_col0\" class=\"data row210 col0\" >0.000000</td>\n",

       "      <td id=\"T_0a507_row210_col1\" class=\"data row210 col1\" >0.000000</td>\n",

       "    </tr>\n",

       "  </tbody>\n",

       "</table>\n"

      ],

      "text/plain": [

       "<pandas.io.formats.style.Styler at 0x7f4fceff0a10>"

      ]

     },

     "execution_count": 3,

     "metadata": {},

     "output_type": "execute_result"

    }

   ],

   "source": [

    "# Split each row and turn into numpy array of floats\n",

    "rdd2 = rdd1.map(lambda x: np.array(x.split(), dtype=float))\n",

    "\n",

    "# Read num of rows\n",

    "n = rdd2.count()\n",

    "\n",

    "# Add up all rows and get single numpy array\n",

    "aux = rdd2.reduce(lambda x, y: x + y)\n",

    "\n",

    "# Calculate the mean\n",

    "my_mean = aux / n\n",

    "mean = rdd2.mean() # calculate reference values with high level function\n",

    "\n",

    "# Plot as dataframe\n",

    "pd.DataFrame({'myResult': my_mean, 'reference': mean}).style.set_caption(\"Mean for all Columns:\")"

   ]

  },

  {

   "cell_type": "code",

   "execution_count": 4,

   "id": "cfb01d82",

   "metadata": {

    "ExecuteTime": {

     "end_time": "2023-09-29T18:04:14.996652Z",

     "start_time": "2023-09-29T18:04:14.422813Z"

    }

   },

   "outputs": [

    {

     "data": {

      "text/html": [

       "<style type=\"text/css\">\n",

       "</style>\n",

       "<table id=\"T_3dfdf_\">\n",

       "  <caption>Std. Deviation for all Columns:</caption>\n",

       "  <thead>\n",

       "    <tr>\n",

       "      <th class=\"blank level0\" >&nbsp;</th>\n",

       "      <th class=\"col_heading level0 col0\" >myResult</th>\n",

       "      <th class=\"col_heading level0 col1\" >oneStep</th>\n",

       "    </tr>\n",

       "  </thead>\n",

       "  <tbody>\n",

       "    <tr>\n",

       "      <th id=\"T_3dfdf_level0_row0\" class=\"row_heading level0 row0\" >0</th>\n",

       "      <td id=\"T_3dfdf_row0_col0\" class=\"data row0 col0\" >633.891289</td>\n",

       "      <td id=\"T_3dfdf_row0_col1\" class=\"data row0 col1\" >633.891289</td>\n",

       "    </tr>\n",

       "    <tr>\n",

       "      <th id=\"T_3dfdf_level0_row1\" class=\"row_heading level0 row1\" >1</th>\n",

       "      <td id=\"T_3dfdf_row1_col0\" class=\"data row1 col0\" >56288.305520</td>\n",

       "      <td id=\"T_3dfdf_row1_col1\" class=\"data row1 col1\" >56288.305520</td>\n",

       "    </tr>\n",

       "    <tr>\n",

       "      <th id=\"T_3dfdf_level0_row2\" class=\"row_heading level0 row2\" >2</th>\n",

       "      <td id=\"T_3dfdf_row2_col0\" class=\"data row2 col0\" >1720.350442</td>\n",

       "      <td id=\"T_3dfdf_row2_col1\" class=\"data row2 col1\" >1720.350442</td>\n",

       "    </tr>\n",

       "    <tr>\n",

       "      <th id=\"T_3dfdf_level0_row3\" class=\"row_heading level0 row3\" >3</th>\n",

       "      <td id=\"T_3dfdf_row3_col0\" class=\"data row3 col0\" >2425645.279927</td>\n",

       "      <td id=\"T_3dfdf_row3_col1\" class=\"data row3 col1\" >2425645.279927</td>\n",

       "    </tr>\n",

       "    <tr>\n",

       "      <th id=\"T_3dfdf_level0_row4\" class=\"row_heading level0 row4\" >4</th>\n",

       "      <td id=\"T_3dfdf_row4_col0\" class=\"data row4 col0\" >0.000000</td>\n",

       "      <td id=\"T_3dfdf_row4_col1\" class=\"data row4 col1\" >0.000000</td>\n",

       "    </tr>\n",

       "    <tr>\n",

       "      <th id=\"T_3dfdf_level0_row5\" class=\"row_heading level0 row5\" >5</th>\n",

       "      <td id=\"T_3dfdf_row5_col0\" class=\"data row5 col0\" >1.516912</td>\n",

       "      <td id=\"T_3dfdf_row5_col1\" class=\"data row5 col1\" >1.516912</td>\n",

       "    </tr>\n",

       "    <tr>\n",

       "      <th id=\"T_3dfdf_level0_row6\" class=\"row_heading level0 row6\" >6</th>\n",

       "      <td id=\"T_3dfdf_row6_col0\" class=\"data row6 col0\" >0.000000</td>\n",

       "      <td id=\"T_3dfdf_row6_col1\" class=\"data row6 col1\" >0.000000</td>\n",

       "    </tr>\n",

       "    <tr>\n",

       "      <th id=\"T_3dfdf_level0_row7\" class=\"row_heading level0 row7\" >7</th>\n",

       "      <td id=\"T_3dfdf_row7_col0\" class=\"data row7 col0\" >559.761197</td>\n",

       "      <td id=\"T_3dfdf_row7_col1\" class=\"data row7 col1\" >559.761197</td>\n",

       "    </tr>\n",

       "    <tr>\n",

       "      <th id=\"T_3dfdf_level0_row8\" class=\"row_heading level0 row8\" >8</th>\n",

       "      <td id=\"T_3dfdf_row8_col0\" class=\"data row8 col0\" >140.813233</td>\n",

       "      <td id=\"T_3dfdf_row8_col1\" class=\"data row8 col1\" >140.813233</td>\n",

       "    </tr>\n",

       "    <tr>\n",

       "      <th id=\"T_3dfdf_level0_row9\" class=\"row_heading level0 row9\" >9</th>\n",

       "      <td id=\"T_3dfdf_row9_col0\" class=\"data row9 col0\" >587803.753990</td>\n",

       "      <td id=\"T_3dfdf_row9_col1\" class=\"data row9 col1\" >587803.753990</td>\n",

       "    </tr>\n",

       "    <tr>\n",

       "      <th id=\"T_3dfdf_level0_row10\" class=\"row_heading level0 row10\" >10</th>\n",

       "      <td id=\"T_3dfdf_row10_col0\" class=\"data row10 col0\" >2552.305605</td>\n",

       "      <td id=\"T_3dfdf_row10_col1\" class=\"data row10 col1\" >2552.305605</td>\n",

       "    </tr>\n",

       "    <tr>\n",

       "      <th id=\"T_3dfdf_level0_row11\" class=\"row_heading level0 row11\" >11</th>\n",

       "      <td id=\"T_3dfdf_row11_col0\" class=\"data row11 col0\" >0.179676</td>\n",

       "      <td id=\"T_3dfdf_row11_col1\" class=\"data row11 col1\" >0.179676</td>\n",

       "    </tr>\n",

       "    <tr>\n",

       "      <th id=\"T_3dfdf_level0_row12\" class=\"row_heading level0 row12\" >12</th>\n",

       "      <td id=\"T_3dfdf_row12_col0\" class=\"data row12 col0\" >0.225623</td>\n",

       "      <td id=\"T_3dfdf_row12_col1\" class=\"data row12 col1\" >0.225623</td>\n",

       "    </tr>\n",

       "    <tr>\n",

       "      <th id=\"T_3dfdf_level0_row13\" class=\"row_heading level0 row13\" >13</th>\n",

       "      <td id=\"T_3dfdf_row13_col0\" class=\"data row13 col0\" >1.989070</td>\n",

       "      <td id=\"T_3dfdf_row13_col1\" class=\"data row13 col1\" >1.989070</td>\n",

       "    </tr>\n",

       "    <tr>\n",

       "      <th id=\"T_3dfdf_level0_row14\" class=\"row_heading level0 row14\" >14</th>\n",

       "      <td id=\"T_3dfdf_row14_col0\" class=\"data row14 col0\" >120.961995</td>\n",

       "      <td id=\"T_3dfdf_row14_col1\" class=\"data row14 col1\" >120.961995</td>\n",

       "    </tr>\n",

       "    <tr>\n",

       "      <th id=\"T_3dfdf_level0_row15\" class=\"row_heading level0 row15\" >15</th>\n",

       "      <td id=\"T_3dfdf_row15_col0\" class=\"data row15 col0\" >4436.946810</td>\n",

       "      <td id=\"T_3dfdf_row15_col1\" class=\"data row15 col1\" >4436.946810</td>\n",

       "    </tr>\n",

       "    <tr>\n",

       "      <th id=\"T_3dfdf_level0_row16\" class=\"row_heading level0 row16\" >16</th>\n",

       "      <td id=\"T_3dfdf_row16_col0\" class=\"data row16 col0\" >322.425867</td>\n",

       "      <td id=\"T_3dfdf_row16_col1\" class=\"data row16 col1\" >322.425867</td>\n",

       "    </tr>\n",

       "    <tr>\n",

       "      <th id=\"T_3dfdf_level0_row17\" class=\"row_heading level0 row17\" >17</th>\n",

       "      <td id=\"T_3dfdf_row17_col0\" class=\"data row17 col0\" >3515411.545238</td>\n",

       "      <td id=\"T_3dfdf_row17_col1\" class=\"data row17 col1\" >3515411.545238</td>\n",

       "    </tr>\n",

       "    <tr>\n",

       "      <th id=\"T_3dfdf_level0_row18\" class=\"row_heading level0 row18\" >18</th>\n",

       "      <td id=\"T_3dfdf_row18_col0\" class=\"data row18 col0\" >20858.306164</td>\n",

       "      <td id=\"T_3dfdf_row18_col1\" class=\"data row18 col1\" >20858.306164</td>\n",

       "    </tr>\n",

       "    <tr>\n",

       "      <th id=\"T_3dfdf_level0_row19\" class=\"row_heading level0 row19\" >19</th>\n",

       "      <td id=\"T_3dfdf_row19_col0\" class=\"data row19 col0\" >0.000000</td>\n",

       "      <td id=\"T_3dfdf_row19_col1\" class=\"data row19 col1\" >0.000000</td>\n",

       "    </tr>\n",

       "    <tr>\n",

       "      <th id=\"T_3dfdf_level0_row20\" class=\"row_heading level0 row20\" >20</th>\n",

       "      <td id=\"T_3dfdf_row20_col0\" class=\"data row20 col0\" >337.769561</td>\n",

       "      <td id=\"T_3dfdf_row20_col1\" class=\"data row20 col1\" >337.769561</td>\n",

       "    </tr>\n",

       "    <tr>\n",

       "      <th id=\"T_3dfdf_level0_row21\" class=\"row_heading level0 row21\" >21</th>\n",

       "      <td id=\"T_3dfdf_row21_col0\" class=\"data row21 col0\" >389591.731301</td>\n",

       "      <td id=\"T_3dfdf_row21_col1\" class=\"data row21 col1\" >389591.731301</td>\n",

       "    </tr>\n",

       "    <tr>\n",

       "      <th id=\"T_3dfdf_level0_row22\" class=\"row_heading level0 row22\" >22</th>\n",

       "      <td id=\"T_3dfdf_row22_col0\" class=\"data row22 col0\" >55.770474</td>\n",

       "      <td id=\"T_3dfdf_row22_col1\" class=\"data row22 col1\" >55.770474</td>\n",

       "    </tr>\n",

       "    <tr>\n",

       "      <th id=\"T_3dfdf_level0_row23\" class=\"row_heading level0 row23\" >23</th>\n",

       "      <td id=\"T_3dfdf_row23_col0\" class=\"data row23 col0\" >4423.460656</td>\n",

       "      <td id=\"T_3dfdf_row23_col1\" class=\"data row23 col1\" >4423.460656</td>\n",

       "    </tr>\n",

       "    <tr>\n",

       "      <th id=\"T_3dfdf_level0_row24\" class=\"row_heading level0 row24\" >24</th>\n",

       "      <td id=\"T_3dfdf_row24_col0\" class=\"data row24 col0\" >0.000000</td>\n",

       "      <td id=\"T_3dfdf_row24_col1\" class=\"data row24 col1\" >0.000000</td>\n",

       "    </tr>\n",

       "    <tr>\n",

       "      <th id=\"T_3dfdf_level0_row25\" class=\"row_heading level0 row25\" >25</th>\n",

       "      <td id=\"T_3dfdf_row25_col0\" class=\"data row25 col0\" >324.421803</td>\n",

       "      <td id=\"T_3dfdf_row25_col1\" class=\"data row25 col1\" >324.421803</td>\n",

       "    </tr>\n",

       "    <tr>\n",

       "      <th id=\"T_3dfdf_level0_row26\" class=\"row_heading level0 row26\" >26</th>\n",

       "      <td id=\"T_3dfdf_row26_col0\" class=\"data row26 col0\" >106.005069</td>\n",

       "      <td id=\"T_3dfdf_row26_col1\" class=\"data row26 col1\" >106.005069</td>\n",

       "    </tr>\n",

       "    <tr>\n",

       "      <th id=\"T_3dfdf_level0_row27\" class=\"row_heading level0 row27\" >27</th>\n",

       "      <td id=\"T_3dfdf_row27_col0\" class=\"data row27 col0\" >4421.620489</td>\n",

       "      <td id=\"T_3dfdf_row27_col1\" class=\"data row27 col1\" >4421.620489</td>\n",

       "    </tr>\n",

       "    <tr>\n",

       "      <th id=\"T_3dfdf_level0_row28\" class=\"row_heading level0 row28\" >28</th>\n",

       "      <td id=\"T_3dfdf_row28_col0\" class=\"data row28 col0\" >0.000000</td>\n",

       "      <td id=\"T_3dfdf_row28_col1\" class=\"data row28 col1\" >0.000000</td>\n",

       "    </tr>\n",

       "    <tr>\n",

       "      <th id=\"T_3dfdf_level0_row29\" class=\"row_heading level0 row29\" >29</th>\n",

       "      <td id=\"T_3dfdf_row29_col0\" class=\"data row29 col0\" >464.677721</td>\n",

       "      <td id=\"T_3dfdf_row29_col1\" class=\"data row29 col1\" >464.677721</td>\n",

       "    </tr>\n",

       "    <tr>\n",

       "      <th id=\"T_3dfdf_level0_row30\" class=\"row_heading level0 row30\" >30</th>\n",

       "      <td id=\"T_3dfdf_row30_col0\" class=\"data row30 col0\" >120.203378</td>\n",

       "      <td id=\"T_3dfdf_row30_col1\" class=\"data row30 col1\" >120.203378</td>\n",

       "    </tr>\n",

       "    <tr>\n",

       "      <th id=\"T_3dfdf_level0_row31\" class=\"row_heading level0 row31\" >31</th>\n",

       "      <td id=\"T_3dfdf_row31_col0\" class=\"data row31 col0\" >4433.884017</td>\n",

       "      <td id=\"T_3dfdf_row31_col1\" class=\"data row31 col1\" >4433.884017</td>\n",

       "    </tr>\n",

       "    <tr>\n",

       "      <th id=\"T_3dfdf_level0_row32\" class=\"row_heading level0 row32\" >32</th>\n",

       "      <td id=\"T_3dfdf_row32_col0\" class=\"data row32 col0\" >24.431052</td>\n",

       "      <td id=\"T_3dfdf_row32_col1\" class=\"data row32 col1\" >24.431052</td>\n",

       "    </tr>\n",

       "    <tr>\n",

       "      <th id=\"T_3dfdf_level0_row33\" class=\"row_heading level0 row33\" >33</th>\n",

       "      <td id=\"T_3dfdf_row33_col0\" class=\"data row33 col0\" >449.990102</td>\n",

       "      <td id=\"T_3dfdf_row33_col1\" class=\"data row33 col1\" >449.990102</td>\n",

       "    </tr>\n",

       "    <tr>\n",

       "      <th id=\"T_3dfdf_level0_row34\" class=\"row_heading level0 row34\" >34</th>\n",

       "      <td id=\"T_3dfdf_row34_col0\" class=\"data row34 col0\" >13287.348707</td>\n",

       "      <td id=\"T_3dfdf_row34_col1\" class=\"data row34 col1\" >13287.348707</td>\n",

       "    </tr>\n",

       "    <tr>\n",

       "      <th id=\"T_3dfdf_level0_row35\" class=\"row_heading level0 row35\" >35</th>\n",

       "      <td id=\"T_3dfdf_row35_col0\" class=\"data row35 col0\" >24297.415941</td>\n",

       "      <td id=\"T_3dfdf_row35_col1\" class=\"data row35 col1\" >24297.415941</td>\n",

       "    </tr>\n",

       "    <tr>\n",

       "      <th id=\"T_3dfdf_level0_row36\" class=\"row_heading level0 row36\" >36</th>\n",

       "      <td id=\"T_3dfdf_row36_col0\" class=\"data row36 col0\" >208.766225</td>\n",

       "      <td id=\"T_3dfdf_row36_col1\" class=\"data row36 col1\" >208.766225</td>\n",

       "    </tr>\n",

       "    <tr>\n",

       "      <th id=\"T_3dfdf_level0_row37\" class=\"row_heading level0 row37\" >37</th>\n",

       "      <td id=\"T_3dfdf_row37_col0\" class=\"data row37 col0\" >6365.379615</td>\n",

       "      <td id=\"T_3dfdf_row37_col1\" class=\"data row37 col1\" >6365.379615</td>\n",

       "    </tr>\n",

       "    <tr>\n",

       "      <th id=\"T_3dfdf_level0_row38\" class=\"row_heading level0 row38\" >38</th>\n",

       "      <td id=\"T_3dfdf_row38_col0\" class=\"data row38 col0\" >1939.324315</td>\n",

       "      <td id=\"T_3dfdf_row38_col1\" class=\"data row38 col1\" >1939.324315</td>\n",

       "    </tr>\n",

       "    <tr>\n",

       "      <th id=\"T_3dfdf_level0_row39\" class=\"row_heading level0 row39\" >39</th>\n",

       "      <td id=\"T_3dfdf_row39_col0\" class=\"data row39 col0\" >4430.010340</td>\n",

       "      <td id=\"T_3dfdf_row39_col1\" class=\"data row39 col1\" >4430.010340</td>\n",

       "    </tr>\n",

       "    <tr>\n",

       "      <th id=\"T_3dfdf_level0_row40\" class=\"row_heading level0 row40\" >40</th>\n",

       "      <td id=\"T_3dfdf_row40_col0\" class=\"data row40 col0\" >1386.951891</td>\n",

       "      <td id=\"T_3dfdf_row40_col1\" class=\"data row40 col1\" >1386.951891</td>\n",

       "    </tr>\n",

       "    <tr>\n",

       "      <th id=\"T_3dfdf_level0_row41\" class=\"row_heading level0 row41\" >41</th>\n",

       "      <td id=\"T_3dfdf_row41_col0\" class=\"data row41 col0\" >1299.688423</td>\n",

       "      <td id=\"T_3dfdf_row41_col1\" class=\"data row41 col1\" >1299.688423</td>\n",

       "    </tr>\n",

       "    <tr>\n",

       "      <th id=\"T_3dfdf_level0_row42\" class=\"row_heading level0 row42\" >42</th>\n",

       "      <td id=\"T_3dfdf_row42_col0\" class=\"data row42 col0\" >633.838280</td>\n",

       "      <td id=\"T_3dfdf_row42_col1\" class=\"data row42 col1\" >633.838280</td>\n",

       "    </tr>\n",

       "    <tr>\n",

       "      <th id=\"T_3dfdf_level0_row43\" class=\"row_heading level0 row43\" >43</th>\n",

       "      <td id=\"T_3dfdf_row43_col0\" class=\"data row43 col0\" >56338.543241</td>\n",

       "      <td id=\"T_3dfdf_row43_col1\" class=\"data row43 col1\" >56338.543241</td>\n",

       "    </tr>\n",

       "    <tr>\n",

       "      <th id=\"T_3dfdf_level0_row44\" class=\"row_heading level0 row44\" >44</th>\n",

       "      <td id=\"T_3dfdf_row44_col0\" class=\"data row44 col0\" >1720.410401</td>\n",

       "      <td id=\"T_3dfdf_row44_col1\" class=\"data row44 col1\" >1720.410401</td>\n",

       "    </tr>\n",

       "    <tr>\n",

       "      <th id=\"T_3dfdf_level0_row45\" class=\"row_heading level0 row45\" >45</th>\n",

       "      <td id=\"T_3dfdf_row45_col0\" class=\"data row45 col0\" >2425765.243048</td>\n",

       "      <td id=\"T_3dfdf_row45_col1\" class=\"data row45 col1\" >2425765.243048</td>\n",

       "    </tr>\n",

       "    <tr>\n",

       "      <th id=\"T_3dfdf_level0_row46\" class=\"row_heading level0 row46\" >46</th>\n",

       "      <td id=\"T_3dfdf_row46_col0\" class=\"data row46 col0\" >0.000000</td>\n",

       "      <td id=\"T_3dfdf_row46_col1\" class=\"data row46 col1\" >0.000000</td>\n",

       "    </tr>\n",

       "    <tr>\n",

       "      <th id=\"T_3dfdf_level0_row47\" class=\"row_heading level0 row47\" >47</th>\n",

       "      <td id=\"T_3dfdf_row47_col0\" class=\"data row47 col0\" >1.519820</td>\n",

       "      <td id=\"T_3dfdf_row47_col1\" class=\"data row47 col1\" >1.519820</td>\n",

       "    </tr>\n",

       "    <tr>\n",

       "      <th id=\"T_3dfdf_level0_row48\" class=\"row_heading level0 row48\" >48</th>\n",

       "      <td id=\"T_3dfdf_row48_col0\" class=\"data row48 col0\" >0.000000</td>\n",

       "      <td id=\"T_3dfdf_row48_col1\" class=\"data row48 col1\" >0.000000</td>\n",

       "    </tr>\n",

       "    <tr>\n",

       "      <th id=\"T_3dfdf_level0_row49\" class=\"row_heading level0 row49\" >49</th>\n",

       "      <td id=\"T_3dfdf_row49_col0\" class=\"data row49 col0\" >557.077633</td>\n",

       "      <td id=\"T_3dfdf_row49_col1\" class=\"data row49 col1\" >557.077633</td>\n",

       "    </tr>\n",

       "    <tr>\n",

       "      <th id=\"T_3dfdf_level0_row50\" class=\"row_heading level0 row50\" >50</th>\n",

       "      <td id=\"T_3dfdf_row50_col0\" class=\"data row50 col0\" >141.472451</td>\n",

       "      <td id=\"T_3dfdf_row50_col1\" class=\"data row50 col1\" >141.472451</td>\n",

       "    </tr>\n",

       "    <tr>\n",

       "      <th id=\"T_3dfdf_level0_row51\" class=\"row_heading level0 row51\" >51</th>\n",

       "      <td id=\"T_3dfdf_row51_col0\" class=\"data row51 col0\" >587643.726519</td>\n",

       "      <td id=\"T_3dfdf_row51_col1\" class=\"data row51 col1\" >587643.726519</td>\n",

       "    </tr>\n",

       "    <tr>\n",

       "      <th id=\"T_3dfdf_level0_row52\" class=\"row_heading level0 row52\" >52</th>\n",

       "      <td id=\"T_3dfdf_row52_col0\" class=\"data row52 col0\" >2552.305605</td>\n",

       "      <td id=\"T_3dfdf_row52_col1\" class=\"data row52 col1\" >2552.305605</td>\n",

       "    </tr>\n",

       "    <tr>\n",

       "      <th id=\"T_3dfdf_level0_row53\" class=\"row_heading level0 row53\" >53</th>\n",

       "      <td id=\"T_3dfdf_row53_col0\" class=\"data row53 col0\" >0.179676</td>\n",

       "      <td id=\"T_3dfdf_row53_col1\" class=\"data row53 col1\" >0.179676</td>\n",

       "    </tr>\n",

       "    <tr>\n",

       "      <th id=\"T_3dfdf_level0_row54\" class=\"row_heading level0 row54\" >54</th>\n",

       "      <td id=\"T_3dfdf_row54_col0\" class=\"data row54 col0\" >0.212493</td>\n",

       "      <td id=\"T_3dfdf_row54_col1\" class=\"data row54 col1\" >0.212493</td>\n",

       "    </tr>\n",

       "    <tr>\n",

       "      <th id=\"T_3dfdf_level0_row55\" class=\"row_heading level0 row55\" >55</th>\n",

       "      <td id=\"T_3dfdf_row55_col0\" class=\"data row55 col0\" >1.897297</td>\n",

       "      <td id=\"T_3dfdf_row55_col1\" class=\"data row55 col1\" >1.897297</td>\n",

       "    </tr>\n",

       "    <tr>\n",

       "      <th id=\"T_3dfdf_level0_row56\" class=\"row_heading level0 row56\" >56</th>\n",

       "      <td id=\"T_3dfdf_row56_col0\" class=\"data row56 col0\" >31.754151</td>\n",

       "      <td id=\"T_3dfdf_row56_col1\" class=\"data row56 col1\" >31.754151</td>\n",

       "    </tr>\n",

       "    <tr>\n",

       "      <th id=\"T_3dfdf_level0_row57\" class=\"row_heading level0 row57\" >57</th>\n",

       "      <td id=\"T_3dfdf_row57_col0\" class=\"data row57 col0\" >4435.053257</td>\n",

       "      <td id=\"T_3dfdf_row57_col1\" class=\"data row57 col1\" >4435.053257</td>\n",

       "    </tr>\n",

       "    <tr>\n",

       "      <th id=\"T_3dfdf_level0_row58\" class=\"row_heading level0 row58\" >58</th>\n",

       "      <td id=\"T_3dfdf_row58_col0\" class=\"data row58 col0\" >324.590953</td>\n",

       "      <td id=\"T_3dfdf_row58_col1\" class=\"data row58 col1\" >324.590953</td>\n",

       "    </tr>\n",

       "    <tr>\n",

       "      <th id=\"T_3dfdf_level0_row59\" class=\"row_heading level0 row59\" >59</th>\n",

       "      <td id=\"T_3dfdf_row59_col0\" class=\"data row59 col0\" >3521359.660413</td>\n",

       "      <td id=\"T_3dfdf_row59_col1\" class=\"data row59 col1\" >3521359.660413</td>\n",

       "    </tr>\n",

       "    <tr>\n",

       "      <th id=\"T_3dfdf_level0_row60\" class=\"row_heading level0 row60\" >60</th>\n",

       "      <td id=\"T_3dfdf_row60_col0\" class=\"data row60 col0\" >20601.572031</td>\n",

       "      <td id=\"T_3dfdf_row60_col1\" class=\"data row60 col1\" >20601.572031</td>\n",

       "    </tr>\n",

       "    <tr>\n",

       "      <th id=\"T_3dfdf_level0_row61\" class=\"row_heading level0 row61\" >61</th>\n",

       "      <td id=\"T_3dfdf_row61_col0\" class=\"data row61 col0\" >0.000000</td>\n",

       "      <td id=\"T_3dfdf_row61_col1\" class=\"data row61 col1\" >0.000000</td>\n",

       "    </tr>\n",

       "    <tr>\n",

       "      <th id=\"T_3dfdf_level0_row62\" class=\"row_heading level0 row62\" >62</th>\n",

       "      <td id=\"T_3dfdf_row62_col0\" class=\"data row62 col0\" >337.507340</td>\n",

       "      <td id=\"T_3dfdf_row62_col1\" class=\"data row62 col1\" >337.507340</td>\n",

       "    </tr>\n",

       "    <tr>\n",

       "      <th id=\"T_3dfdf_level0_row63\" class=\"row_heading level0 row63\" >63</th>\n",

       "      <td id=\"T_3dfdf_row63_col0\" class=\"data row63 col0\" >389627.369903</td>\n",

       "      <td id=\"T_3dfdf_row63_col1\" class=\"data row63 col1\" >389627.369903</td>\n",

       "    </tr>\n",

       "    <tr>\n",

       "      <th id=\"T_3dfdf_level0_row64\" class=\"row_heading level0 row64\" >64</th>\n",

       "      <td id=\"T_3dfdf_row64_col0\" class=\"data row64 col0\" >53.563509</td>\n",

       "      <td id=\"T_3dfdf_row64_col1\" class=\"data row64 col1\" >53.563509</td>\n",

       "    </tr>\n",

       "    <tr>\n",

       "      <th id=\"T_3dfdf_level0_row65\" class=\"row_heading level0 row65\" >65</th>\n",

       "      <td id=\"T_3dfdf_row65_col0\" class=\"data row65 col0\" >4422.697245</td>\n",

       "      <td id=\"T_3dfdf_row65_col1\" class=\"data row65 col1\" >4422.697245</td>\n",

       "    </tr>\n",

       "    <tr>\n",

       "      <th id=\"T_3dfdf_level0_row66\" class=\"row_heading level0 row66\" >66</th>\n",

       "      <td id=\"T_3dfdf_row66_col0\" class=\"data row66 col0\" >0.000000</td>\n",

       "      <td id=\"T_3dfdf_row66_col1\" class=\"data row66 col1\" >0.000000</td>\n",

       "    </tr>\n",

       "    <tr>\n",

       "      <th id=\"T_3dfdf_level0_row67\" class=\"row_heading level0 row67\" >67</th>\n",

       "      <td id=\"T_3dfdf_row67_col0\" class=\"data row67 col0\" >322.548438</td>\n",

       "      <td id=\"T_3dfdf_row67_col1\" class=\"data row67 col1\" >322.548438</td>\n",

       "    </tr>\n",

       "    <tr>\n",

       "      <th id=\"T_3dfdf_level0_row68\" class=\"row_heading level0 row68\" >68</th>\n",

       "      <td id=\"T_3dfdf_row68_col0\" class=\"data row68 col0\" >105.215019</td>\n",

       "      <td id=\"T_3dfdf_row68_col1\" class=\"data row68 col1\" >105.215019</td>\n",

       "    </tr>\n",

       "    <tr>\n",

       "      <th id=\"T_3dfdf_level0_row69\" class=\"row_heading level0 row69\" >69</th>\n",

       "      <td id=\"T_3dfdf_row69_col0\" class=\"data row69 col0\" >4420.954660</td>\n",

       "      <td id=\"T_3dfdf_row69_col1\" class=\"data row69 col1\" >4420.954660</td>\n",

       "    </tr>\n",

       "    <tr>\n",

       "      <th id=\"T_3dfdf_level0_row70\" class=\"row_heading level0 row70\" >70</th>\n",

       "      <td id=\"T_3dfdf_row70_col0\" class=\"data row70 col0\" >0.000000</td>\n",

       "      <td id=\"T_3dfdf_row70_col1\" class=\"data row70 col1\" >0.000000</td>\n",

       "    </tr>\n",

       "    <tr>\n",

       "      <th id=\"T_3dfdf_level0_row71\" class=\"row_heading level0 row71\" >71</th>\n",

       "      <td id=\"T_3dfdf_row71_col0\" class=\"data row71 col0\" >463.034587</td>\n",

       "      <td id=\"T_3dfdf_row71_col1\" class=\"data row71 col1\" >463.034587</td>\n",

       "    </tr>\n",

       "    <tr>\n",

       "      <th id=\"T_3dfdf_level0_row72\" class=\"row_heading level0 row72\" >72</th>\n",

       "      <td id=\"T_3dfdf_row72_col0\" class=\"data row72 col0\" >110.630771</td>\n",

       "      <td id=\"T_3dfdf_row72_col1\" class=\"data row72 col1\" >110.630771</td>\n",

       "    </tr>\n",

       "    <tr>\n",

       "      <th id=\"T_3dfdf_level0_row73\" class=\"row_heading level0 row73\" >73</th>\n",

       "      <td id=\"T_3dfdf_row73_col0\" class=\"data row73 col0\" >4432.515610</td>\n",

       "      <td id=\"T_3dfdf_row73_col1\" class=\"data row73 col1\" >4432.515610</td>\n",

       "    </tr>\n",

       "    <tr>\n",

       "      <th id=\"T_3dfdf_level0_row74\" class=\"row_heading level0 row74\" >74</th>\n",

       "      <td id=\"T_3dfdf_row74_col0\" class=\"data row74 col0\" >24.964817</td>\n",

       "      <td id=\"T_3dfdf_row74_col1\" class=\"data row74 col1\" >24.964817</td>\n",

       "    </tr>\n",

       "    <tr>\n",

       "      <th id=\"T_3dfdf_level0_row75\" class=\"row_heading level0 row75\" >75</th>\n",

       "      <td id=\"T_3dfdf_row75_col0\" class=\"data row75 col0\" >446.878685</td>\n",

       "      <td id=\"T_3dfdf_row75_col1\" class=\"data row75 col1\" >446.878685</td>\n",

       "    </tr>\n",

       "    <tr>\n",

       "      <th id=\"T_3dfdf_level0_row76\" class=\"row_heading level0 row76\" >76</th>\n",

       "      <td id=\"T_3dfdf_row76_col0\" class=\"data row76 col0\" >13298.728433</td>\n",

       "      <td id=\"T_3dfdf_row76_col1\" class=\"data row76 col1\" >13298.728433</td>\n",

       "    </tr>\n",

       "    <tr>\n",

       "      <th id=\"T_3dfdf_level0_row77\" class=\"row_heading level0 row77\" >77</th>\n",

       "      <td id=\"T_3dfdf_row77_col0\" class=\"data row77 col0\" >24301.679984</td>\n",

       "      <td id=\"T_3dfdf_row77_col1\" class=\"data row77 col1\" >24301.679984</td>\n",

       "    </tr>\n",

       "    <tr>\n",

       "      <th id=\"T_3dfdf_level0_row78\" class=\"row_heading level0 row78\" >78</th>\n",

       "      <td id=\"T_3dfdf_row78_col0\" class=\"data row78 col0\" >208.839097</td>\n",

       "      <td id=\"T_3dfdf_row78_col1\" class=\"data row78 col1\" >208.839097</td>\n",

       "    </tr>\n",

       "    <tr>\n",

       "      <th id=\"T_3dfdf_level0_row79\" class=\"row_heading level0 row79\" >79</th>\n",

       "      <td id=\"T_3dfdf_row79_col0\" class=\"data row79 col0\" >6370.954451</td>\n",

       "      <td id=\"T_3dfdf_row79_col1\" class=\"data row79 col1\" >6370.954451</td>\n",

       "    </tr>\n",

       "    <tr>\n",

       "      <th id=\"T_3dfdf_level0_row80\" class=\"row_heading level0 row80\" >80</th>\n",

       "      <td id=\"T_3dfdf_row80_col0\" class=\"data row80 col0\" >1938.732259</td>\n",

       "      <td id=\"T_3dfdf_row80_col1\" class=\"data row80 col1\" >1938.732259</td>\n",

       "    </tr>\n",

       "    <tr>\n",

       "      <th id=\"T_3dfdf_level0_row81\" class=\"row_heading level0 row81\" >81</th>\n",

       "      <td id=\"T_3dfdf_row81_col0\" class=\"data row81 col0\" >4429.353496</td>\n",

       "      <td id=\"T_3dfdf_row81_col1\" class=\"data row81 col1\" >4429.353496</td>\n",

       "    </tr>\n",

       "    <tr>\n",

       "      <th id=\"T_3dfdf_level0_row82\" class=\"row_heading level0 row82\" >82</th>\n",

       "      <td id=\"T_3dfdf_row82_col0\" class=\"data row82 col0\" >1386.436601</td>\n",

       "      <td id=\"T_3dfdf_row82_col1\" class=\"data row82 col1\" >1386.436601</td>\n",

       "    </tr>\n",

       "    <tr>\n",

       "      <th id=\"T_3dfdf_level0_row83\" class=\"row_heading level0 row83\" >83</th>\n",

       "      <td id=\"T_3dfdf_row83_col0\" class=\"data row83 col0\" >1299.441977</td>\n",

       "      <td id=\"T_3dfdf_row83_col1\" class=\"data row83 col1\" >1299.441977</td>\n",

       "    </tr>\n",

       "    <tr>\n",

       "      <th id=\"T_3dfdf_level0_row84\" class=\"row_heading level0 row84\" >84</th>\n",

       "      <td id=\"T_3dfdf_row84_col0\" class=\"data row84 col0\" >633.786571</td>\n",

       "      <td id=\"T_3dfdf_row84_col1\" class=\"data row84 col1\" >633.786571</td>\n",

       "    </tr>\n",

       "    <tr>\n",

       "      <th id=\"T_3dfdf_level0_row85\" class=\"row_heading level0 row85\" >85</th>\n",

       "      <td id=\"T_3dfdf_row85_col0\" class=\"data row85 col0\" >56375.299816</td>\n",

       "      <td id=\"T_3dfdf_row85_col1\" class=\"data row85 col1\" >56375.299816</td>\n",

       "    </tr>\n",

       "    <tr>\n",

       "      <th id=\"T_3dfdf_level0_row86\" class=\"row_heading level0 row86\" >86</th>\n",

       "      <td id=\"T_3dfdf_row86_col0\" class=\"data row86 col0\" >1720.469595</td>\n",

       "      <td id=\"T_3dfdf_row86_col1\" class=\"data row86 col1\" >1720.469595</td>\n",

       "    </tr>\n",

       "    <tr>\n",

       "      <th id=\"T_3dfdf_level0_row87\" class=\"row_heading level0 row87\" >87</th>\n",

       "      <td id=\"T_3dfdf_row87_col0\" class=\"data row87 col0\" >2425873.984523</td>\n",

       "      <td id=\"T_3dfdf_row87_col1\" class=\"data row87 col1\" >2425873.984523</td>\n",

       "    </tr>\n",

       "    <tr>\n",

       "      <th id=\"T_3dfdf_level0_row88\" class=\"row_heading level0 row88\" >88</th>\n",

       "      <td id=\"T_3dfdf_row88_col0\" class=\"data row88 col0\" >0.000000</td>\n",

       "      <td id=\"T_3dfdf_row88_col1\" class=\"data row88 col1\" >0.000000</td>\n",

       "    </tr>\n",

       "    <tr>\n",

       "      <th id=\"T_3dfdf_level0_row89\" class=\"row_heading level0 row89\" >89</th>\n",

       "      <td id=\"T_3dfdf_row89_col0\" class=\"data row89 col0\" >1.525615</td>\n",

       "      <td id=\"T_3dfdf_row89_col1\" class=\"data row89 col1\" >1.525615</td>\n",

       "    </tr>\n",

       "    <tr>\n",

       "      <th id=\"T_3dfdf_level0_row90\" class=\"row_heading level0 row90\" >90</th>\n",

       "      <td id=\"T_3dfdf_row90_col0\" class=\"data row90 col0\" >0.000000</td>\n",

       "      <td id=\"T_3dfdf_row90_col1\" class=\"data row90 col1\" >0.000000</td>\n",

       "    </tr>\n",

       "    <tr>\n",

       "      <th id=\"T_3dfdf_level0_row91\" class=\"row_heading level0 row91\" >91</th>\n",

       "      <td id=\"T_3dfdf_row91_col0\" class=\"data row91 col0\" >555.198985</td>\n",

       "      <td id=\"T_3dfdf_row91_col1\" class=\"data row91 col1\" >555.198985</td>\n",

       "    </tr>\n",

       "    <tr>\n",

       "      <th id=\"T_3dfdf_level0_row92\" class=\"row_heading level0 row92\" >92</th>\n",

       "      <td id=\"T_3dfdf_row92_col0\" class=\"data row92 col0\" >141.709344</td>\n",

       "      <td id=\"T_3dfdf_row92_col1\" class=\"data row92 col1\" >141.709344</td>\n",

       "    </tr>\n",

       "    <tr>\n",

       "      <th id=\"T_3dfdf_level0_row93\" class=\"row_heading level0 row93\" >93</th>\n",

       "      <td id=\"T_3dfdf_row93_col0\" class=\"data row93 col0\" >587473.891409</td>\n",

       "      <td id=\"T_3dfdf_row93_col1\" class=\"data row93 col1\" >587473.891409</td>\n",

       "    </tr>\n",

       "    <tr>\n",

       "      <th id=\"T_3dfdf_level0_row94\" class=\"row_heading level0 row94\" >94</th>\n",

       "      <td id=\"T_3dfdf_row94_col0\" class=\"data row94 col0\" >2552.305605</td>\n",

       "      <td id=\"T_3dfdf_row94_col1\" class=\"data row94 col1\" >2552.305605</td>\n",

       "    </tr>\n",

       "    <tr>\n",

       "      <th id=\"T_3dfdf_level0_row95\" class=\"row_heading level0 row95\" >95</th>\n",

       "      <td id=\"T_3dfdf_row95_col0\" class=\"data row95 col0\" >0.179676</td>\n",

       "      <td id=\"T_3dfdf_row95_col1\" class=\"data row95 col1\" >0.179676</td>\n",

       "    </tr>\n",

       "    <tr>\n",

       "      <th id=\"T_3dfdf_level0_row96\" class=\"row_heading level0 row96\" >96</th>\n",

       "      <td id=\"T_3dfdf_row96_col0\" class=\"data row96 col0\" >0.212493</td>\n",

       "      <td id=\"T_3dfdf_row96_col1\" class=\"data row96 col1\" >0.212493</td>\n",

       "    </tr>\n",

       "    <tr>\n",

       "      <th id=\"T_3dfdf_level0_row97\" class=\"row_heading level0 row97\" >97</th>\n",

       "      <td id=\"T_3dfdf_row97_col0\" class=\"data row97 col0\" >1.897297</td>\n",

       "      <td id=\"T_3dfdf_row97_col1\" class=\"data row97 col1\" >1.897297</td>\n",

       "    </tr>\n",

       "    <tr>\n",

       "      <th id=\"T_3dfdf_level0_row98\" class=\"row_heading level0 row98\" >98</th>\n",

       "      <td id=\"T_3dfdf_row98_col0\" class=\"data row98 col0\" >31.754151</td>\n",

       "      <td id=\"T_3dfdf_row98_col1\" class=\"data row98 col1\" >31.754151</td>\n",

       "    </tr>\n",

       "    <tr>\n",

       "      <th id=\"T_3dfdf_level0_row99\" class=\"row_heading level0 row99\" >99</th>\n",

       "      <td id=\"T_3dfdf_row99_col0\" class=\"data row99 col0\" >4430.161771</td>\n",

       "      <td id=\"T_3dfdf_row99_col1\" class=\"data row99 col1\" >4430.161771</td>\n",

       "    </tr>\n",

       "    <tr>\n",

       "      <th id=\"T_3dfdf_level0_row100\" class=\"row_heading level0 row100\" >100</th>\n",

       "      <td id=\"T_3dfdf_row100_col0\" class=\"data row100 col0\" >328.513229</td>\n",

       "      <td id=\"T_3dfdf_row100_col1\" class=\"data row100 col1\" >328.513229</td>\n",

       "    </tr>\n",

       "    <tr>\n",

       "      <th id=\"T_3dfdf_level0_row101\" class=\"row_heading level0 row101\" >101</th>\n",

       "      <td id=\"T_3dfdf_row101_col0\" class=\"data row101 col0\" >3521352.814244</td>\n",

       "      <td id=\"T_3dfdf_row101_col1\" class=\"data row101 col1\" >3521352.814244</td>\n",

       "    </tr>\n",

       "    <tr>\n",

       "      <th id=\"T_3dfdf_level0_row102\" class=\"row_heading level0 row102\" >102</th>\n",

       "      <td id=\"T_3dfdf_row102_col0\" class=\"data row102 col0\" >20612.061355</td>\n",

       "      <td id=\"T_3dfdf_row102_col1\" class=\"data row102 col1\" >20612.061355</td>\n",

       "    </tr>\n",

       "    <tr>\n",

       "      <th id=\"T_3dfdf_level0_row103\" class=\"row_heading level0 row103\" >103</th>\n",

       "      <td id=\"T_3dfdf_row103_col0\" class=\"data row103 col0\" >0.000000</td>\n",

       "      <td id=\"T_3dfdf_row103_col1\" class=\"data row103 col1\" >0.000000</td>\n",

       "    </tr>\n",

       "    <tr>\n",

       "      <th id=\"T_3dfdf_level0_row104\" class=\"row_heading level0 row104\" >104</th>\n",

       "      <td id=\"T_3dfdf_row104_col0\" class=\"data row104 col0\" >337.509625</td>\n",

       "      <td id=\"T_3dfdf_row104_col1\" class=\"data row104 col1\" >337.509625</td>\n",

       "    </tr>\n",

       "    <tr>\n",

       "      <th id=\"T_3dfdf_level0_row105\" class=\"row_heading level0 row105\" >105</th>\n",

       "      <td id=\"T_3dfdf_row105_col0\" class=\"data row105 col0\" >389632.232029</td>\n",

       "      <td id=\"T_3dfdf_row105_col1\" class=\"data row105 col1\" >389632.232029</td>\n",

       "    </tr>\n",

       "    <tr>\n",

       "      <th id=\"T_3dfdf_level0_row106\" class=\"row_heading level0 row106\" >106</th>\n",

       "      <td id=\"T_3dfdf_row106_col0\" class=\"data row106 col0\" >56.766158</td>\n",

       "      <td id=\"T_3dfdf_row106_col1\" class=\"data row106 col1\" >56.766158</td>\n",

       "    </tr>\n",

       "    <tr>\n",

       "      <th id=\"T_3dfdf_level0_row107\" class=\"row_heading level0 row107\" >107</th>\n",

       "      <td id=\"T_3dfdf_row107_col0\" class=\"data row107 col0\" >4463.716724</td>\n",

       "      <td id=\"T_3dfdf_row107_col1\" class=\"data row107 col1\" >4463.716724</td>\n",

       "    </tr>\n",

       "    <tr>\n",

       "      <th id=\"T_3dfdf_level0_row108\" class=\"row_heading level0 row108\" >108</th>\n",

       "      <td id=\"T_3dfdf_row108_col0\" class=\"data row108 col0\" >0.000000</td>\n",

       "      <td id=\"T_3dfdf_row108_col1\" class=\"data row108 col1\" >0.000000</td>\n",

       "    </tr>\n",

       "    <tr>\n",

       "      <th id=\"T_3dfdf_level0_row109\" class=\"row_heading level0 row109\" >109</th>\n",

       "      <td id=\"T_3dfdf_row109_col0\" class=\"data row109 col0\" >341.926854</td>\n",

       "      <td id=\"T_3dfdf_row109_col1\" class=\"data row109 col1\" >341.926854</td>\n",

       "    </tr>\n",

       "    <tr>\n",

       "      <th id=\"T_3dfdf_level0_row110\" class=\"row_heading level0 row110\" >110</th>\n",

       "      <td id=\"T_3dfdf_row110_col0\" class=\"data row110 col0\" >110.306561</td>\n",

       "      <td id=\"T_3dfdf_row110_col1\" class=\"data row110 col1\" >110.306561</td>\n",

       "    </tr>\n",

       "    <tr>\n",

       "      <th id=\"T_3dfdf_level0_row111\" class=\"row_heading level0 row111\" >111</th>\n",

       "      <td id=\"T_3dfdf_row111_col0\" class=\"data row111 col0\" >4461.756854</td>\n",

       "      <td id=\"T_3dfdf_row111_col1\" class=\"data row111 col1\" >4461.756854</td>\n",

       "    </tr>\n",

       "    <tr>\n",

       "      <th id=\"T_3dfdf_level0_row112\" class=\"row_heading level0 row112\" >112</th>\n",

       "      <td id=\"T_3dfdf_row112_col0\" class=\"data row112 col0\" >0.000000</td>\n",

       "      <td id=\"T_3dfdf_row112_col1\" class=\"data row112 col1\" >0.000000</td>\n",

       "    </tr>\n",

       "    <tr>\n",

       "      <th id=\"T_3dfdf_level0_row113\" class=\"row_heading level0 row113\" >113</th>\n",

       "      <td id=\"T_3dfdf_row113_col0\" class=\"data row113 col0\" >487.876232</td>\n",

       "      <td id=\"T_3dfdf_row113_col1\" class=\"data row113 col1\" >487.876232</td>\n",

       "    </tr>\n",

       "    <tr>\n",

       "      <th id=\"T_3dfdf_level0_row114\" class=\"row_heading level0 row114\" >114</th>\n",

       "      <td id=\"T_3dfdf_row114_col0\" class=\"data row114 col0\" >109.075660</td>\n",

       "      <td id=\"T_3dfdf_row114_col1\" class=\"data row114 col1\" >109.075660</td>\n",

       "    </tr>\n",

       "    <tr>\n",

       "      <th id=\"T_3dfdf_level0_row115\" class=\"row_heading level0 row115\" >115</th>\n",

       "      <td id=\"T_3dfdf_row115_col0\" class=\"data row115 col0\" >4431.692386</td>\n",

       "      <td id=\"T_3dfdf_row115_col1\" class=\"data row115 col1\" >4431.692386</td>\n",

       "    </tr>\n",

       "    <tr>\n",

       "      <th id=\"T_3dfdf_level0_row116\" class=\"row_heading level0 row116\" >116</th>\n",

       "      <td id=\"T_3dfdf_row116_col0\" class=\"data row116 col0\" >24.419268</td>\n",

       "      <td id=\"T_3dfdf_row116_col1\" class=\"data row116 col1\" >24.419268</td>\n",

       "    </tr>\n",

       "    <tr>\n",

       "      <th id=\"T_3dfdf_level0_row117\" class=\"row_heading level0 row117\" >117</th>\n",

       "      <td id=\"T_3dfdf_row117_col0\" class=\"data row117 col0\" >444.391433</td>\n",

       "      <td id=\"T_3dfdf_row117_col1\" class=\"data row117 col1\" >444.391433</td>\n",

       "    </tr>\n",

       "    <tr>\n",

       "      <th id=\"T_3dfdf_level0_row118\" class=\"row_heading level0 row118\" >118</th>\n",

       "      <td id=\"T_3dfdf_row118_col0\" class=\"data row118 col0\" >13308.850589</td>\n",

       "      <td id=\"T_3dfdf_row118_col1\" class=\"data row118 col1\" >13308.850589</td>\n",

       "    </tr>\n",

       "    <tr>\n",

       "      <th id=\"T_3dfdf_level0_row119\" class=\"row_heading level0 row119\" >119</th>\n",

       "      <td id=\"T_3dfdf_row119_col0\" class=\"data row119 col0\" >24303.512316</td>\n",

       "      <td id=\"T_3dfdf_row119_col1\" class=\"data row119 col1\" >24303.512316</td>\n",

       "    </tr>\n",

       "    <tr>\n",

       "      <th id=\"T_3dfdf_level0_row120\" class=\"row_heading level0 row120\" >120</th>\n",

       "      <td id=\"T_3dfdf_row120_col0\" class=\"data row120 col0\" >208.743624</td>\n",

       "      <td id=\"T_3dfdf_row120_col1\" class=\"data row120 col1\" >208.743624</td>\n",

       "    </tr>\n",

       "    <tr>\n",

       "      <th id=\"T_3dfdf_level0_row121\" class=\"row_heading level0 row121\" >121</th>\n",

       "      <td id=\"T_3dfdf_row121_col0\" class=\"data row121 col0\" >6375.362628</td>\n",

       "      <td id=\"T_3dfdf_row121_col1\" class=\"data row121 col1\" >6375.362628</td>\n",

       "    </tr>\n",

       "    <tr>\n",

       "      <th id=\"T_3dfdf_level0_row122\" class=\"row_heading level0 row122\" >122</th>\n",

       "      <td id=\"T_3dfdf_row122_col0\" class=\"data row122 col0\" >2038.176202</td>\n",

       "      <td id=\"T_3dfdf_row122_col1\" class=\"data row122 col1\" >2038.176202</td>\n",

       "    </tr>\n",

       "    <tr>\n",

       "      <th id=\"T_3dfdf_level0_row123\" class=\"row_heading level0 row123\" >123</th>\n",

       "      <td id=\"T_3dfdf_row123_col0\" class=\"data row123 col0\" >4470.338980</td>\n",

       "      <td id=\"T_3dfdf_row123_col1\" class=\"data row123 col1\" >4470.338980</td>\n",

       "    </tr>\n",

       "    <tr>\n",

       "      <th id=\"T_3dfdf_level0_row124\" class=\"row_heading level0 row124\" >124</th>\n",

       "      <td id=\"T_3dfdf_row124_col0\" class=\"data row124 col0\" >1527.564668</td>\n",

       "      <td id=\"T_3dfdf_row124_col1\" class=\"data row124 col1\" >1527.564668</td>\n",

       "    </tr>\n",

       "    <tr>\n",

       "      <th id=\"T_3dfdf_level0_row125\" class=\"row_heading level0 row125\" >125</th>\n",

       "      <td id=\"T_3dfdf_row125_col0\" class=\"data row125 col0\" >1299.005082</td>\n",

       "      <td id=\"T_3dfdf_row125_col1\" class=\"data row125 col1\" >1299.005082</td>\n",

       "    </tr>\n",

       "    <tr>\n",

       "      <th id=\"T_3dfdf_level0_row126\" class=\"row_heading level0 row126\" >126</th>\n",

       "      <td id=\"T_3dfdf_row126_col0\" class=\"data row126 col0\" >633.737702</td>\n",

       "      <td id=\"T_3dfdf_row126_col1\" class=\"data row126 col1\" >633.737702</td>\n",

       "    </tr>\n",

       "    <tr>\n",

       "      <th id=\"T_3dfdf_level0_row127\" class=\"row_heading level0 row127\" >127</th>\n",

       "      <td id=\"T_3dfdf_row127_col0\" class=\"data row127 col0\" >56427.549455</td>\n",

       "      <td id=\"T_3dfdf_row127_col1\" class=\"data row127 col1\" >56427.549455</td>\n",

       "    </tr>\n",

       "    <tr>\n",

       "      <th id=\"T_3dfdf_level0_row128\" class=\"row_heading level0 row128\" >128</th>\n",

       "      <td id=\"T_3dfdf_row128_col0\" class=\"data row128 col0\" >1720.524464</td>\n",

       "      <td id=\"T_3dfdf_row128_col1\" class=\"data row128 col1\" >1720.524464</td>\n",

       "    </tr>\n",

       "    <tr>\n",

       "      <th id=\"T_3dfdf_level0_row129\" class=\"row_heading level0 row129\" >129</th>\n",

       "      <td id=\"T_3dfdf_row129_col0\" class=\"data row129 col0\" >2425992.623838</td>\n",

       "      <td id=\"T_3dfdf_row129_col1\" class=\"data row129 col1\" >2425992.623838</td>\n",

       "    </tr>\n",

       "    <tr>\n",

       "      <th id=\"T_3dfdf_level0_row130\" class=\"row_heading level0 row130\" >130</th>\n",

       "      <td id=\"T_3dfdf_row130_col0\" class=\"data row130 col0\" >0.000000</td>\n",

       "      <td id=\"T_3dfdf_row130_col1\" class=\"data row130 col1\" >0.000000</td>\n",

       "    </tr>\n",

       "    <tr>\n",

       "      <th id=\"T_3dfdf_level0_row131\" class=\"row_heading level0 row131\" >131</th>\n",

       "      <td id=\"T_3dfdf_row131_col0\" class=\"data row131 col0\" >1.525615</td>\n",

       "      <td id=\"T_3dfdf_row131_col1\" class=\"data row131 col1\" >1.525615</td>\n",

       "    </tr>\n",

       "    <tr>\n",

       "      <th id=\"T_3dfdf_level0_row132\" class=\"row_heading level0 row132\" >132</th>\n",

       "      <td id=\"T_3dfdf_row132_col0\" class=\"data row132 col0\" >0.000000</td>\n",

       "      <td id=\"T_3dfdf_row132_col1\" class=\"data row132 col1\" >0.000000</td>\n",

       "    </tr>\n",

       "    <tr>\n",

       "      <th id=\"T_3dfdf_level0_row133\" class=\"row_heading level0 row133\" >133</th>\n",

       "      <td id=\"T_3dfdf_row133_col0\" class=\"data row133 col0\" >552.886269</td>\n",

       "      <td id=\"T_3dfdf_row133_col1\" class=\"data row133 col1\" >552.886269</td>\n",

       "    </tr>\n",

       "    <tr>\n",

       "      <th id=\"T_3dfdf_level0_row134\" class=\"row_heading level0 row134\" >134</th>\n",

       "      <td id=\"T_3dfdf_row134_col0\" class=\"data row134 col0\" >141.605093</td>\n",

       "      <td id=\"T_3dfdf_row134_col1\" class=\"data row134 col1\" >141.605093</td>\n",

       "    </tr>\n",

       "    <tr>\n",

       "      <th id=\"T_3dfdf_level0_row135\" class=\"row_heading level0 row135\" >135</th>\n",

       "      <td id=\"T_3dfdf_row135_col0\" class=\"data row135 col0\" >587266.821094</td>\n",

       "      <td id=\"T_3dfdf_row135_col1\" class=\"data row135 col1\" >587266.821094</td>\n",

       "    </tr>\n",

       "    <tr>\n",

       "      <th id=\"T_3dfdf_level0_row136\" class=\"row_heading level0 row136\" >136</th>\n",

       "      <td id=\"T_3dfdf_row136_col0\" class=\"data row136 col0\" >2552.305605</td>\n",

       "      <td id=\"T_3dfdf_row136_col1\" class=\"data row136 col1\" >2552.305605</td>\n",

       "    </tr>\n",

       "    <tr>\n",

       "      <th id=\"T_3dfdf_level0_row137\" class=\"row_heading level0 row137\" >137</th>\n",

       "      <td id=\"T_3dfdf_row137_col0\" class=\"data row137 col0\" >0.179676</td>\n",

       "      <td id=\"T_3dfdf_row137_col1\" class=\"data row137 col1\" >0.179676</td>\n",

       "    </tr>\n",

       "    <tr>\n",

       "      <th id=\"T_3dfdf_level0_row138\" class=\"row_heading level0 row138\" >138</th>\n",

       "      <td id=\"T_3dfdf_row138_col0\" class=\"data row138 col0\" >0.212493</td>\n",

       "      <td id=\"T_3dfdf_row138_col1\" class=\"data row138 col1\" >0.212493</td>\n",

       "    </tr>\n",

       "    <tr>\n",

       "      <th id=\"T_3dfdf_level0_row139\" class=\"row_heading level0 row139\" >139</th>\n",

       "      <td id=\"T_3dfdf_row139_col0\" class=\"data row139 col0\" >1.897297</td>\n",

       "      <td id=\"T_3dfdf_row139_col1\" class=\"data row139 col1\" >1.897297</td>\n",

       "    </tr>\n",

       "    <tr>\n",

       "      <th id=\"T_3dfdf_level0_row140\" class=\"row_heading level0 row140\" >140</th>\n",

       "      <td id=\"T_3dfdf_row140_col0\" class=\"data row140 col0\" >31.754151</td>\n",

       "      <td id=\"T_3dfdf_row140_col1\" class=\"data row140 col1\" >31.754151</td>\n",

       "    </tr>\n",

       "    <tr>\n",

       "      <th id=\"T_3dfdf_level0_row141\" class=\"row_heading level0 row141\" >141</th>\n",

       "      <td id=\"T_3dfdf_row141_col0\" class=\"data row141 col0\" >4425.121257</td>\n",

       "      <td id=\"T_3dfdf_row141_col1\" class=\"data row141 col1\" >4425.121257</td>\n",

       "    </tr>\n",

       "    <tr>\n",

       "      <th id=\"T_3dfdf_level0_row142\" class=\"row_heading level0 row142\" >142</th>\n",

       "      <td id=\"T_3dfdf_row142_col0\" class=\"data row142 col0\" >324.434512</td>\n",

       "      <td id=\"T_3dfdf_row142_col1\" class=\"data row142 col1\" >324.434512</td>\n",

       "    </tr>\n",

       "    <tr>\n",

       "      <th id=\"T_3dfdf_level0_row143\" class=\"row_heading level0 row143\" >143</th>\n",

       "      <td id=\"T_3dfdf_row143_col0\" class=\"data row143 col0\" >3521335.054897</td>\n",

       "      <td id=\"T_3dfdf_row143_col1\" class=\"data row143 col1\" >3521335.054897</td>\n",

       "    </tr>\n",

       "    <tr>\n",

       "      <th id=\"T_3dfdf_level0_row144\" class=\"row_heading level0 row144\" >144</th>\n",

       "      <td id=\"T_3dfdf_row144_col0\" class=\"data row144 col0\" >20612.061355</td>\n",

       "      <td id=\"T_3dfdf_row144_col1\" class=\"data row144 col1\" >20612.061355</td>\n",

       "    </tr>\n",

       "    <tr>\n",

       "      <th id=\"T_3dfdf_level0_row145\" class=\"row_heading level0 row145\" >145</th>\n",

       "      <td id=\"T_3dfdf_row145_col0\" class=\"data row145 col0\" >0.000000</td>\n",

       "      <td id=\"T_3dfdf_row145_col1\" class=\"data row145 col1\" >0.000000</td>\n",

       "    </tr>\n",

       "    <tr>\n",

       "      <th id=\"T_3dfdf_level0_row146\" class=\"row_heading level0 row146\" >146</th>\n",

       "      <td id=\"T_3dfdf_row146_col0\" class=\"data row146 col0\" >337.740746</td>\n",

       "      <td id=\"T_3dfdf_row146_col1\" class=\"data row146 col1\" >337.740746</td>\n",

       "    </tr>\n",

       "    <tr>\n",

       "      <th id=\"T_3dfdf_level0_row147\" class=\"row_heading level0 row147\" >147</th>\n",

       "      <td id=\"T_3dfdf_row147_col0\" class=\"data row147 col0\" >389669.733684</td>\n",

       "      <td id=\"T_3dfdf_row147_col1\" class=\"data row147 col1\" >389669.733684</td>\n",

       "    </tr>\n",

       "    <tr>\n",

       "      <th id=\"T_3dfdf_level0_row148\" class=\"row_heading level0 row148\" >148</th>\n",

       "      <td id=\"T_3dfdf_row148_col0\" class=\"data row148 col0\" >61.608786</td>\n",

       "      <td id=\"T_3dfdf_row148_col1\" class=\"data row148 col1\" >61.608786</td>\n",

       "    </tr>\n",

       "    <tr>\n",

       "      <th id=\"T_3dfdf_level0_row149\" class=\"row_heading level0 row149\" >149</th>\n",

       "      <td id=\"T_3dfdf_row149_col0\" class=\"data row149 col0\" >4469.076111</td>\n",

       "      <td id=\"T_3dfdf_row149_col1\" class=\"data row149 col1\" >4469.076111</td>\n",

       "    </tr>\n",

       "    <tr>\n",

       "      <th id=\"T_3dfdf_level0_row150\" class=\"row_heading level0 row150\" >150</th>\n",

       "      <td id=\"T_3dfdf_row150_col0\" class=\"data row150 col0\" >0.000000</td>\n",

       "      <td id=\"T_3dfdf_row150_col1\" class=\"data row150 col1\" >0.000000</td>\n",

       "    </tr>\n",

       "    <tr>\n",

       "      <th id=\"T_3dfdf_level0_row151\" class=\"row_heading level0 row151\" >151</th>\n",

       "      <td id=\"T_3dfdf_row151_col0\" class=\"data row151 col0\" >346.333995</td>\n",

       "      <td id=\"T_3dfdf_row151_col1\" class=\"data row151 col1\" >346.333995</td>\n",

       "    </tr>\n",

       "    <tr>\n",

       "      <th id=\"T_3dfdf_level0_row152\" class=\"row_heading level0 row152\" >152</th>\n",

       "      <td id=\"T_3dfdf_row152_col0\" class=\"data row152 col0\" >108.950274</td>\n",

       "      <td id=\"T_3dfdf_row152_col1\" class=\"data row152 col1\" >108.950274</td>\n",

       "    </tr>\n",

       "    <tr>\n",

       "      <th id=\"T_3dfdf_level0_row153\" class=\"row_heading level0 row153\" >153</th>\n",

       "      <td id=\"T_3dfdf_row153_col0\" class=\"data row153 col0\" >4466.021588</td>\n",

       "      <td id=\"T_3dfdf_row153_col1\" class=\"data row153 col1\" >4466.021588</td>\n",

       "    </tr>\n",

       "    <tr>\n",

       "      <th id=\"T_3dfdf_level0_row154\" class=\"row_heading level0 row154\" >154</th>\n",

       "      <td id=\"T_3dfdf_row154_col0\" class=\"data row154 col0\" >0.000000</td>\n",

       "      <td id=\"T_3dfdf_row154_col1\" class=\"data row154 col1\" >0.000000</td>\n",

       "    </tr>\n",

       "    <tr>\n",

       "      <th id=\"T_3dfdf_level0_row155\" class=\"row_heading level0 row155\" >155</th>\n",

       "      <td id=\"T_3dfdf_row155_col0\" class=\"data row155 col0\" >488.557199</td>\n",

       "      <td id=\"T_3dfdf_row155_col1\" class=\"data row155 col1\" >488.557199</td>\n",

       "    </tr>\n",

       "    <tr>\n",

       "      <th id=\"T_3dfdf_level0_row156\" class=\"row_heading level0 row156\" >156</th>\n",

       "      <td id=\"T_3dfdf_row156_col0\" class=\"data row156 col0\" >130.126077</td>\n",

       "      <td id=\"T_3dfdf_row156_col1\" class=\"data row156 col1\" >130.126077</td>\n",

       "    </tr>\n",

       "    <tr>\n",

       "      <th id=\"T_3dfdf_level0_row157\" class=\"row_heading level0 row157\" >157</th>\n",

       "      <td id=\"T_3dfdf_row157_col0\" class=\"data row157 col0\" >4472.586701</td>\n",

       "      <td id=\"T_3dfdf_row157_col1\" class=\"data row157 col1\" >4472.586701</td>\n",

       "    </tr>\n",

       "    <tr>\n",

       "      <th id=\"T_3dfdf_level0_row158\" class=\"row_heading level0 row158\" >158</th>\n",

       "      <td id=\"T_3dfdf_row158_col0\" class=\"data row158 col0\" >23.765654</td>\n",

       "      <td id=\"T_3dfdf_row158_col1\" class=\"data row158 col1\" >23.765654</td>\n",

       "    </tr>\n",

       "    <tr>\n",

       "      <th id=\"T_3dfdf_level0_row159\" class=\"row_heading level0 row159\" >159</th>\n",

       "      <td id=\"T_3dfdf_row159_col0\" class=\"data row159 col0\" >475.700893</td>\n",

       "      <td id=\"T_3dfdf_row159_col1\" class=\"data row159 col1\" >475.700893</td>\n",

       "    </tr>\n",

       "    <tr>\n",

       "      <th id=\"T_3dfdf_level0_row160\" class=\"row_heading level0 row160\" >160</th>\n",

       "      <td id=\"T_3dfdf_row160_col0\" class=\"data row160 col0\" >13312.845467</td>\n",

       "      <td id=\"T_3dfdf_row160_col1\" class=\"data row160 col1\" >13312.845467</td>\n",

       "    </tr>\n",

       "    <tr>\n",

       "      <th id=\"T_3dfdf_level0_row161\" class=\"row_heading level0 row161\" >161</th>\n",

       "      <td id=\"T_3dfdf_row161_col0\" class=\"data row161 col0\" >24304.770251</td>\n",

       "      <td id=\"T_3dfdf_row161_col1\" class=\"data row161 col1\" >24304.770251</td>\n",

       "    </tr>\n",

       "    <tr>\n",

       "      <th id=\"T_3dfdf_level0_row162\" class=\"row_heading level0 row162\" >162</th>\n",

       "      <td id=\"T_3dfdf_row162_col0\" class=\"data row162 col0\" >208.613785</td>\n",

       "      <td id=\"T_3dfdf_row162_col1\" class=\"data row162 col1\" >208.613785</td>\n",

       "    </tr>\n",

       "    <tr>\n",

       "      <th id=\"T_3dfdf_level0_row163\" class=\"row_heading level0 row163\" >163</th>\n",

       "      <td id=\"T_3dfdf_row163_col0\" class=\"data row163 col0\" >6377.528373</td>\n",

       "      <td id=\"T_3dfdf_row163_col1\" class=\"data row163 col1\" >6377.528373</td>\n",

       "    </tr>\n",

       "    <tr>\n",

       "      <th id=\"T_3dfdf_level0_row164\" class=\"row_heading level0 row164\" >164</th>\n",

       "      <td id=\"T_3dfdf_row164_col0\" class=\"data row164 col0\" >2043.557755</td>\n",

       "      <td id=\"T_3dfdf_row164_col1\" class=\"data row164 col1\" >2043.557755</td>\n",

       "    </tr>\n",

       "    <tr>\n",

       "      <th id=\"T_3dfdf_level0_row165\" class=\"row_heading level0 row165\" >165</th>\n",

       "      <td id=\"T_3dfdf_row165_col0\" class=\"data row165 col0\" >4475.690846</td>\n",

       "      <td id=\"T_3dfdf_row165_col1\" class=\"data row165 col1\" >4475.690846</td>\n",

       "    </tr>\n",

       "    <tr>\n",

       "      <th id=\"T_3dfdf_level0_row166\" class=\"row_heading level0 row166\" >166</th>\n",

       "      <td id=\"T_3dfdf_row166_col0\" class=\"data row166 col0\" >1536.631727</td>\n",

       "      <td id=\"T_3dfdf_row166_col1\" class=\"data row166 col1\" >1536.631727</td>\n",

       "    </tr>\n",

       "    <tr>\n",

       "      <th id=\"T_3dfdf_level0_row167\" class=\"row_heading level0 row167\" >167</th>\n",

       "      <td id=\"T_3dfdf_row167_col0\" class=\"data row167 col0\" >1301.061773</td>\n",

       "      <td id=\"T_3dfdf_row167_col1\" class=\"data row167 col1\" >1301.061773</td>\n",

       "    </tr>\n",

       "    <tr>\n",

       "      <th id=\"T_3dfdf_level0_row168\" class=\"row_heading level0 row168\" >168</th>\n",

       "      <td id=\"T_3dfdf_row168_col0\" class=\"data row168 col0\" >633.697830</td>\n",

       "      <td id=\"T_3dfdf_row168_col1\" class=\"data row168 col1\" >633.697830</td>\n",

       "    </tr>\n",

       "    <tr>\n",

       "      <th id=\"T_3dfdf_level0_row169\" class=\"row_heading level0 row169\" >169</th>\n",

       "      <td id=\"T_3dfdf_row169_col0\" class=\"data row169 col0\" >56476.578415</td>\n",

       "      <td id=\"T_3dfdf_row169_col1\" class=\"data row169 col1\" >56476.578415</td>\n",

       "    </tr>\n",

       "    <tr>\n",

       "      <th id=\"T_3dfdf_level0_row170\" class=\"row_heading level0 row170\" >170</th>\n",

       "      <td id=\"T_3dfdf_row170_col0\" class=\"data row170 col0\" >1720.572487</td>\n",

       "      <td id=\"T_3dfdf_row170_col1\" class=\"data row170 col1\" >1720.572487</td>\n",

       "    </tr>\n",

       "    <tr>\n",

       "      <th id=\"T_3dfdf_level0_row171\" class=\"row_heading level0 row171\" >171</th>\n",

       "      <td id=\"T_3dfdf_row171_col0\" class=\"data row171 col0\" >2426095.221217</td>\n",

       "      <td id=\"T_3dfdf_row171_col1\" class=\"data row171 col1\" >2426095.221217</td>\n",

       "    </tr>\n",

       "    <tr>\n",

       "      <th id=\"T_3dfdf_level0_row172\" class=\"row_heading level0 row172\" >172</th>\n",

       "      <td id=\"T_3dfdf_row172_col0\" class=\"data row172 col0\" >0.000000</td>\n",

       "      <td id=\"T_3dfdf_row172_col1\" class=\"data row172 col1\" >0.000000</td>\n",

       "    </tr>\n",

       "    <tr>\n",

       "      <th id=\"T_3dfdf_level0_row173\" class=\"row_heading level0 row173\" >173</th>\n",

       "      <td id=\"T_3dfdf_row173_col0\" class=\"data row173 col0\" >1.525615</td>\n",

       "      <td id=\"T_3dfdf_row173_col1\" class=\"data row173 col1\" >1.525615</td>\n",

       "    </tr>\n",

       "    <tr>\n",

       "      <th id=\"T_3dfdf_level0_row174\" class=\"row_heading level0 row174\" >174</th>\n",

       "      <td id=\"T_3dfdf_row174_col0\" class=\"data row174 col0\" >0.000000</td>\n",

       "      <td id=\"T_3dfdf_row174_col1\" class=\"data row174 col1\" >0.000000</td>\n",

       "    </tr>\n",

       "    <tr>\n",

       "      <th id=\"T_3dfdf_level0_row175\" class=\"row_heading level0 row175\" >175</th>\n",

       "      <td id=\"T_3dfdf_row175_col0\" class=\"data row175 col0\" >552.415921</td>\n",

       "      <td id=\"T_3dfdf_row175_col1\" class=\"data row175 col1\" >552.415921</td>\n",

       "    </tr>\n",

       "    <tr>\n",

       "      <th id=\"T_3dfdf_level0_row176\" class=\"row_heading level0 row176\" >176</th>\n",

       "      <td id=\"T_3dfdf_row176_col0\" class=\"data row176 col0\" >141.625627</td>\n",

       "      <td id=\"T_3dfdf_row176_col1\" class=\"data row176 col1\" >141.625627</td>\n",

       "    </tr>\n",

       "    <tr>\n",

       "      <th id=\"T_3dfdf_level0_row177\" class=\"row_heading level0 row177\" >177</th>\n",

       "      <td id=\"T_3dfdf_row177_col0\" class=\"data row177 col0\" >587105.701382</td>\n",

       "      <td id=\"T_3dfdf_row177_col1\" class=\"data row177 col1\" >587105.701382</td>\n",

       "    </tr>\n",

       "    <tr>\n",

       "      <th id=\"T_3dfdf_level0_row178\" class=\"row_heading level0 row178\" >178</th>\n",

       "      <td id=\"T_3dfdf_row178_col0\" class=\"data row178 col0\" >2552.305605</td>\n",

       "      <td id=\"T_3dfdf_row178_col1\" class=\"data row178 col1\" >2552.305605</td>\n",

       "    </tr>\n",

       "    <tr>\n",

       "      <th id=\"T_3dfdf_level0_row179\" class=\"row_heading level0 row179\" >179</th>\n",

       "      <td id=\"T_3dfdf_row179_col0\" class=\"data row179 col0\" >0.179676</td>\n",

       "      <td id=\"T_3dfdf_row179_col1\" class=\"data row179 col1\" >0.179676</td>\n",

       "    </tr>\n",

       "    <tr>\n",

       "      <th id=\"T_3dfdf_level0_row180\" class=\"row_heading level0 row180\" >180</th>\n",

       "      <td id=\"T_3dfdf_row180_col0\" class=\"data row180 col0\" >0.212493</td>\n",

       "      <td id=\"T_3dfdf_row180_col1\" class=\"data row180 col1\" >0.212493</td>\n",

       "    </tr>\n",

       "    <tr>\n",

       "      <th id=\"T_3dfdf_level0_row181\" class=\"row_heading level0 row181\" >181</th>\n",

       "      <td id=\"T_3dfdf_row181_col0\" class=\"data row181 col0\" >1.897297</td>\n",

       "      <td id=\"T_3dfdf_row181_col1\" class=\"data row181 col1\" >1.897297</td>\n",

       "    </tr>\n",

       "    <tr>\n",

       "      <th id=\"T_3dfdf_level0_row182\" class=\"row_heading level0 row182\" >182</th>\n",

       "      <td id=\"T_3dfdf_row182_col0\" class=\"data row182 col0\" >31.754151</td>\n",

       "      <td id=\"T_3dfdf_row182_col1\" class=\"data row182 col1\" >31.754151</td>\n",

       "    </tr>\n",

       "    <tr>\n",

       "      <th id=\"T_3dfdf_level0_row183\" class=\"row_heading level0 row183\" >183</th>\n",

       "      <td id=\"T_3dfdf_row183_col0\" class=\"data row183 col0\" >4419.044506</td>\n",

       "      <td id=\"T_3dfdf_row183_col1\" class=\"data row183 col1\" >4419.044506</td>\n",

       "    </tr>\n",

       "    <tr>\n",

       "      <th id=\"T_3dfdf_level0_row184\" class=\"row_heading level0 row184\" >184</th>\n",

       "      <td id=\"T_3dfdf_row184_col0\" class=\"data row184 col0\" >327.792519</td>\n",

       "      <td id=\"T_3dfdf_row184_col1\" class=\"data row184 col1\" >327.792519</td>\n",

       "    </tr>\n",

       "    <tr>\n",

       "      <th id=\"T_3dfdf_level0_row185\" class=\"row_heading level0 row185\" >185</th>\n",

       "      <td id=\"T_3dfdf_row185_col0\" class=\"data row185 col0\" >3521326.515865</td>\n",

       "      <td id=\"T_3dfdf_row185_col1\" class=\"data row185 col1\" >3521326.515865</td>\n",

       "    </tr>\n",

       "    <tr>\n",

       "      <th id=\"T_3dfdf_level0_row186\" class=\"row_heading level0 row186\" >186</th>\n",

       "      <td id=\"T_3dfdf_row186_col0\" class=\"data row186 col0\" >20617.280314</td>\n",

       "      <td id=\"T_3dfdf_row186_col1\" class=\"data row186 col1\" >20617.280314</td>\n",

       "    </tr>\n",

       "    <tr>\n",

       "      <th id=\"T_3dfdf_level0_row187\" class=\"row_heading level0 row187\" >187</th>\n",

       "      <td id=\"T_3dfdf_row187_col0\" class=\"data row187 col0\" >0.000000</td>\n",

       "      <td id=\"T_3dfdf_row187_col1\" class=\"data row187 col1\" >0.000000</td>\n",

       "    </tr>\n",

       "    <tr>\n",

       "      <th id=\"T_3dfdf_level0_row188\" class=\"row_heading level0 row188\" >188</th>\n",

       "      <td id=\"T_3dfdf_row188_col0\" class=\"data row188 col0\" >338.071314</td>\n",

       "      <td id=\"T_3dfdf_row188_col1\" class=\"data row188 col1\" >338.071314</td>\n",

       "    </tr>\n",

       "    <tr>\n",

       "      <th id=\"T_3dfdf_level0_row189\" class=\"row_heading level0 row189\" >189</th>\n",

       "      <td id=\"T_3dfdf_row189_col0\" class=\"data row189 col0\" >389736.993100</td>\n",

       "      <td id=\"T_3dfdf_row189_col1\" class=\"data row189 col1\" >389736.993100</td>\n",

       "    </tr>\n",

       "    <tr>\n",

       "      <th id=\"T_3dfdf_level0_row190\" class=\"row_heading level0 row190\" >190</th>\n",

       "      <td id=\"T_3dfdf_row190_col0\" class=\"data row190 col0\" >97.778262</td>\n",

       "      <td id=\"T_3dfdf_row190_col1\" class=\"data row190 col1\" >97.778262</td>\n",

       "    </tr>\n",

       "    <tr>\n",

       "      <th id=\"T_3dfdf_level0_row191\" class=\"row_heading level0 row191\" >191</th>\n",

       "      <td id=\"T_3dfdf_row191_col0\" class=\"data row191 col0\" >4618.519544</td>\n",

       "      <td id=\"T_3dfdf_row191_col1\" class=\"data row191 col1\" >4618.519544</td>\n",

       "    </tr>\n",

       "    <tr>\n",

       "      <th id=\"T_3dfdf_level0_row192\" class=\"row_heading level0 row192\" >192</th>\n",

       "      <td id=\"T_3dfdf_row192_col0\" class=\"data row192 col0\" >0.000000</td>\n",

       "      <td id=\"T_3dfdf_row192_col1\" class=\"data row192 col1\" >0.000000</td>\n",

       "    </tr>\n",

       "    <tr>\n",

       "      <th id=\"T_3dfdf_level0_row193\" class=\"row_heading level0 row193\" >193</th>\n",

       "      <td id=\"T_3dfdf_row193_col0\" class=\"data row193 col0\" >447.578352</td>\n",

       "      <td id=\"T_3dfdf_row193_col1\" class=\"data row193 col1\" >447.578352</td>\n",

       "    </tr>\n",

       "    <tr>\n",

       "      <th id=\"T_3dfdf_level0_row194\" class=\"row_heading level0 row194\" >194</th>\n",

       "      <td id=\"T_3dfdf_row194_col0\" class=\"data row194 col0\" >123.092327</td>\n",

       "      <td id=\"T_3dfdf_row194_col1\" class=\"data row194 col1\" >123.092327</td>\n",

       "    </tr>\n",

       "    <tr>\n",

       "      <th id=\"T_3dfdf_level0_row195\" class=\"row_heading level0 row195\" >195</th>\n",

       "      <td id=\"T_3dfdf_row195_col0\" class=\"data row195 col0\" >4493.679628</td>\n",

       "      <td id=\"T_3dfdf_row195_col1\" class=\"data row195 col1\" >4493.679628</td>\n",

       "    </tr>\n",

       "    <tr>\n",

       "      <th id=\"T_3dfdf_level0_row196\" class=\"row_heading level0 row196\" >196</th>\n",

       "      <td id=\"T_3dfdf_row196_col0\" class=\"data row196 col0\" >0.000000</td>\n",

       "      <td id=\"T_3dfdf_row196_col1\" class=\"data row196 col1\" >0.000000</td>\n",

       "    </tr>\n",

       "    <tr>\n",

       "      <th id=\"T_3dfdf_level0_row197\" class=\"row_heading level0 row197\" >197</th>\n",

       "      <td id=\"T_3dfdf_row197_col0\" class=\"data row197 col0\" >508.017715</td>\n",

       "      <td id=\"T_3dfdf_row197_col1\" class=\"data row197 col1\" >508.017715</td>\n",

       "    </tr>\n",

       "    <tr>\n",

       "      <th id=\"T_3dfdf_level0_row198\" class=\"row_heading level0 row198\" >198</th>\n",

       "      <td id=\"T_3dfdf_row198_col0\" class=\"data row198 col0\" >192.666368</td>\n",

       "      <td id=\"T_3dfdf_row198_col1\" class=\"data row198 col1\" >192.666368</td>\n",

       "    </tr>\n",

       "    <tr>\n",

       "      <th id=\"T_3dfdf_level0_row199\" class=\"row_heading level0 row199\" >199</th>\n",

       "      <td id=\"T_3dfdf_row199_col0\" class=\"data row199 col0\" >4597.066109</td>\n",

       "      <td id=\"T_3dfdf_row199_col1\" class=\"data row199 col1\" >4597.066109</td>\n",

       "    </tr>\n",

       "    <tr>\n",

       "      <th id=\"T_3dfdf_level0_row200\" class=\"row_heading level0 row200\" >200</th>\n",

       "      <td id=\"T_3dfdf_row200_col0\" class=\"data row200 col0\" >11.454093</td>\n",

       "      <td id=\"T_3dfdf_row200_col1\" class=\"data row200 col1\" >11.454093</td>\n",

       "    </tr>\n",

       "    <tr>\n",

       "      <th id=\"T_3dfdf_level0_row201\" class=\"row_heading level0 row201\" >201</th>\n",

       "      <td id=\"T_3dfdf_row201_col0\" class=\"data row201 col0\" >598.890100</td>\n",

       "      <td id=\"T_3dfdf_row201_col1\" class=\"data row201 col1\" >598.890100</td>\n",

       "    </tr>\n",

       "    <tr>\n",

       "      <th id=\"T_3dfdf_level0_row202\" class=\"row_heading level0 row202\" >202</th>\n",

       "      <td id=\"T_3dfdf_row202_col0\" class=\"data row202 col0\" >13320.600679</td>\n",

       "      <td id=\"T_3dfdf_row202_col1\" class=\"data row202 col1\" >13320.600679</td>\n",

       "    </tr>\n",

       "    <tr>\n",

       "      <th id=\"T_3dfdf_level0_row203\" class=\"row_heading level0 row203\" >203</th>\n",

       "      <td id=\"T_3dfdf_row203_col0\" class=\"data row203 col0\" >24308.442277</td>\n",

       "      <td id=\"T_3dfdf_row203_col1\" class=\"data row203 col1\" >24308.442277</td>\n",

       "    </tr>\n",

       "    <tr>\n",

       "      <th id=\"T_3dfdf_level0_row204\" class=\"row_heading level0 row204\" >204</th>\n",

       "      <td id=\"T_3dfdf_row204_col0\" class=\"data row204 col0\" >208.434799</td>\n",

       "      <td id=\"T_3dfdf_row204_col1\" class=\"data row204 col1\" >208.434799</td>\n",

       "    </tr>\n",

       "    <tr>\n",

       "      <th id=\"T_3dfdf_level0_row205\" class=\"row_heading level0 row205\" >205</th>\n",

       "      <td id=\"T_3dfdf_row205_col0\" class=\"data row205 col0\" >6385.583696</td>\n",

       "      <td id=\"T_3dfdf_row205_col1\" class=\"data row205 col1\" >6385.583696</td>\n",

       "    </tr>\n",

       "    <tr>\n",

       "      <th id=\"T_3dfdf_level0_row206\" class=\"row_heading level0 row206\" >206</th>\n",

       "      <td id=\"T_3dfdf_row206_col0\" class=\"data row206 col0\" >2031.944092</td>\n",

       "      <td id=\"T_3dfdf_row206_col1\" class=\"data row206 col1\" >2031.944092</td>\n",

       "    </tr>\n",

       "    <tr>\n",

       "      <th id=\"T_3dfdf_level0_row207\" class=\"row_heading level0 row207\" >207</th>\n",

       "      <td id=\"T_3dfdf_row207_col0\" class=\"data row207 col0\" >4624.909561</td>\n",

       "      <td id=\"T_3dfdf_row207_col1\" class=\"data row207 col1\" >4624.909561</td>\n",

       "    </tr>\n",

       "    <tr>\n",

       "      <th id=\"T_3dfdf_level0_row208\" class=\"row_heading level0 row208\" >208</th>\n",

       "      <td id=\"T_3dfdf_row208_col0\" class=\"data row208 col0\" >1474.905037</td>\n",

       "      <td id=\"T_3dfdf_row208_col1\" class=\"data row208 col1\" >1474.905037</td>\n",

       "    </tr>\n",

       "    <tr>\n",

       "      <th id=\"T_3dfdf_level0_row209\" class=\"row_heading level0 row209\" >209</th>\n",

       "      <td id=\"T_3dfdf_row209_col0\" class=\"data row209 col0\" >1398.796134</td>\n",

       "      <td id=\"T_3dfdf_row209_col1\" class=\"data row209 col1\" >1398.796134</td>\n",

       "    </tr>\n",

       "    <tr>\n",

       "      <th id=\"T_3dfdf_level0_row210\" class=\"row_heading level0 row210\" >210</th>\n",

       "      <td id=\"T_3dfdf_row210_col0\" class=\"data row210 col0\" >0.000000</td>\n",

       "      <td id=\"T_3dfdf_row210_col1\" class=\"data row210 col1\" >0.000000</td>\n",

       "    </tr>\n",

       "  </tbody>\n",

       "</table>\n"

      ],

      "text/plain": [

       "<pandas.io.formats.style.Styler at 0x7f4fce9eb290>"

      ]

     },

     "execution_count": 4,

     "metadata": {},

     "output_type": "execute_result"

    }

   ],

   "source": [

    "# Substract mean and square each value\n",

    "rdd3 = rdd2.map(lambda x: (x - mean)**2)\n",

    "\n",

    "# Add up all rows\n",

    "aux2 = rdd3.reduce(lambda x, y: x + y)\n",

    "\n",

    "# Calculate variance\n",

    "variance = aux2 / n\n",

    "\n",

    "# Calculate standard deviation\n",

    "my_standard_deviation = np.sqrt(variance)\n",

    "standard_deviation = rdd2.stdev() # calculate reference values with high level function\n",

    "\n",

    "# Plot as dataframe\n",

    "pd.DataFrame({'myResult': my_standard_deviation, 'oneStep': standard_deviation}).style.set_caption(\"Std. Deviation for all Columns:\")"

   ]

  }

 ],

 "metadata": {

  "kernelspec": {

   "display_name": "Python 3 (ipykernel)",

   "language": "python",

   "name": "python3"

  },

  "language_info": {

   "codemirror_mode": {

    "name": "ipython",

    "version": 3

   },

   "file_extension": ".py",

   "mimetype": "text/x-python",

   "name": "python",

   "nbconvert_exporter": "python",

   "pygments_lexer": "ipython3",

   "version": "3.7.16"

  },

  "toc": {

   "base_numbering": 1,

   "nav_menu": {},

   "number_sections": true,

   "sideBar": true,

   "skip_h1_title": false,

   "title_cell": "Table of Contents",

   "title_sidebar": "Contents",

   "toc_cell": false,

   "toc_position": {},

   "toc_section_display": true,

   "toc_window_display": false

  }

 },

 "nbformat": 4,

 "nbformat_minor": 5

}