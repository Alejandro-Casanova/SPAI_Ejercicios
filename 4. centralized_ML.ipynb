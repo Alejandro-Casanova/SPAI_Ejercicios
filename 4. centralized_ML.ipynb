{
    "cells": [
        {
            "cell_type": "markdown",
            "id": "1d558b9f",
            "metadata": {},
            "source": [
                "### Entrega Individual: Alejandro Casanova Martín"
            ]
        },
        {
            "cell_type": "code",
            "execution_count": 1,
            "id": "7225f8f8",
            "metadata": {
                "ExecuteTime": {
                    "end_time": "2023-10-08T15:26:55.662403Z",
                    "start_time": "2023-10-08T15:26:55.223844Z"
                }
            },
            "outputs": [],
            "source": [
                "import pandas as pd\n",
                "import numpy as np\n",
                "from tqdm.notebook import tqdm\n",
                "\n",
                "def readFile(filename : str = 'botnet_tot_syn_l.csv'):\n",
                "    '''\n",
                "    filename -- name of the spam dataset file\n",
                "        \n",
                "    returns:\n",
                "        An np.array (Xy) containing the data of filename. \n",
                "            Each element is a tuple (X,y).\n",
                "                “X” is an array containing the 11 features (float number) of an example\n",
                "                “y” is the 12th column of an example (integer 0/1)\n",
                "    '''\n",
                "    \n",
                "    print(f\"Getting input data from file: {filename}\")\n",
                "    # read data in chunks\n",
                "    chunk = pd.read_csv(filename, chunksize=100000)\n",
                "    pd_df = pd.concat(chunk)\n",
                "    pd_df_numpy = pd_df.to_numpy()\n",
                "\n",
                "    # Format X into an array of tuples ( [X0, X1, X2, ... X10] , y)\n",
                "    Xy = np.empty(len(pd_df_numpy), dtype=object) # Reserve empty array\n",
                "    print(f\"Formatting input data into array of tuples with shape: ([X0, X1, X2, ... X10] , y)...\")\n",
                "    for i in tqdm(range(len(pd_df_numpy)), desc=\"Samples: \"):\n",
                "        Xy[i] = (pd_df_numpy[i][:-1], round(pd_df_numpy[i][-1])) # Fill array with tuples in right format\n",
                "        \n",
                "    return Xy"
            ]
        },
        {
            "cell_type": "code",
            "execution_count": 2,
            "id": "ed3e4c3e",
            "metadata": {
                "ExecuteTime": {
                    "end_time": "2023-10-08T15:26:55.675892Z",
                    "start_time": "2023-10-08T15:26:55.665760Z"
                }
            },
            "outputs": [],
            "source": [
                "def normalize (Xy: np.ndarray):\n",
                "    '''\n",
                "    Arguments:\n",
                "        Xy is a numpy array containing data examples. Each element is a tuple (X,y).\n",
                "            “X” is an array containing the 11 features (float number) of an example\n",
                "            “y” is the label of the example (integer 0/1)\n",
                "    Returns:\n",
                "        A numpy array rescaled to N(0,1) in each column (mean=0, standard deviation=1)\n",
                "    '''\n",
                "    n = len(Xy) # Num of rows (samples)\n",
                "    k = len(Xy[0][0]) # Num of columns (input variables)\n",
                "    \n",
                "    Xy_new = np.empty(n, dtype=object)\n",
                "    mean = np.zeros(k) # Create array for means of each column\n",
                "    stddev = np.zeros(k)\n",
                "    \n",
                "    print(\"Dataset normalization in progress...\\n\")\n",
                "    \n",
                "    # Calculate mean array\n",
                "    print(\"Calculating mean values...\")\n",
                "    for i in tqdm(range(n), desc=\"Samples:\"):\n",
                "        mean += Xy[i][0]\n",
                "    mean /= n\n",
                "    print(f\"Result: {mean}\\n\")\n",
                "    \n",
                "    # Calculate stddev array\n",
                "    print(\"Calculating stddev values...\")\n",
                "    for i in tqdm(range(n), desc=\"Samples:\"):\n",
                "        stddev += np.power(Xy[i][0] - mean, 2)\n",
                "    stddev /= n\n",
                "    stddev = np.sqrt(stddev)\n",
                "    print(f\"Result: {stddev}\\n\")\n",
                "    \n",
                "    # Normalize\n",
                "    print(\"Normalizing...\")\n",
                "    for i in tqdm(range(n), desc=\"Samples:\"):\n",
                "        Xy_new[i] = ((Xy[i][0] - mean) / stddev, Xy[i][1])\n",
                "    \n",
                "    return Xy_new"
            ]
        },
        {
            "cell_type": "code",
            "execution_count": 3,
            "id": "4a37e74b",
            "metadata": {
                "ExecuteTime": {
                    "end_time": "2023-10-08T15:26:55.692697Z",
                    "start_time": "2023-10-08T15:26:55.678207Z"
                }
            },
            "outputs": [],
            "source": [
                "import numpy as np\n",
                "\n",
                "def predict_prob (w, b, x):\n",
                "    '''\n",
                "    Auxiliary function! Returns predicted probabilities, NOT predicted labels\n",
                "    \n",
                "    Arguments:\n",
                "        w -- weights\n",
                "        b -- bias\n",
                "        x -- Example to be predicted (only 1 example)\n",
                "    Returns:\n",
                "        Y_pred_prob -- a float value (0-1) corresponding to the prediction of X\n",
                "    '''\n",
                "    \n",
                "    # Apply model's function\n",
                "    y_logit = np.dot(w, x) + b\n",
                "    \n",
                "    # Apply sigmoid to get prediction probability\n",
                "    y_pred_prob = 1 / (1 + np.exp(-y_logit)) \n",
                "    \n",
                "    return y_pred_prob"
            ]
        },
        {
            "cell_type": "code",
            "execution_count": 4,
            "id": "98c0626b",
            "metadata": {
                "ExecuteTime": {
                    "end_time": "2023-10-08T15:26:55.712674Z",
                    "start_time": "2023-10-08T15:26:55.696116Z"
                }
            },
            "outputs": [],
            "source": [
                "import math\n",
                "import pandas as pd\n",
                "from tqdm.notebook import tqdm\n",
                "\n",
                "NUM_FEATURES = 11\n",
                "NUM_WEIGHTS = NUM_FEATURES + 1\n",
                "\n",
                "def train (Xy, iterations, learning_rate):\n",
                "    '''\n",
                "    Arguments:\n",
                "        Xy -- numpy array containing data examples. Each record of the array is a tuple (X,y).\n",
                "            “X” is an array containing the 11 features (float number) of an example\n",
                "            “y” is the label of the example (integer 0/1)\n",
                "        iterations -- number of iterations of the optimization loop\n",
                "        learning_rate -- learning rate of the gradient descent\n",
                "    Returns:\n",
                "        A list or array containing the weights “w” and bias “b” at the end of the\n",
                "            training process in the shape of [w0, w1, ... w10, b]\n",
                "    '''\n",
                "    \n",
                "    w = np.random.rand(NUM_WEIGHTS) # Weights\n",
                "    dw = np.zeros(NUM_WEIGHTS) # Derived weights\n",
                "    m = len(Xy) # Number of samples\n",
                "    cost_reg = []\n",
                "    \n",
                "    print(\"Training...\")\n",
                "    for it in tqdm(range(iterations), desc=\"Iterations: \"):\n",
                "        \n",
                "        # Set cost to 0 before accumulating\n",
                "        cost = 0\n",
                "        \n",
                "        for j in tqdm(range(m), leave=False, desc=\"Samples: \"): # Iterate over data samples\n",
                "            \n",
                "            # Unpack single data sample tuple\n",
                "            X, y = Xy[j]\n",
                "            \n",
                "            # Get y_hat for one data sample\n",
                "            y_pred_prob = predict_prob(w[:-1], w[-1], X) \n",
                "            \n",
                "            # Accumulate cost\n",
                "            cost += y * math.log(y_pred_prob) + (1 - y) * math.log(1 - y_pred_prob)\n",
                "            \n",
                "            # Accumulate for derivatives of all weights except b\n",
                "            for i in range(NUM_WEIGHTS-1):   \n",
                "                dw[i] += ( y_pred_prob - y ) * X[i]\n",
                "                \n",
                "            # Accumulate for derivative for b\n",
                "            dw[-1] += y_pred_prob - y\n",
                "        \n",
                "        # Divide by number of samples to compute the derivative \n",
                "        dw /= m\n",
                "        \n",
                "        # Divide by number of samples to compute the cost \n",
                "        cost /= -m\n",
                "        cost_reg.append(cost)\n",
                "        print(f\"Iteration: {it} - Cost: {cost}\")\n",
                "        \n",
                "        # Update weights\n",
                "        w -= learning_rate * dw\n",
                "    \n",
                "    # Plot cost curve\n",
                "    df = pd.DataFrame({\"Cost\": cost_reg}, index=range(1, iterations + 1))\n",
                "    df.plot(title=\"Training Cost\", xlabel=\"Iterations\")\n",
                "    \n",
                "    # Return tuned weights\n",
                "    return w"
            ]
        },
        {
            "cell_type": "code",
            "execution_count": 5,
            "id": "2fcfeb2c",
            "metadata": {
                "ExecuteTime": {
                    "end_time": "2023-10-08T15:26:55.721558Z",
                    "start_time": "2023-10-08T15:26:55.716409Z"
                }
            },
            "outputs": [],
            "source": [
                "import numpy as np\n",
                "\n",
                "def predict (w, b, x):\n",
                "    '''\n",
                "    Arguments:\n",
                "        w -- weights\n",
                "        b -- bias\n",
                "        x -- Example to be predicted (only 1 example)\n",
                "    Returns:\n",
                "        Y_pred -- a value (0/1) corresponding to the prediction of X\n",
                "    '''\n",
                "    \n",
                "    # Apply model's function\n",
                "    y_logit = np.dot(w, x) + b\n",
                "    \n",
                "    # Apply sigmoid to get prediction probability\n",
                "    y_pred_prob = 1 / (1 + np.exp(-y_logit)) \n",
                "    \n",
                "    # Round up to 0 or 1\n",
                "    y_pred = 1 if y_pred_prob >= 0.5 else 0\n",
                "    \n",
                "    return y_pred"
            ]
        },
        {
            "cell_type": "code",
            "execution_count": 6,
            "id": "2ed45ce3",
            "metadata": {
                "ExecuteTime": {
                    "end_time": "2023-10-08T15:26:55.732154Z",
                    "start_time": "2023-10-08T15:26:55.723685Z"
                },
                "scrolled": true
            },
            "outputs": [],
            "source": [
                "def accuracy (w, b, Xy):\n",
                "    '''    \n",
                "    Arguments:\n",
                "        w -- weights\n",
                "        b -- bias\n",
                "        Xy -- numpy array containing examples to be predicted\n",
                "    Returns:\n",
                "        accuracy -- the number of predictions that are correct divided by the number of \n",
                "            records (examples) in Xy.\n",
                "    '''\n",
                "    \n",
                "    m = len(Xy) # Number of samples\n",
                "    accuracy = 0\n",
                "    \n",
                "    print(\"\\nCalculating accuracy...\")\n",
                "    for i in tqdm(range(m), desc=\"Samples: \"):\n",
                "        \n",
                "        X, y = Xy[i]\n",
                "        y_pred = predict(w, b, X)\n",
                "        \n",
                "        if y_pred == y:\n",
                "            accuracy += 1\n",
                "            \n",
                "    accuracy /= m\n",
                "    \n",
                "    return accuracy"
            ]
        },
        {
            "cell_type": "markdown",
            "id": "a9fa96d6",
            "metadata": {},
            "source": [
                "# MAIN Code"
            ]
        },
        {
            "cell_type": "code",
            "execution_count": 7,
            "id": "1b11f519",
            "metadata": {
                "ExecuteTime": {
                    "end_time": "2023-10-08T15:28:56.484660Z",
                    "start_time": "2023-10-08T15:26:55.734535Z"
                }
            },
            "outputs": [
                {
                    "name": "stdout",
                    "output_type": "stream",
                    "text": [
                        "Getting input data from file: botnet_tot_syn_l.csv\n",
                        "Formatting input data into array of tuples with shape: ([X0, X1, X2, ... X10] , y)...\n"
                    ]
                },
                {
                    "data": {
                        "application/vnd.jupyter.widget-view+json": {
                            "model_id": "7656900b5c2b40e0968a0e532343949b",
                            "version_major": 2,
                            "version_minor": 0
                        },
                        "text/plain": [
                            "Samples:   0%|          | 0/999999 [00:00<?, ?it/s]"
                        ]
                    },
                    "metadata": {},
                    "output_type": "display_data"
                },
                {
                    "name": "stdout",
                    "output_type": "stream",
                    "text": [
                        "Dataset normalization in progress...\n",
                        "\n",
                        "Calculating mean values...\n"
                    ]
                },
                {
                    "data": {
                        "application/vnd.jupyter.widget-view+json": {
                            "model_id": "31c2109eeff84195b128185f31d644d1",
                            "version_major": 2,
                            "version_minor": 0
                        },
                        "text/plain": [
                            "Samples::   0%|          | 0/999999 [00:00<?, ?it/s]"
                        ]
                    },
                    "metadata": {},
                    "output_type": "display_data"
                },
                {
                    "name": "stdout",
                    "output_type": "stream",
                    "text": [
                        "Result: [1.28153955e+03 2.12827868e+04 6.94806411e+03 6.26312587e+04\n",
                        " 1.22198717e+08 1.57222518e+07 9.10731004e+00 1.88975369e+00\n",
                        " 1.24270085e+02 2.13060268e+09 2.26149160e+09]\n",
                        "\n",
                        "Calculating stddev values...\n"
                    ]
                },
                {
                    "data": {
                        "application/vnd.jupyter.widget-view+json": {
                            "model_id": "f44bcb319a064320888226c246a044ae",
                            "version_major": 2,
                            "version_minor": 0
                        },
                        "text/plain": [
                            "Samples::   0%|          | 0/999999 [00:00<?, ?it/s]"
                        ]
                    },
                    "metadata": {},
                    "output_type": "display_data"
                },
                {
                    "name": "stdout",
                    "output_type": "stream",
                    "text": [
                        "Result: [1.60589352e+03 2.41174791e+04 1.63949521e+04 1.34264271e+05\n",
                        " 2.33920799e+08 4.41237988e+07 5.28172701e+00 2.10134637e+00\n",
                        " 9.03431365e+01 7.13843720e+08 1.30153258e+09]\n",
                        "\n",
                        "Normalizing...\n"
                    ]
                },
                {
                    "data": {
                        "application/vnd.jupyter.widget-view+json": {
                            "model_id": "ff35e95298764c1192135924fa35ad98",
                            "version_major": 2,
                            "version_minor": 0
                        },
                        "text/plain": [
                            "Samples::   0%|          | 0/999999 [00:00<?, ?it/s]"
                        ]
                    },
                    "metadata": {},
                    "output_type": "display_data"
                },
                {
                    "name": "stdout",
                    "output_type": "stream",
                    "text": [
                        "Training...\n"
                    ]
                },
                {
                    "data": {
                        "application/vnd.jupyter.widget-view+json": {
                            "model_id": "a4f6cbbf32fc43908e9a6f0daf89af2e",
                            "version_major": 2,
                            "version_minor": 0
                        },
                        "text/plain": [
                            "Iterations:   0%|          | 0/10 [00:00<?, ?it/s]"
                        ]
                    },
                    "metadata": {},
                    "output_type": "display_data"
                },
                {
                    "data": {
                        "application/vnd.jupyter.widget-view+json": {
                            "model_id": "",
                            "version_major": 2,
                            "version_minor": 0
                        },
                        "text/plain": [
                            "Samples:   0%|          | 0/999999 [00:00<?, ?it/s]"
                        ]
                    },
                    "metadata": {},
                    "output_type": "display_data"
                },
                {
                    "name": "stdout",
                    "output_type": "stream",
                    "text": [
                        "Iteration: 0 - Cost: 1.270309883029273\n"
                    ]
                },
                {
                    "data": {
                        "application/vnd.jupyter.widget-view+json": {
                            "model_id": "",
                            "version_major": 2,
                            "version_minor": 0
                        },
                        "text/plain": [
                            "Samples:   0%|          | 0/999999 [00:00<?, ?it/s]"
                        ]
                    },
                    "metadata": {},
                    "output_type": "display_data"
                },
                {
                    "name": "stdout",
                    "output_type": "stream",
                    "text": [
                        "Iteration: 1 - Cost: 0.7159412731131078\n"
                    ]
                },
                {
                    "data": {
                        "application/vnd.jupyter.widget-view+json": {
                            "model_id": "",
                            "version_major": 2,
                            "version_minor": 0
                        },
                        "text/plain": [
                            "Samples:   0%|          | 0/999999 [00:00<?, ?it/s]"
                        ]
                    },
                    "metadata": {},
                    "output_type": "display_data"
                },
                {
                    "name": "stdout",
                    "output_type": "stream",
                    "text": [
                        "Iteration: 2 - Cost: 0.482236725004454\n"
                    ]
                },
                {
                    "data": {
                        "application/vnd.jupyter.widget-view+json": {
                            "model_id": "",
                            "version_major": 2,
                            "version_minor": 0
                        },
                        "text/plain": [
                            "Samples:   0%|          | 0/999999 [00:00<?, ?it/s]"
                        ]
                    },
                    "metadata": {},
                    "output_type": "display_data"
                },
                {
                    "name": "stdout",
                    "output_type": "stream",
                    "text": [
                        "Iteration: 3 - Cost: 0.37590080615140653\n"
                    ]
                },
                {
                    "data": {
                        "application/vnd.jupyter.widget-view+json": {
                            "model_id": "",
                            "version_major": 2,
                            "version_minor": 0
                        },
                        "text/plain": [
                            "Samples:   0%|          | 0/999999 [00:00<?, ?it/s]"
                        ]
                    },
                    "metadata": {},
                    "output_type": "display_data"
                },
                {
                    "name": "stdout",
                    "output_type": "stream",
                    "text": [
                        "Iteration: 4 - Cost: 0.31933745330207647\n"
                    ]
                },
                {
                    "data": {
                        "application/vnd.jupyter.widget-view+json": {
                            "model_id": "",
                            "version_major": 2,
                            "version_minor": 0
                        },
                        "text/plain": [
                            "Samples:   0%|          | 0/999999 [00:00<?, ?it/s]"
                        ]
                    },
                    "metadata": {},
                    "output_type": "display_data"
                },
                {
                    "name": "stdout",
                    "output_type": "stream",
                    "text": [
                        "Iteration: 5 - Cost: 0.28530882929654755\n"
                    ]
                },
                {
                    "data": {
                        "application/vnd.jupyter.widget-view+json": {
                            "model_id": "",
                            "version_major": 2,
                            "version_minor": 0
                        },
                        "text/plain": [
                            "Samples:   0%|          | 0/999999 [00:00<?, ?it/s]"
                        ]
                    },
                    "metadata": {},
                    "output_type": "display_data"
                },
                {
                    "name": "stdout",
                    "output_type": "stream",
                    "text": [
                        "Iteration: 6 - Cost: 0.26284857446389437\n"
                    ]
                },
                {
                    "data": {
                        "application/vnd.jupyter.widget-view+json": {
                            "model_id": "",
                            "version_major": 2,
                            "version_minor": 0
                        },
                        "text/plain": [
                            "Samples:   0%|          | 0/999999 [00:00<?, ?it/s]"
                        ]
                    },
                    "metadata": {},
                    "output_type": "display_data"
                },
                {
                    "name": "stdout",
                    "output_type": "stream",
                    "text": [
                        "Iteration: 7 - Cost: 0.246991289835358\n"
                    ]
                },
                {
                    "data": {
                        "application/vnd.jupyter.widget-view+json": {
                            "model_id": "",
                            "version_major": 2,
                            "version_minor": 0
                        },
                        "text/plain": [
                            "Samples:   0%|          | 0/999999 [00:00<?, ?it/s]"
                        ]
                    },
                    "metadata": {},
                    "output_type": "display_data"
                },
                {
                    "name": "stdout",
                    "output_type": "stream",
                    "text": [
                        "Iteration: 8 - Cost: 0.23522421517190506\n"
                    ]
                },
                {
                    "data": {
                        "application/vnd.jupyter.widget-view+json": {
                            "model_id": "",
                            "version_major": 2,
                            "version_minor": 0
                        },
                        "text/plain": [
                            "Samples:   0%|          | 0/999999 [00:00<?, ?it/s]"
                        ]
                    },
                    "metadata": {},
                    "output_type": "display_data"
                },
                {
                    "name": "stdout",
                    "output_type": "stream",
                    "text": [
                        "Iteration: 9 - Cost: 0.2261544715168657\n",
                        "\n",
                        "Calculating accuracy...\n"
                    ]
                },
                {
                    "data": {
                        "application/vnd.jupyter.widget-view+json": {
                            "model_id": "dde0bf7e7c3649a1946f37537609c220",
                            "version_major": 2,
                            "version_minor": 0
                        },
                        "text/plain": [
                            "Samples:   0%|          | 0/999999 [00:00<?, ?it/s]"
                        ]
                    },
                    "metadata": {},
                    "output_type": "display_data"
                },
                {
                    "name": "stdout",
                    "output_type": "stream",
                    "text": [
                        "Accuracy: 92.4257\n"
                    ]
                },
                {
                    "data": {
                        "image/png": "[encoded data removed]",
                        "text/plain": [
                            "<Figure size 640x480 with 1 Axes>"
                        ]
                    },
                    "metadata": {},
                    "output_type": "display_data"
                }
            ],
            "source": [
                "NUM_ITER = 10\n",
                "LR = 1.5\n",
                "\n",
                "# Read data from file\n",
                "Xy = readFile('botnet_tot_syn_l.csv')\n",
                "\n",
                "# Normalize data\n",
                "Xy_normalized = normalize(Xy)\n",
                "\n",
                "# Train Model\n",
                "w = train(Xy_normalized, NUM_ITER, LR)\n",
                "\n",
                "# Calculate Accuracy\n",
                "acc = accuracy(w[:-1], w[-1], Xy_normalized)\n",
                "print(f\"Accuracy: {(acc*100):.4f} %\")"
            ]
        }
    ],
    "metadata": {
        "kernelspec": {
            "display_name": "Python 3 (ipykernel)",
            "language": "python",
            "name": "python3"
        },
        "language_info": {
            "codemirror_mode": {
                "name": "ipython",
                "version": 3
            },
            "file_extension": ".py",
            "mimetype": "text/x-python",
            "name": "python",
            "nbconvert_exporter": "python",
            "pygments_lexer": "ipython3",
            "version": "3.7.16"
        },
        "toc": {
            "base_numbering": 1,
            "nav_menu": {},
            "number_sections": true,
            "sideBar": true,
            "skip_h1_title": false,
            "title_cell": "Table of Contents",
            "title_sidebar": "Contents",
            "toc_cell": false,
            "toc_position": {},
            "toc_section_display": true,
            "toc_window_display": false
        }
    },
    "nbformat": 4,
    "nbformat_minor": 5
}
