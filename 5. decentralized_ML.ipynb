{
     "cells": [
          {
               "cell_type": "code",
               "execution_count": 1,
               "id": "7225f8f8",
               "metadata": {
                    "ExecuteTime": {
                         "end_time": "2023-10-16T08:03:58.296061Z",
                         "start_time": "2023-10-16T08:03:49.152459Z"
                    }
               },
               "outputs": [
                    {
                         "name": "stdout",
                         "output_type": "stream",
                         "text": [
                              "23/10/16 10:03:54 WARN Utils: Your hostname, vm resolves to a loopback address: 127.0.1.1; using 10.0.2.15 instead (on interface enp0s3)\n",
                              "23/10/16 10:03:54 WARN Utils: Set SPARK_LOCAL_IP if you need to bind to another address\n"
                         ]
                    },
                    {
                         "name": "stderr",
                         "output_type": "stream",
                         "text": [
                              "Setting default log level to \"WARN\".\n",
                              "To adjust logging level use sc.setLogLevel(newLevel). For SparkR, use setLogLevel(newLevel).\n"
                         ]
                    },
                    {
                         "name": "stdout",
                         "output_type": "stream",
                         "text": [
                              "23/10/16 10:03:55 WARN NativeCodeLoader: Unable to load native-hadoop library for your platform... using builtin-java classes where applicable\n"
                         ]
                    }
               ],
               "source": [
                    "import findspark\n",
                    "from pyspark import SparkContext\n",
                    "import numpy as np\n",
                    "import pandas as pd\n",
                    "from tqdm.notebook import tqdm\n",
                    "\n",
                    "findspark.init()\n",
                    "sc = SparkContext(\"local[*]\", \"Name of the Program\")"
               ]
          },
          {
               "cell_type": "code",
               "execution_count": 2,
               "id": "17615fd2",
               "metadata": {
                    "ExecuteTime": {
                         "end_time": "2023-10-16T08:03:58.314933Z",
                         "start_time": "2023-10-16T08:03:58.302381Z"
                    }
               },
               "outputs": [],
               "source": [
                    "def readFile(filename : str = 'botnet_tot_syn_l.csv'):\n",
                    "    '''\n",
                    "    filename -- name of the spam dataset file\n",
                    "        \n",
                    "    returns:\n",
                    "        An Rdd containing the data of filename. \n",
                    "            Each element is a tuple (X,y).\n",
                    "                “X” is an array containing the 11 features (float number) of an example\n",
                    "                “y” is the 12th column of an example (integer 0/1)\n",
                    "    '''\n",
                    "    \n",
                    "    print(f\"Getting input data from file: {filename}\")\n",
                    "    rdd_Xy = sc.textFile(filename)\n",
                    "    \n",
                    "    def formatSamples(row):\n",
                    "        aux_arr = np.array(row.split(','), dtype=float)\n",
                    "        return (aux_arr[:-1], round(aux_arr[-1]))\n",
                    "    \n",
                    "    rdd_Xy = rdd_Xy.map(formatSamples)\n",
                    "    \n",
                    "    return rdd_Xy"
               ]
          },
          {
               "cell_type": "code",
               "execution_count": 3,
               "id": "ed3e4c3e",
               "metadata": {
                    "ExecuteTime": {
                         "end_time": "2023-10-16T08:03:58.346411Z",
                         "start_time": "2023-10-16T08:03:58.322250Z"
                    }
               },
               "outputs": [],
               "source": [
                    "def normalize (Rdd_Xy):\n",
                    "    '''\n",
                    "    Arguments:\n",
                    "        Rdd_Xy is an Rdd containing data examples. Each element is a tuple (X,y).\n",
                    "            “X” is an array containing the 11 features (float number) of an example\n",
                    "            “y” is the label of the example (integer 0/1)\n",
                    "    Returns:\n",
                    "        A numpy array rescaled to N(0,1) in each column (mean=0, standard deviation=1)\n",
                    "    '''\n",
                    "    \n",
                    "    if 'm' not in globals():\n",
                    "        print(\"Counting number of samples in dataset...\")\n",
                    "        global m\n",
                    "        m = Rdd_Xy.count() # Number of rows (samples)\n",
                    "        print(f\"There's a total of {m} elements in the dataset!\\n\")\n",
                    "        \n",
                    "    print(\"Dataset normalization in progress...\\n\")\n",
                    "    \n",
                    "    # Calculate mean array\n",
                    "    print(\"Calculating mean values...\")\n",
                    "    mean_arr = Rdd_Xy.reduce(lambda x, y: (x[0] + y[0], 0)) # Label doesn't need to be accumulated\n",
                    "    mean_arr = mean_arr[0] # Remove label\n",
                    "    mean_arr /= m\n",
                    "    print(f\"Calculated Mean: {mean_arr}\\n\")\n",
                    "    \n",
                    "    # Calculate stddev array\n",
                    "    print(\"Calculating stddev values...\")\n",
                    "    rdd_variance = Rdd_Xy.map(lambda x: ( (x[0] - mean_arr)**2, 0) )\n",
                    "    variance_arr = rdd_variance.reduce(lambda x, y: (x[0] + y[0], 0)) # Label doesn't need to be accumulated\n",
                    "    variance_arr = variance_arr[0] # Remove label\n",
                    "    variance_arr /= m\n",
                    "    stddev_arr = np.sqrt(variance_arr)\n",
                    "    print(f\"Calculated Stddev: {stddev_arr}\\n\")\n",
                    "    \n",
                    "    print(\"Normalizing...\")\n",
                    "    Rdd_Xy_normalized = Rdd_Xy.map(lambda x: ((x[0] - mean_arr) / stddev_arr, x[1]))\n",
                    "    \n",
                    "    return Rdd_Xy_normalized"
               ]
          },
          {
               "cell_type": "code",
               "execution_count": 4,
               "id": "4a37e74b",
               "metadata": {
                    "ExecuteTime": {
                         "end_time": "2023-10-16T08:03:58.361992Z",
                         "start_time": "2023-10-16T08:03:58.353488Z"
                    }
               },
               "outputs": [],
               "source": [
                    "import numpy as np\n",
                    "\n",
                    "def predict_prob (w, b, x):\n",
                    "    '''\n",
                    "    Auxiliary function! Returns predicted probabilities, NOT predicted labels\n",
                    "    \n",
                    "    Arguments:\n",
                    "        w -- weights\n",
                    "        b -- bias\n",
                    "        x -- Example to be predicted (only 1 example)\n",
                    "    Returns:\n",
                    "        Y_pred_prob -- a float value (0-1) corresponding to the prediction of X\n",
                    "    '''\n",
                    "    \n",
                    "    # Apply model's function\n",
                    "    y_logit = np.dot(w, x) + b\n",
                    "    \n",
                    "    # Apply sigmoid to get prediction probability\n",
                    "    y_pred_prob = 1 / (1 + np.exp(-y_logit)) \n",
                    "    \n",
                    "    return y_pred_prob"
               ]
          },
          {
               "cell_type": "code",
               "execution_count": 5,
               "id": "98c0626b",
               "metadata": {
                    "ExecuteTime": {
                         "end_time": "2023-10-16T08:03:58.381199Z",
                         "start_time": "2023-10-16T08:03:58.364607Z"
                    }
               },
               "outputs": [],
               "source": [
                    "import math\n",
                    "import pandas as pd\n",
                    "from tqdm.notebook import tqdm\n",
                    "\n",
                    "NUM_FEATURES = 11\n",
                    "NUM_WEIGHTS = NUM_FEATURES + 1\n",
                    "\n",
                    "def train (Rdd_Xy, iterations, learning_rate):\n",
                    "    '''\n",
                    "    Arguments:\n",
                    "        Rdd_Xy -- Rdd containing data examples. Each record of the array is a tuple (X,y).\n",
                    "            “X” is an array containing the 11 features (float number) of an example\n",
                    "            “y” is the label of the example (integer 0/1)\n",
                    "        iterations -- number of iterations of the optimization loop\n",
                    "        learning_rate -- learning rate of the gradient descent\n",
                    "    Returns:\n",
                    "        A list or array containing the weights “w” and bias “b” at the end of the\n",
                    "            training process in the shape of [w0, w1, ... w10, b]\n",
                    "    '''\n",
                    "    \n",
                    "    w = np.random.rand(NUM_WEIGHTS) # Weights\n",
                    "    \n",
                    "    if 'm' not in globals():\n",
                    "        print(\"Counting number of samples in dataset...\")\n",
                    "        global m\n",
                    "        m = Rdd_Xy.count() # Number of rows (samples)\n",
                    "        \n",
                    "    cost_reg = []\n",
                    "    \n",
                    "    print(\"Training...\")\n",
                    "    for it in tqdm(range(iterations), desc=\"Iterations: \"):\n",
                    "        \n",
                    "        def map_cost_dw(x):\n",
                    "            X, y = x # Unpack tuple\n",
                    "            dw_ = np.zeros(NUM_WEIGHTS) # Derived weights\n",
                    "            \n",
                    "            # Get y_hat for one data sample\n",
                    "            y_pred_prob = predict_prob(w[:-1], w[-1], X) \n",
                    "            \n",
                    "            # Prevent math errors\n",
                    "            epsilon=0.00000001\n",
                    "            if y_pred_prob <= 0:\n",
                    "                y_pred_prob = epsilon\n",
                    "            elif y_pred_prob >= 1:\n",
                    "                y_pred_prob = 1 - epsilon\n",
                    "            \n",
                    "            # Calculate single cost\n",
                    "            cost_ = y * math.log(y_pred_prob) + (1 - y) * math.log(1 - y_pred_prob)\n",
                    "            \n",
                    "            # Calculate derivative component of w\n",
                    "            dw_[:-1] = ( y_pred_prob - y ) * X\n",
                    "            dw_[-1] = y_pred_prob - y\n",
                    "            \n",
                    "            return (cost_, dw_)\n",
                    "        \n",
                    "        rdd_cost_dw = Rdd_Xy.map(map_cost_dw)\n",
                    "        cost, dw = rdd_cost_dw.reduce(lambda x, y: (x[0] + y[0], x[1] + y[1]))\n",
                    "        \n",
                    "        # Divide by number of samples to compute the cost \n",
                    "        cost /= -m\n",
                    "        cost_reg.append(cost)\n",
                    "        print(f\"Iteration: {it} - Cost: {cost}\")\n",
                    "        \n",
                    "        # Average derivative of w\n",
                    "        dw /= m\n",
                    "        \n",
                    "        # Update weights\n",
                    "        w -= learning_rate * dw\n",
                    "    \n",
                    "    # Plot cost curve\n",
                    "    df = pd.DataFrame({\"Cost\": cost_reg}, index=range(1, iterations + 1))\n",
                    "    df.plot(title=\"Training Cost\", xlabel=\"Iterations\")\n",
                    "        \n",
                    "    # Return tuned weights\n",
                    "    return w"
               ]
          },
          {
               "cell_type": "code",
               "execution_count": 6,
               "id": "2fcfeb2c",
               "metadata": {
                    "ExecuteTime": {
                         "end_time": "2023-10-16T08:03:58.396110Z",
                         "start_time": "2023-10-16T08:03:58.383307Z"
                    }
               },
               "outputs": [],
               "source": [
                    "import numpy as np\n",
                    "\n",
                    "def predict (w, b, x):\n",
                    "    '''\n",
                    "    Arguments:\n",
                    "        w -- weights\n",
                    "        b -- bias\n",
                    "        x -- Example to be predicted (only 1 example)\n",
                    "    Returns:\n",
                    "        Y_pred -- a value (0/1) corresponding to the prediction of X\n",
                    "    '''\n",
                    "    \n",
                    "    # Apply model's function\n",
                    "    y_logit = np.dot(w, x) + b\n",
                    "    \n",
                    "    # Apply sigmoid to get prediction probability\n",
                    "    y_pred_prob = 1 / (1 + np.exp(-y_logit)) \n",
                    "    \n",
                    "    # Round up to 0 or 1\n",
                    "    y_pred = 1 if y_pred_prob >= 0.5 else 0\n",
                    "    \n",
                    "    return y_pred"
               ]
          },
          {
               "cell_type": "code",
               "execution_count": 7,
               "id": "2ed45ce3",
               "metadata": {
                    "ExecuteTime": {
                         "end_time": "2023-10-16T08:03:58.410742Z",
                         "start_time": "2023-10-16T08:03:58.402550Z"
                    },
                    "scrolled": true
               },
               "outputs": [],
               "source": [
                    "def accuracy (w, b, Rdd_Xy):\n",
                    "    '''    \n",
                    "    Arguments:\n",
                    "        w -- weights\n",
                    "        b -- bias\n",
                    "        Rdd_Xy -- rdd containing examples to be predicted\n",
                    "    Returns:\n",
                    "        accuracy -- the number of predictions that are correct divided by the number of \n",
                    "            records (examples) in Xy.\n",
                    "    '''\n",
                    "    if 'm' not in globals():\n",
                    "        print(\"Counting number of samples in dataset...\")\n",
                    "        global m\n",
                    "        m = Rdd_Xy.count() # Number of samples\n",
                    "        \n",
                    "    accuracy = 0\n",
                    "    \n",
                    "    print(\"\\nCalculating accuracy...\")\n",
                    "    def map_accuracy(x):\n",
                    "        X, y = x\n",
                    "        y_pred = predict(w, b, X)\n",
                    "        return 1 if y_pred == y else 0\n",
                    "    \n",
                    "    rdd_accuracy = Rdd_Xy.map(map_accuracy)\n",
                    "    accuracy = rdd_accuracy.reduce(lambda x, y: x + y)\n",
                    "    accuracy /= m\n",
                    "    \n",
                    "    return accuracy"
               ]
          },
          {
               "cell_type": "markdown",
               "id": "a9fa96d6",
               "metadata": {},
               "source": [
                    "# MAIN Code"
               ]
          },
          {
               "cell_type": "code",
               "execution_count": 8,
               "id": "1b11f519",
               "metadata": {
                    "ExecuteTime": {
                         "end_time": "2023-10-16T08:05:48.821394Z",
                         "start_time": "2023-10-16T08:03:58.412842Z"
                    }
               },
               "outputs": [
                    {
                         "name": "stdout",
                         "output_type": "stream",
                         "text": [
                              "Getting input data from file: botnet_tot_syn_l.csv\n",
                              "Counting number of samples in dataset...\n"
                         ]
                    },
                    {
                         "name": "stderr",
                         "output_type": "stream",
                         "text": [
                              "                                                                                \r"
                         ]
                    },
                    {
                         "name": "stdout",
                         "output_type": "stream",
                         "text": [
                              "There's a total of 1000000 elements in the dataset!\n",
                              "\n",
                              "Dataset normalization in progress...\n",
                              "\n",
                              "Calculating mean values...\n"
                         ]
                    },
                    {
                         "name": "stderr",
                         "output_type": "stream",
                         "text": [
                              "                                                                                \r"
                         ]
                    },
                    {
                         "name": "stdout",
                         "output_type": "stream",
                         "text": [
                              "Calculated Mean: [1.28153827e+03 2.12827672e+04 6.94805718e+03 6.26311961e+04\n",
                              " 1.22198595e+08 1.57222361e+07 9.10731393e+00 1.88975480e+00\n",
                              " 1.24270159e+02 2.13060301e+09 2.26149180e+09]\n",
                              "\n",
                              "Calculating stddev values...\n"
                         ]
                    },
                    {
                         "name": "stderr",
                         "output_type": "stream",
                         "text": [
                              "[Stage 2:================================>                          (5 + 4) / 9]\r"
                         ]
                    },
                    {
                         "name": "stdout",
                         "output_type": "stream",
                         "text": [
                              "Calculated Stddev: [1.60589322e+03 2.41174750e+04 1.63949454e+04 1.34264218e+05\n",
                              " 2.33920714e+08 4.41237795e+07 5.28172581e+00 2.10134561e+00\n",
                              " 9.03431222e+01 7.13843443e+08 1.30153195e+09]\n",
                              "\n",
                              "Normalizing...\n",
                              "Training...\n"
                         ]
                    },
                    {
                         "name": "stderr",
                         "output_type": "stream",
                         "text": [
                              "\r\n",
                              "[Stage 2:=============================================>             (7 + 2) / 9]\r\n",
                              "\r\n",
                              "                                                                                \r"
                         ]
                    },
                    {
                         "data": {
                              "application/vnd.jupyter.widget-view+json": {
                                   "model_id": "f5caeda856394b109d09e89b52c56a11",
                                   "version_major": 2,
                                   "version_minor": 0
                              },
                              "text/plain": [
                                   "Iterations:   0%|          | 0/10 [00:00<?, ?it/s]"
                              ]
                         },
                         "metadata": {},
                         "output_type": "display_data"
                    },
                    {
                         "name": "stderr",
                         "output_type": "stream",
                         "text": [
                              "                                                                                \r"
                         ]
                    },
                    {
                         "name": "stdout",
                         "output_type": "stream",
                         "text": [
                              "Iteration: 0 - Cost: 1.83476515648635\n"
                         ]
                    },
                    {
                         "name": "stderr",
                         "output_type": "stream",
                         "text": [
                              "                                                                                \r"
                         ]
                    },
                    {
                         "name": "stdout",
                         "output_type": "stream",
                         "text": [
                              "Iteration: 1 - Cost: 0.9581154219742667\n"
                         ]
                    },
                    {
                         "name": "stderr",
                         "output_type": "stream",
                         "text": [
                              "                                                                                \r"
                         ]
                    },
                    {
                         "name": "stdout",
                         "output_type": "stream",
                         "text": [
                              "Iteration: 2 - Cost: 0.557545768513042\n"
                         ]
                    },
                    {
                         "name": "stderr",
                         "output_type": "stream",
                         "text": [
                              "                                                                                \r"
                         ]
                    },
                    {
                         "name": "stdout",
                         "output_type": "stream",
                         "text": [
                              "Iteration: 3 - Cost: 0.3975324852001241\n"
                         ]
                    },
                    {
                         "name": "stderr",
                         "output_type": "stream",
                         "text": [
                              "                                                                                \r"
                         ]
                    },
                    {
                         "name": "stdout",
                         "output_type": "stream",
                         "text": [
                              "Iteration: 4 - Cost: 0.32437923279065317\n"
                         ]
                    },
                    {
                         "name": "stderr",
                         "output_type": "stream",
                         "text": [
                              "                                                                                \r"
                         ]
                    },
                    {
                         "name": "stdout",
                         "output_type": "stream",
                         "text": [
                              "Iteration: 5 - Cost: 0.28454734272405907\n"
                         ]
                    },
                    {
                         "name": "stderr",
                         "output_type": "stream",
                         "text": [
                              "                                                                                \r"
                         ]
                    },
                    {
                         "name": "stdout",
                         "output_type": "stream",
                         "text": [
                              "Iteration: 6 - Cost: 0.2598391496905775\n"
                         ]
                    },
                    {
                         "name": "stderr",
                         "output_type": "stream",
                         "text": [
                              "                                                                                \r"
                         ]
                    },
                    {
                         "name": "stdout",
                         "output_type": "stream",
                         "text": [
                              "Iteration: 7 - Cost: 0.24308830379987342\n"
                         ]
                    },
                    {
                         "name": "stderr",
                         "output_type": "stream",
                         "text": [
                              "                                                                                \r"
                         ]
                    },
                    {
                         "name": "stdout",
                         "output_type": "stream",
                         "text": [
                              "Iteration: 8 - Cost: 0.23100665949192015\n"
                         ]
                    },
                    {
                         "name": "stderr",
                         "output_type": "stream",
                         "text": [
                              "                                                                                \r"
                         ]
                    },
                    {
                         "name": "stdout",
                         "output_type": "stream",
                         "text": [
                              "Iteration: 9 - Cost: 0.22189038969883715\n",
                              "\n",
                              "Calculating accuracy...\n"
                         ]
                    },
                    {
                         "name": "stderr",
                         "output_type": "stream",
                         "text": [
                              "                                                                                \r"
                         ]
                    },
                    {
                         "name": "stdout",
                         "output_type": "stream",
                         "text": [
                              "Accuracy: 92.7318 %\n"
                         ]
                    },
                    {
                         "data": {
                              "image/png": "[encoded data removed]",
                              "text/plain": [
                                   "<Figure size 640x480 with 1 Axes>"
                              ]
                         },
                         "metadata": {},
                         "output_type": "display_data"
                    }
               ],
               "source": [
                    "NUM_ITER = 10\n",
                    "LR = 1.5\n",
                    "\n",
                    "# Read data from file\n",
                    "Rdd_Xy = readFile('botnet_tot_syn_l.csv')\n",
                    "\n",
                    "# Normalize data\n",
                    "Rdd_Xy_normalized = normalize(Rdd_Xy)\n",
                    "\n",
                    "# Train Model\n",
                    "w = train(Rdd_Xy_normalized, NUM_ITER, LR)\n",
                    "\n",
                    "# Calculate Accuracy\n",
                    "acc = accuracy(w[:-1], w[-1], Rdd_Xy_normalized)\n",
                    "print(f\"Accuracy: {(acc*100):.4f} %\")"
               ]
          }
     ],
     "metadata": {
          "kernelspec": {
               "display_name": "Python 3 (ipykernel)",
               "language": "python",
               "name": "python3"
          },
          "language_info": {
               "codemirror_mode": {
                    "name": "ipython",
                    "version": 3
               },
               "file_extension": ".py",
               "mimetype": "text/x-python",
               "name": "python",
               "nbconvert_exporter": "python",
               "pygments_lexer": "ipython3",
               "version": "3.7.16"
          },
          "toc": {
               "base_numbering": 1,
               "nav_menu": {},
               "number_sections": true,
               "sideBar": true,
               "skip_h1_title": false,
               "title_cell": "Table of Contents",
               "title_sidebar": "Contents",
               "toc_cell": false,
               "toc_position": {},
               "toc_section_display": true,
               "toc_window_display": false
          }
     },
     "nbformat": 4,
     "nbformat_minor": 5
}
