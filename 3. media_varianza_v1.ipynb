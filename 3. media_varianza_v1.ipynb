{

 "cells": [

  {

   "cell_type": "code",

   "execution_count": 1,

   "id": "49e14336",

   "metadata": {

    "ExecuteTime": {

     "end_time": "2023-09-29T17:59:09.491694Z",

     "start_time": "2023-09-29T17:59:05.986878Z"

    }

   },

   "outputs": [

    {

     "name": "stdout",

     "output_type": "stream",

     "text": [

      "23/09/29 19:59:07 WARN Utils: Your hostname, vm resolves to a loopback address: 127.0.1.1; using 10.0.2.15 instead (on interface enp0s3)\n",

      "23/09/29 19:59:07 WARN Utils: Set SPARK_LOCAL_IP if you need to bind to another address\n"

     ]

    },

    {

     "name": "stderr",

     "output_type": "stream",

     "text": [

      "Setting default log level to \"WARN\".\n",

      "To adjust logging level use sc.setLogLevel(newLevel). For SparkR, use setLogLevel(newLevel).\n"

     ]

    },

    {

     "name": "stdout",

     "output_type": "stream",

     "text": [

      "23/09/29 19:59:07 WARN NativeCodeLoader: Unable to load native-hadoop library for your platform... using builtin-java classes where applicable\n",

      "23/09/29 19:59:09 WARN Utils: Service 'SparkUI' could not bind on port 4040. Attempting port 4041.\n"

     ]

    }

   ],

   "source": [

    "import findspark\n",

    "from pyspark import SparkContext\n",

    "import math\n",

    "\n",

    "findspark.init()\n",

    "sc = SparkContext(\"local[*]\", \"Name of the Program\")"

   ]

  },

  {

   "cell_type": "code",

   "execution_count": 2,

   "id": "72810292",

   "metadata": {

    "ExecuteTime": {

     "end_time": "2023-09-29T17:59:10.038969Z",

     "start_time": "2023-09-29T17:59:09.495777Z"

    },

    "scrolled": true

   },

   "outputs": [],

   "source": [

    "# Read file\n",

    "rdd1 = sc.textFile(\"data_ok.csv\")"

   ]

  },

  {

   "cell_type": "code",

   "execution_count": 5,

   "id": "b6f3822c",

   "metadata": {

    "ExecuteTime": {

     "end_time": "2023-09-29T17:59:30.335793Z",

     "start_time": "2023-09-29T17:59:29.815751Z"

    }

   },

   "outputs": [

    {

     "name": "stdout",

     "output_type": "stream",

     "text": [

      "My Mean: 1409608.9152\n",

      "Reference Mean: 1409608.9152000018\n"

     ]

    }

   ],

   "source": [

    "# Take just 4th column and cast to float\n",

    "rdd2 = rdd1.map(lambda x: float(x.split()[3]))\n",

    "\n",

    "# Read num of rows\n",

    "n = rdd2.count()\n",

    "\n",

    "# Add up\n",

    "sum = rdd2.reduce(lambda x, y: x + y)\n",

    "\n",

    "# Calculate the mean\n",

    "my_mean = sum / n\n",

    "mean = rdd2.mean() # Get reference mean calculated with high level function\n",

    "\n",

    "print(f\"My Mean: {my_mean}\")\n",

    "print(f\"Reference Mean: {mean}\")"

   ]

  },

  {

   "cell_type": "code",

   "execution_count": 4,

   "id": "cfb01d82",

   "metadata": {

    "ExecuteTime": {

     "end_time": "2023-09-29T17:59:12.291068Z",

     "start_time": "2023-09-29T17:59:11.835489Z"

    }

   },

   "outputs": [

    {

     "name": "stdout",

     "output_type": "stream",

     "text": [

      "My Variance: 5883755024032.2\n",

      "My Standard Deviation: 2425645.2799270134\n",

      "Reference Standard Deviation: 2425645.279927013\n"

     ]

    }

   ],

   "source": [

    "# Substract mean and square each value\n",

    "rdd3 = rdd2.map(lambda x: (x - mean)**2)\n",

    "\n",

    "# Add up\n",

    "sum = rdd3.reduce(lambda x, y: x + y)\n",

    "\n",

    "# Calculate variance by dividing by number of rows\n",

    "variance = sum / n\n",

    "\n",

    "# Calculate standard deviation by applying square root\n",

    "my_standard_deviation = math.sqrt(variance)\n",

    "standard_deviation = rdd2.stdev() # Get reference stdev calculated with high level function\n",

    "\n",

    "print(f\"My Variance: {variance}\")\n",

    "print(f\"My Standard Deviation: {my_standard_deviation}\")\n",

    "print(f\"Reference Standard Deviation: {standard_deviation}\")"

   ]

  }

 ],

 "metadata": {

  "kernelspec": {

   "display_name": "Python 3 (ipykernel)",

   "language": "python",

   "name": "python3"

  },

  "language_info": {

   "codemirror_mode": {

    "name": "ipython",

    "version": 3

   },

   "file_extension": ".py",

   "mimetype": "text/x-python",

   "name": "python",

   "nbconvert_exporter": "python",

   "pygments_lexer": "ipython3",

   "version": "3.7.16"

  },

  "toc": {

   "base_numbering": 1,

   "nav_menu": {},

   "number_sections": true,

   "sideBar": true,

   "skip_h1_title": false,

   "title_cell": "Table of Contents",

   "title_sidebar": "Contents",

   "toc_cell": false,

   "toc_position": {},

   "toc_section_display": true,

   "toc_window_display": false

  }

 },

 "nbformat": 4,

 "nbformat_minor": 5

}